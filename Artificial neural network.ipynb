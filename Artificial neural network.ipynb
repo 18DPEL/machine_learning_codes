{
 "cells": [
  {
   "cell_type": "markdown",
   "id": "a15f4688",
   "metadata": {},
   "source": [
    "# Artificial neural network"
   ]
  },
  {
   "cell_type": "code",
   "execution_count": 1,
   "id": "3dd17151",
   "metadata": {},
   "outputs": [],
   "source": [
    "import numpy as np"
   ]
  },
  {
   "cell_type": "code",
   "execution_count": 2,
   "id": "0e26fb41",
   "metadata": {},
   "outputs": [],
   "source": [
    "#assign input values "
   ]
  },
  {
   "cell_type": "code",
   "execution_count": 4,
   "id": "b2c3b95d",
   "metadata": {},
   "outputs": [
    {
     "data": {
      "text/plain": [
       "array([[0, 0],\n",
       "       [0, 1],\n",
       "       [1, 1],\n",
       "       [1, 0]])"
      ]
     },
     "execution_count": 4,
     "metadata": {},
     "output_type": "execute_result"
    }
   ],
   "source": [
    "input_value = np.array([[0,0],[0,1],[1,1],[1,0]])\n",
    "input_value.shape\n",
    "input_value"
   ]
  },
  {
   "cell_type": "code",
   "execution_count": 5,
   "id": "67159ec5",
   "metadata": {},
   "outputs": [],
   "source": [
    "#assign output values"
   ]
  },
  {
   "cell_type": "code",
   "execution_count": 6,
   "id": "6e0aa573",
   "metadata": {},
   "outputs": [
    {
     "data": {
      "text/plain": [
       "(4, 1)"
      ]
     },
     "execution_count": 6,
     "metadata": {},
     "output_type": "execute_result"
    }
   ],
   "source": [
    "output =np.array([0,1,1,0])\n",
    "output= output.reshape(4,1)\n",
    "output.shape"
   ]
  },
  {
   "cell_type": "code",
   "execution_count": 7,
   "id": "3122e43a",
   "metadata": {},
   "outputs": [],
   "source": [
    "#assign weights"
   ]
  },
  {
   "cell_type": "code",
   "execution_count": 8,
   "id": "55800354",
   "metadata": {},
   "outputs": [
    {
     "data": {
      "text/plain": [
       "array([[0.1],\n",
       "       [0.2]])"
      ]
     },
     "execution_count": 8,
     "metadata": {},
     "output_type": "execute_result"
    }
   ],
   "source": [
    "weights=np.array([[0.1],[0.2]])\n",
    "weights"
   ]
  },
  {
   "cell_type": "code",
   "execution_count": 9,
   "id": "451cd3cc",
   "metadata": {},
   "outputs": [],
   "source": [
    "#add bias"
   ]
  },
  {
   "cell_type": "code",
   "execution_count": 10,
   "id": "991a1f6b",
   "metadata": {},
   "outputs": [],
   "source": [
    "bias =0.3"
   ]
  },
  {
   "cell_type": "code",
   "execution_count": 11,
   "id": "43c6e52a",
   "metadata": {},
   "outputs": [],
   "source": [
    "#activation function"
   ]
  },
  {
   "cell_type": "code",
   "execution_count": 13,
   "id": "d9206d01",
   "metadata": {},
   "outputs": [],
   "source": [
    "def sigmoid_func(x):\n",
    "    return 1/(1+np.exp(-x))"
   ]
  },
  {
   "cell_type": "code",
   "execution_count": 15,
   "id": "eaa1b843",
   "metadata": {},
   "outputs": [],
   "source": [
    "# derivative of sigmoid function"
   ]
  },
  {
   "cell_type": "code",
   "execution_count": 16,
   "id": "f0f2c957",
   "metadata": {},
   "outputs": [],
   "source": [
    "def der(x):\n",
    "    return sigmoid_func(x)*(1-sigmoid_func(x))"
   ]
  },
  {
   "cell_type": "code",
   "execution_count": 17,
   "id": "a6d86211",
   "metadata": {},
   "outputs": [],
   "source": [
    "#updating weights"
   ]
  },
  {
   "cell_type": "code",
   "execution_count": 21,
   "id": "cdc07832",
   "metadata": {},
   "outputs": [
    {
     "name": "stdout",
     "output_type": "stream",
     "text": [
      "[[-0.41953547]\n",
      " [ 8.98887811]]\n",
      "[-4.19706344]\n"
     ]
    }
   ],
   "source": [
    "for epochs in range(10000):\n",
    "    input_arr = input_value\n",
    "    \n",
    "    weighted_sum=np.dot(input_arr,weights)+bias\n",
    "    first_output=sigmoid_func(weighted_sum)\n",
    "    \n",
    "    error=first_output-output\n",
    "    total_error=np.square(np.subtract(first_output,output)).mean()\n",
    "    #print(total_error)\n",
    "    \n",
    "    first_der=error\n",
    "    second_der=der(first_output)\n",
    "    derivative= first_der*second_der\n",
    "    \n",
    "    t_input=input_value.T\n",
    "    final_derivative=np.dot(t_input,derivative)\n",
    "    \n",
    "    \n",
    "    #update weights\n",
    "    weights=weights- 0.05 *final_derivative\n",
    "    \n",
    "    #update bias\n",
    "    \n",
    "    for i in derivative:\n",
    "        bias = bias - 0.05 * i\n",
    "        \n",
    "print(weights)\n",
    "print(bias)"
   ]
  },
  {
   "cell_type": "code",
   "execution_count": 24,
   "id": "46e1ff85",
   "metadata": {},
   "outputs": [
    {
     "name": "stdout",
     "output_type": "stream",
     "text": [
      "[0.00978958]\n"
     ]
    }
   ],
   "source": [
    "#predictions\n",
    "\n",
    "pred=np.array([1,0])\n",
    "\n",
    "result =np.dot(pred,weights)+bias\n",
    "res=sigmoid_func(result)\n",
    "print(res)"
   ]
  },
  {
   "cell_type": "code",
   "execution_count": null,
   "id": "afa27b16",
   "metadata": {},
   "outputs": [],
   "source": []
  }
 ],
 "metadata": {
  "kernelspec": {
   "display_name": "Python 3",
   "language": "python",
   "name": "python3"
  },
  "language_info": {
   "codemirror_mode": {
    "name": "ipython",
    "version": 3
   },
   "file_extension": ".py",
   "mimetype": "text/x-python",
   "name": "python",
   "nbconvert_exporter": "python",
   "pygments_lexer": "ipython3",
   "version": "3.8.8"
  }
 },
 "nbformat": 4,
 "nbformat_minor": 5
}
