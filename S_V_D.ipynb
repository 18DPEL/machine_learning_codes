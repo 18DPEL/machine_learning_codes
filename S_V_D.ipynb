{
 "cells": [
  {
   "cell_type": "code",
   "execution_count": 297,
   "id": "407c2d28",
   "metadata": {},
   "outputs": [],
   "source": [
    "import numpy as np\n",
    "from numpy import mean\n",
    "from numpy import std\n",
    "from sklearn.datasets import make_classification\n"
   ]
  },
  {
   "cell_type": "code",
   "execution_count": 298,
   "id": "f0380f81",
   "metadata": {},
   "outputs": [],
   "source": [
    "def get_dataset():\n",
    "    x,y=make_classification(n_samples=1000,n_features=20,n_informative=15,n_redundant=2)\n",
    "    return x,y"
   ]
  },
  {
   "cell_type": "code",
   "execution_count": 299,
   "id": "f2dcb76f",
   "metadata": {},
   "outputs": [
    {
     "data": {
      "text/plain": [
       "(1000, 20)"
      ]
     },
     "execution_count": 299,
     "metadata": {},
     "output_type": "execute_result"
    }
   ],
   "source": [
    "x,y=get_dataset()\n",
    "x.shape"
   ]
  },
  {
   "cell_type": "code",
   "execution_count": 300,
   "id": "60579f3a",
   "metadata": {},
   "outputs": [
    {
     "data": {
      "text/plain": [
       "(1000,)"
      ]
     },
     "execution_count": 300,
     "metadata": {},
     "output_type": "execute_result"
    }
   ],
   "source": [
    "y.shape"
   ]
  },
  {
   "cell_type": "code",
   "execution_count": 301,
   "id": "04eb8336",
   "metadata": {},
   "outputs": [],
   "source": [
    "from sklearn.pipeline import Pipeline\n",
    "from sklearn.linear_model import LogisticRegression\n",
    "from sklearn.decomposition import TruncatedSVD\n",
    "\n",
    "# get a list of  model to evaluate \n",
    "def get_models():\n",
    "    models=dict()\n",
    "    for i in range(20):\n",
    "        steps=[('svd',TruncatedSVD(n_components=i)),('m',LogisticRegression())]\n",
    "        models[str(i)]=Pipeline(steps=steps)\n",
    "        return models"
   ]
  },
  {
   "cell_type": "code",
   "execution_count": 302,
   "id": "29b6e018",
   "metadata": {},
   "outputs": [],
   "source": [
    "from sklearn.model_selection import RepeatedStratifiedKFold\n",
    "\n",
    "#evaluate a given model using cross-validation\n",
    "\n",
    "def evaluate_model(model,x,y):\n",
    "    cv=RepeatedStratifiedKFold(n_splits=10,n_repeats=3,random_state=1)\n",
    "    scores=cross_val_score(model,x,y,scoring='accuracy',cv=cv,n_jobs=-1,error_score=0)\n",
    "    return scores"
   ]
  },
  {
   "cell_type": "code",
   "execution_count": 303,
   "id": "f65e607e",
   "metadata": {},
   "outputs": [
    {
     "name": "stdout",
     "output_type": "stream",
     "text": [
      ">0 0.000 (0.000)\n"
     ]
    }
   ],
   "source": [
    "from sklearn.model_selection import cross_val_score\n",
    "#define dataset\n",
    "x,y=get_dataset()\n",
    "#get the model to evaluate\n",
    "\n",
    "models=get_models()\n",
    "#evaluate the models and store result\n",
    "\n",
    "results,names=list(),list()\n",
    "for name, model in models.items():\n",
    "    scores=evaluate_model(model,x,y)\n",
    "    results.append(scores)\n",
    "    names.append(name)\n",
    "    print('>%s %.3f (%.3f)' % (name,mean(scores),std(scores)))"
   ]
  },
  {
   "cell_type": "code",
   "execution_count": 304,
   "id": "9415786f",
   "metadata": {},
   "outputs": [],
   "source": [
    "model=get_models()"
   ]
  },
  {
   "cell_type": "code",
   "execution_count": 305,
   "id": "6398305f",
   "metadata": {},
   "outputs": [
    {
     "data": {
      "text/plain": [
       "{'0': Pipeline(steps=[('svd', TruncatedSVD(n_components=0)),\n",
       "                 ('m', LogisticRegression())])}"
      ]
     },
     "execution_count": 305,
     "metadata": {},
     "output_type": "execute_result"
    }
   ],
   "source": [
    "model"
   ]
  },
  {
   "cell_type": "code",
   "execution_count": 306,
   "id": "a60c8f0d",
   "metadata": {},
   "outputs": [],
   "source": [
    "X,Y=make_classification(n_samples=100,n_features=20,n_informative=15,n_redundant=2)"
   ]
  },
  {
   "cell_type": "code",
   "execution_count": 307,
   "id": "43d0824b",
   "metadata": {},
   "outputs": [
    {
     "data": {
      "text/plain": [
       "(100, 20)"
      ]
     },
     "execution_count": 307,
     "metadata": {},
     "output_type": "execute_result"
    }
   ],
   "source": [
    "X.shape"
   ]
  },
  {
   "cell_type": "code",
   "execution_count": 308,
   "id": "3c08b006",
   "metadata": {},
   "outputs": [
    {
     "data": {
      "text/plain": [
       "(100,)"
      ]
     },
     "execution_count": 308,
     "metadata": {},
     "output_type": "execute_result"
    }
   ],
   "source": [
    "Y.shape"
   ]
  },
  {
   "cell_type": "code",
   "execution_count": 309,
   "id": "556d8a12",
   "metadata": {},
   "outputs": [
    {
     "data": {
      "text/plain": [
       "array([[ 8.81853579, -0.28572392, -0.42178516, ..., -0.14486222,\n",
       "        -0.68505116,  3.68365917],\n",
       "       [ 1.22932605, -1.84099719, -1.55298794, ..., -1.60437784,\n",
       "        -0.98192084,  1.38139304],\n",
       "       [-3.14090153,  1.24443666, -0.09382294, ..., -3.35078816,\n",
       "         1.99088748, -2.10106765],\n",
       "       ...,\n",
       "       [-0.31460236, -2.13261527,  0.2114595 , ..., -2.26045933,\n",
       "         0.51130068,  0.27716685],\n",
       "       [ 1.71773494, -2.46610677, -2.17136418, ..., -1.67244181,\n",
       "        -0.57457396,  7.1002087 ],\n",
       "       [-2.36510027, -1.00273765, -1.32868303, ...,  3.9500971 ,\n",
       "        -1.81980046, -5.16193311]])"
      ]
     },
     "execution_count": 309,
     "metadata": {},
     "output_type": "execute_result"
    }
   ],
   "source": [
    "X"
   ]
  },
  {
   "cell_type": "code",
   "execution_count": 310,
   "id": "7dfc2852",
   "metadata": {},
   "outputs": [
    {
     "data": {
      "text/plain": [
       "array([1, 0, 1, 0, 0, 0, 0, 0, 1, 0, 0, 0, 1, 1, 1, 1, 1, 1, 1, 0, 1, 1,\n",
       "       1, 1, 0, 0, 1, 0, 1, 0, 0, 0, 1, 1, 0, 1, 0, 1, 0, 0, 1, 1, 1, 1,\n",
       "       1, 1, 0, 1, 1, 1, 1, 1, 0, 0, 0, 1, 0, 0, 1, 1, 1, 0, 1, 1, 0, 0,\n",
       "       1, 1, 0, 0, 0, 0, 1, 0, 0, 0, 0, 0, 0, 1, 1, 0, 1, 0, 0, 1, 0, 0,\n",
       "       1, 1, 0, 1, 0, 0, 1, 0, 1, 1, 0, 0])"
      ]
     },
     "execution_count": 310,
     "metadata": {},
     "output_type": "execute_result"
    }
   ],
   "source": [
    "Y"
   ]
  },
  {
   "cell_type": "code",
   "execution_count": 311,
   "id": "c886a22f",
   "metadata": {},
   "outputs": [],
   "source": [
    "svd=TruncatedSVD()\n",
    "svd.fit(X)\n",
    "transformed=svd.transform(X)"
   ]
  },
  {
   "cell_type": "code",
   "execution_count": 312,
   "id": "a204fefc",
   "metadata": {},
   "outputs": [
    {
     "data": {
      "text/plain": [
       "array([[  8.49939835,  -4.36663645],\n",
       "       [  2.98260835,   7.39545779],\n",
       "       [ -3.49724919,  -1.88901402],\n",
       "       [ -5.95343807,   6.89069109],\n",
       "       [  9.38989109,   2.46187766],\n",
       "       [ -4.00611912,   8.45930015],\n",
       "       [  5.21326729,   4.9812641 ],\n",
       "       [ -0.29869647,  -2.74279199],\n",
       "       [ -1.53482588,   3.30493154],\n",
       "       [  3.57473653,   0.35942271],\n",
       "       [ 21.07219241,   1.53281492],\n",
       "       [ -1.10376075,   8.09922627],\n",
       "       [ -3.57539675,   4.61946932],\n",
       "       [ -1.79180215,  -7.25246003],\n",
       "       [  3.65933776,   0.50239711],\n",
       "       [-11.46268813,  -5.90667365],\n",
       "       [  4.52470352,   9.12710628],\n",
       "       [ -3.81880215,   2.55766456],\n",
       "       [  5.10515075, -11.50368939],\n",
       "       [  7.30747336,  -5.15802717],\n",
       "       [  9.08771072,   2.56034485],\n",
       "       [  8.00322318,  -7.08540365],\n",
       "       [ -2.22290633,   1.27286894],\n",
       "       [ -1.90181292,  -0.59503075],\n",
       "       [  0.40841465,   1.75468028],\n",
       "       [ -0.58339831,   0.06775726],\n",
       "       [ -1.66150087,  -0.03690586],\n",
       "       [  5.24926129,  -2.20539887],\n",
       "       [ -0.43172957,  -2.227967  ],\n",
       "       [ 10.50507586,  -5.43966675],\n",
       "       [ -1.03128885,   7.82628084],\n",
       "       [ -7.39175256,  16.13058051],\n",
       "       [  3.11378291,  -3.25395358],\n",
       "       [ -0.34525083,  -4.74394472],\n",
       "       [  2.72372137,  -3.54009802],\n",
       "       [  3.87517192,  -2.24165067],\n",
       "       [ 12.81952932,  -1.50472365],\n",
       "       [ 14.991638  ,   9.9197277 ],\n",
       "       [ -5.1820745 ,   0.48694796],\n",
       "       [  3.33092227,   9.73784758],\n",
       "       [  4.44317683,  -3.73889632],\n",
       "       [ -4.439898  ,  -3.54993015],\n",
       "       [ -4.93095807,   0.42562844],\n",
       "       [  2.39029809,   1.96395172],\n",
       "       [  6.39376218,  -5.14063318],\n",
       "       [ -4.89223342,  -2.67269715],\n",
       "       [  9.0426343 ,  -6.36102252],\n",
       "       [  6.30691312, -13.31837547],\n",
       "       [  2.12124634,   1.36840618],\n",
       "       [  0.34406469,   4.37959093],\n",
       "       [  6.56055362,   5.26267446],\n",
       "       [ -1.79741398,  -2.42931856],\n",
       "       [ 11.75195552,   7.11460765],\n",
       "       [  3.89814325,  -3.77670883],\n",
       "       [ 12.44978117,   1.13142859],\n",
       "       [  4.23748621,  -1.21751297],\n",
       "       [  8.13427931,  -4.4368484 ],\n",
       "       [ 11.90428673,  -2.61246746],\n",
       "       [  5.41619144,   2.64175702],\n",
       "       [  0.98009024,   8.17601234],\n",
       "       [ -1.02530635,  -8.19509765],\n",
       "       [  3.95607574,  -4.03552042],\n",
       "       [ -4.66687667,  -7.64287665],\n",
       "       [  9.67666894,  -0.77397964],\n",
       "       [  2.34668848,   1.53166212],\n",
       "       [  5.44172722,  12.51117846],\n",
       "       [ -2.3275541 ,  -1.23275371],\n",
       "       [ -5.9375137 ,   1.71145812],\n",
       "       [ 11.29453798,   4.96978175],\n",
       "       [  5.58284798,  -3.02540771],\n",
       "       [ -2.75805832, -12.62439897],\n",
       "       [ 12.56343364,   4.48512826],\n",
       "       [  2.30590488,   3.40703193],\n",
       "       [  6.04616951,  -0.84627577],\n",
       "       [  2.63249089,   5.08897399],\n",
       "       [ 13.86450676,  -4.85959569],\n",
       "       [  2.55487853,   8.19249717],\n",
       "       [  3.30303091,  10.34491964],\n",
       "       [  3.08129625,  -1.63462369],\n",
       "       [  5.33058257,  -5.68209052],\n",
       "       [  3.74386423,  -0.211003  ],\n",
       "       [  3.02313068,   5.4296437 ],\n",
       "       [ 10.72362967,   5.41335447],\n",
       "       [ 13.92480369,   7.95890814],\n",
       "       [ -4.91226877,  13.1204425 ],\n",
       "       [  5.26676854,  -7.27728023],\n",
       "       [  1.44664396,   1.14408425],\n",
       "       [  4.12473112,   1.50709344],\n",
       "       [  2.19520409,   2.85272136],\n",
       "       [ -4.24280569,  -6.84085217],\n",
       "       [-11.31735127,   3.9891533 ],\n",
       "       [  1.10089461,  -4.50939345],\n",
       "       [  1.99316571, -15.03239137],\n",
       "       [ 14.52518989,  -4.44564563],\n",
       "       [ -3.40999113,   3.31787038],\n",
       "       [  3.74315213,  -3.28398152],\n",
       "       [  9.87651706,  -0.67042132],\n",
       "       [  0.96789021,   5.46954275],\n",
       "       [  2.11240935,  11.91762793],\n",
       "       [ -3.48400295,  -8.20848097]])"
      ]
     },
     "execution_count": 312,
     "metadata": {},
     "output_type": "execute_result"
    }
   ],
   "source": [
    "transformed"
   ]
  },
  {
   "cell_type": "code",
   "execution_count": 313,
   "id": "471f5860",
   "metadata": {},
   "outputs": [
    {
     "data": {
      "text/plain": [
       "100"
      ]
     },
     "execution_count": 313,
     "metadata": {},
     "output_type": "execute_result"
    }
   ],
   "source": [
    "len(transformed)"
   ]
  },
  {
   "cell_type": "code",
   "execution_count": 314,
   "id": "3c1e82dd",
   "metadata": {},
   "outputs": [
    {
     "data": {
      "text/plain": [
       "array([1, 0, 1, 0, 0, 0, 0, 0, 1, 0, 0, 0, 1, 1, 1, 1, 1, 1, 1, 0, 1, 1,\n",
       "       1, 1, 0, 0, 1, 0, 1, 0, 0, 0, 1, 1, 0, 1, 0, 1, 0, 0, 1, 1, 1, 1,\n",
       "       1, 1, 0, 1, 1, 1, 1, 1, 0, 0, 0, 1, 0, 0, 1, 1, 1, 0, 1, 1, 0, 0,\n",
       "       1, 1, 0, 0, 0, 0, 1, 0, 0, 0, 0, 0, 0, 1, 1, 0, 1, 0, 0, 1, 0, 0,\n",
       "       1, 1, 0, 1, 0, 0, 1, 0, 1, 1, 0, 0])"
      ]
     },
     "execution_count": 314,
     "metadata": {},
     "output_type": "execute_result"
    }
   ],
   "source": [
    "Y"
   ]
  },
  {
   "cell_type": "code",
   "execution_count": 315,
   "id": "21fdf213",
   "metadata": {},
   "outputs": [
    {
     "data": {
      "text/plain": [
       "LogisticRegression()"
      ]
     },
     "execution_count": 315,
     "metadata": {},
     "output_type": "execute_result"
    }
   ],
   "source": [
    "model=LogisticRegression()\n",
    "model.fit(transformed,Y)"
   ]
  },
  {
   "cell_type": "code",
   "execution_count": 316,
   "id": "5de927fe",
   "metadata": {},
   "outputs": [],
   "source": [
    "Y_pred=model.predict(transformed)"
   ]
  },
  {
   "cell_type": "code",
   "execution_count": 317,
   "id": "6f27961c",
   "metadata": {},
   "outputs": [
    {
     "data": {
      "text/plain": [
       "0.63"
      ]
     },
     "execution_count": 317,
     "metadata": {},
     "output_type": "execute_result"
    }
   ],
   "source": [
    "\n",
    "model.score(transformed,Y)"
   ]
  },
  {
   "cell_type": "code",
   "execution_count": 318,
   "id": "13b7fac9",
   "metadata": {},
   "outputs": [],
   "source": [
    "from sklearn.metrics import mean_absolute_error\n",
    "m_a_e=mean_absolute_error(Y_pred,Y)"
   ]
  },
  {
   "cell_type": "code",
   "execution_count": 319,
   "id": "270e89a1",
   "metadata": {},
   "outputs": [
    {
     "data": {
      "text/plain": [
       "0.37"
      ]
     },
     "execution_count": 319,
     "metadata": {},
     "output_type": "execute_result"
    }
   ],
   "source": [
    "m_a_e"
   ]
  },
  {
   "cell_type": "markdown",
   "id": "bfc7917c",
   "metadata": {},
   "source": [
    "\n",
    "\n",
    "# Performing SVD on wine Quality Dataset"
   ]
  },
  {
   "cell_type": "code",
   "execution_count": 320,
   "id": "a050c8ad",
   "metadata": {},
   "outputs": [],
   "source": [
    "import pandas as pd\n",
    "df1=pd.read_csv('winequalityN.csv')"
   ]
  },
  {
   "cell_type": "code",
   "execution_count": 321,
   "id": "df6ee243",
   "metadata": {},
   "outputs": [
    {
     "data": {
      "text/html": [
       "<div>\n",
       "<style scoped>\n",
       "    .dataframe tbody tr th:only-of-type {\n",
       "        vertical-align: middle;\n",
       "    }\n",
       "\n",
       "    .dataframe tbody tr th {\n",
       "        vertical-align: top;\n",
       "    }\n",
       "\n",
       "    .dataframe thead th {\n",
       "        text-align: right;\n",
       "    }\n",
       "</style>\n",
       "<table border=\"1\" class=\"dataframe\">\n",
       "  <thead>\n",
       "    <tr style=\"text-align: right;\">\n",
       "      <th></th>\n",
       "      <th>type</th>\n",
       "      <th>fixed acidity</th>\n",
       "      <th>volatile acidity</th>\n",
       "      <th>citric acid</th>\n",
       "      <th>residual sugar</th>\n",
       "      <th>chlorides</th>\n",
       "      <th>free sulfur dioxide</th>\n",
       "      <th>total sulfur dioxide</th>\n",
       "      <th>density</th>\n",
       "      <th>pH</th>\n",
       "      <th>sulphates</th>\n",
       "      <th>alcohol</th>\n",
       "      <th>quality</th>\n",
       "    </tr>\n",
       "  </thead>\n",
       "  <tbody>\n",
       "    <tr>\n",
       "      <th>0</th>\n",
       "      <td>white</td>\n",
       "      <td>7.0</td>\n",
       "      <td>0.27</td>\n",
       "      <td>0.36</td>\n",
       "      <td>20.7</td>\n",
       "      <td>0.045</td>\n",
       "      <td>45.0</td>\n",
       "      <td>170.0</td>\n",
       "      <td>1.0010</td>\n",
       "      <td>3.00</td>\n",
       "      <td>0.45</td>\n",
       "      <td>8.8</td>\n",
       "      <td>6</td>\n",
       "    </tr>\n",
       "    <tr>\n",
       "      <th>1</th>\n",
       "      <td>white</td>\n",
       "      <td>6.3</td>\n",
       "      <td>0.30</td>\n",
       "      <td>0.34</td>\n",
       "      <td>1.6</td>\n",
       "      <td>0.049</td>\n",
       "      <td>14.0</td>\n",
       "      <td>132.0</td>\n",
       "      <td>0.9940</td>\n",
       "      <td>3.30</td>\n",
       "      <td>0.49</td>\n",
       "      <td>9.5</td>\n",
       "      <td>6</td>\n",
       "    </tr>\n",
       "    <tr>\n",
       "      <th>2</th>\n",
       "      <td>white</td>\n",
       "      <td>8.1</td>\n",
       "      <td>0.28</td>\n",
       "      <td>0.40</td>\n",
       "      <td>6.9</td>\n",
       "      <td>0.050</td>\n",
       "      <td>30.0</td>\n",
       "      <td>97.0</td>\n",
       "      <td>0.9951</td>\n",
       "      <td>3.26</td>\n",
       "      <td>0.44</td>\n",
       "      <td>10.1</td>\n",
       "      <td>6</td>\n",
       "    </tr>\n",
       "    <tr>\n",
       "      <th>3</th>\n",
       "      <td>white</td>\n",
       "      <td>7.2</td>\n",
       "      <td>0.23</td>\n",
       "      <td>0.32</td>\n",
       "      <td>8.5</td>\n",
       "      <td>0.058</td>\n",
       "      <td>47.0</td>\n",
       "      <td>186.0</td>\n",
       "      <td>0.9956</td>\n",
       "      <td>3.19</td>\n",
       "      <td>0.40</td>\n",
       "      <td>9.9</td>\n",
       "      <td>6</td>\n",
       "    </tr>\n",
       "    <tr>\n",
       "      <th>4</th>\n",
       "      <td>white</td>\n",
       "      <td>7.2</td>\n",
       "      <td>0.23</td>\n",
       "      <td>0.32</td>\n",
       "      <td>8.5</td>\n",
       "      <td>0.058</td>\n",
       "      <td>47.0</td>\n",
       "      <td>186.0</td>\n",
       "      <td>0.9956</td>\n",
       "      <td>3.19</td>\n",
       "      <td>0.40</td>\n",
       "      <td>9.9</td>\n",
       "      <td>6</td>\n",
       "    </tr>\n",
       "  </tbody>\n",
       "</table>\n",
       "</div>"
      ],
      "text/plain": [
       "    type  fixed acidity  volatile acidity  citric acid  residual sugar  \\\n",
       "0  white            7.0              0.27         0.36            20.7   \n",
       "1  white            6.3              0.30         0.34             1.6   \n",
       "2  white            8.1              0.28         0.40             6.9   \n",
       "3  white            7.2              0.23         0.32             8.5   \n",
       "4  white            7.2              0.23         0.32             8.5   \n",
       "\n",
       "   chlorides  free sulfur dioxide  total sulfur dioxide  density    pH  \\\n",
       "0      0.045                 45.0                 170.0   1.0010  3.00   \n",
       "1      0.049                 14.0                 132.0   0.9940  3.30   \n",
       "2      0.050                 30.0                  97.0   0.9951  3.26   \n",
       "3      0.058                 47.0                 186.0   0.9956  3.19   \n",
       "4      0.058                 47.0                 186.0   0.9956  3.19   \n",
       "\n",
       "   sulphates  alcohol  quality  \n",
       "0       0.45      8.8        6  \n",
       "1       0.49      9.5        6  \n",
       "2       0.44     10.1        6  \n",
       "3       0.40      9.9        6  \n",
       "4       0.40      9.9        6  "
      ]
     },
     "execution_count": 321,
     "metadata": {},
     "output_type": "execute_result"
    }
   ],
   "source": [
    "df1.head()"
   ]
  },
  {
   "cell_type": "code",
   "execution_count": 322,
   "id": "e1cf2370",
   "metadata": {},
   "outputs": [
    {
     "data": {
      "text/html": [
       "<div>\n",
       "<style scoped>\n",
       "    .dataframe tbody tr th:only-of-type {\n",
       "        vertical-align: middle;\n",
       "    }\n",
       "\n",
       "    .dataframe tbody tr th {\n",
       "        vertical-align: top;\n",
       "    }\n",
       "\n",
       "    .dataframe thead th {\n",
       "        text-align: right;\n",
       "    }\n",
       "</style>\n",
       "<table border=\"1\" class=\"dataframe\">\n",
       "  <thead>\n",
       "    <tr style=\"text-align: right;\">\n",
       "      <th></th>\n",
       "      <th>fixed acidity</th>\n",
       "      <th>volatile acidity</th>\n",
       "      <th>citric acid</th>\n",
       "      <th>residual sugar</th>\n",
       "      <th>chlorides</th>\n",
       "      <th>free sulfur dioxide</th>\n",
       "      <th>total sulfur dioxide</th>\n",
       "      <th>density</th>\n",
       "      <th>pH</th>\n",
       "      <th>sulphates</th>\n",
       "      <th>alcohol</th>\n",
       "      <th>quality</th>\n",
       "    </tr>\n",
       "  </thead>\n",
       "  <tbody>\n",
       "    <tr>\n",
       "      <th>count</th>\n",
       "      <td>6487.000000</td>\n",
       "      <td>6489.000000</td>\n",
       "      <td>6494.000000</td>\n",
       "      <td>6495.000000</td>\n",
       "      <td>6495.000000</td>\n",
       "      <td>6497.000000</td>\n",
       "      <td>6497.000000</td>\n",
       "      <td>6497.000000</td>\n",
       "      <td>6488.000000</td>\n",
       "      <td>6493.000000</td>\n",
       "      <td>6497.000000</td>\n",
       "      <td>6497.000000</td>\n",
       "    </tr>\n",
       "    <tr>\n",
       "      <th>mean</th>\n",
       "      <td>7.216579</td>\n",
       "      <td>0.339691</td>\n",
       "      <td>0.318722</td>\n",
       "      <td>5.444326</td>\n",
       "      <td>0.056042</td>\n",
       "      <td>30.525319</td>\n",
       "      <td>115.744574</td>\n",
       "      <td>0.994697</td>\n",
       "      <td>3.218395</td>\n",
       "      <td>0.531215</td>\n",
       "      <td>10.491801</td>\n",
       "      <td>5.818378</td>\n",
       "    </tr>\n",
       "    <tr>\n",
       "      <th>std</th>\n",
       "      <td>1.296750</td>\n",
       "      <td>0.164649</td>\n",
       "      <td>0.145265</td>\n",
       "      <td>4.758125</td>\n",
       "      <td>0.035036</td>\n",
       "      <td>17.749400</td>\n",
       "      <td>56.521855</td>\n",
       "      <td>0.002999</td>\n",
       "      <td>0.160748</td>\n",
       "      <td>0.148814</td>\n",
       "      <td>1.192712</td>\n",
       "      <td>0.873255</td>\n",
       "    </tr>\n",
       "    <tr>\n",
       "      <th>min</th>\n",
       "      <td>3.800000</td>\n",
       "      <td>0.080000</td>\n",
       "      <td>0.000000</td>\n",
       "      <td>0.600000</td>\n",
       "      <td>0.009000</td>\n",
       "      <td>1.000000</td>\n",
       "      <td>6.000000</td>\n",
       "      <td>0.987110</td>\n",
       "      <td>2.720000</td>\n",
       "      <td>0.220000</td>\n",
       "      <td>8.000000</td>\n",
       "      <td>3.000000</td>\n",
       "    </tr>\n",
       "    <tr>\n",
       "      <th>25%</th>\n",
       "      <td>6.400000</td>\n",
       "      <td>0.230000</td>\n",
       "      <td>0.250000</td>\n",
       "      <td>1.800000</td>\n",
       "      <td>0.038000</td>\n",
       "      <td>17.000000</td>\n",
       "      <td>77.000000</td>\n",
       "      <td>0.992340</td>\n",
       "      <td>3.110000</td>\n",
       "      <td>0.430000</td>\n",
       "      <td>9.500000</td>\n",
       "      <td>5.000000</td>\n",
       "    </tr>\n",
       "    <tr>\n",
       "      <th>50%</th>\n",
       "      <td>7.000000</td>\n",
       "      <td>0.290000</td>\n",
       "      <td>0.310000</td>\n",
       "      <td>3.000000</td>\n",
       "      <td>0.047000</td>\n",
       "      <td>29.000000</td>\n",
       "      <td>118.000000</td>\n",
       "      <td>0.994890</td>\n",
       "      <td>3.210000</td>\n",
       "      <td>0.510000</td>\n",
       "      <td>10.300000</td>\n",
       "      <td>6.000000</td>\n",
       "    </tr>\n",
       "    <tr>\n",
       "      <th>75%</th>\n",
       "      <td>7.700000</td>\n",
       "      <td>0.400000</td>\n",
       "      <td>0.390000</td>\n",
       "      <td>8.100000</td>\n",
       "      <td>0.065000</td>\n",
       "      <td>41.000000</td>\n",
       "      <td>156.000000</td>\n",
       "      <td>0.996990</td>\n",
       "      <td>3.320000</td>\n",
       "      <td>0.600000</td>\n",
       "      <td>11.300000</td>\n",
       "      <td>6.000000</td>\n",
       "    </tr>\n",
       "    <tr>\n",
       "      <th>max</th>\n",
       "      <td>15.900000</td>\n",
       "      <td>1.580000</td>\n",
       "      <td>1.660000</td>\n",
       "      <td>65.800000</td>\n",
       "      <td>0.611000</td>\n",
       "      <td>289.000000</td>\n",
       "      <td>440.000000</td>\n",
       "      <td>1.038980</td>\n",
       "      <td>4.010000</td>\n",
       "      <td>2.000000</td>\n",
       "      <td>14.900000</td>\n",
       "      <td>9.000000</td>\n",
       "    </tr>\n",
       "  </tbody>\n",
       "</table>\n",
       "</div>"
      ],
      "text/plain": [
       "       fixed acidity  volatile acidity  citric acid  residual sugar  \\\n",
       "count    6487.000000       6489.000000  6494.000000     6495.000000   \n",
       "mean        7.216579          0.339691     0.318722        5.444326   \n",
       "std         1.296750          0.164649     0.145265        4.758125   \n",
       "min         3.800000          0.080000     0.000000        0.600000   \n",
       "25%         6.400000          0.230000     0.250000        1.800000   \n",
       "50%         7.000000          0.290000     0.310000        3.000000   \n",
       "75%         7.700000          0.400000     0.390000        8.100000   \n",
       "max        15.900000          1.580000     1.660000       65.800000   \n",
       "\n",
       "         chlorides  free sulfur dioxide  total sulfur dioxide      density  \\\n",
       "count  6495.000000          6497.000000           6497.000000  6497.000000   \n",
       "mean      0.056042            30.525319            115.744574     0.994697   \n",
       "std       0.035036            17.749400             56.521855     0.002999   \n",
       "min       0.009000             1.000000              6.000000     0.987110   \n",
       "25%       0.038000            17.000000             77.000000     0.992340   \n",
       "50%       0.047000            29.000000            118.000000     0.994890   \n",
       "75%       0.065000            41.000000            156.000000     0.996990   \n",
       "max       0.611000           289.000000            440.000000     1.038980   \n",
       "\n",
       "                pH    sulphates      alcohol      quality  \n",
       "count  6488.000000  6493.000000  6497.000000  6497.000000  \n",
       "mean      3.218395     0.531215    10.491801     5.818378  \n",
       "std       0.160748     0.148814     1.192712     0.873255  \n",
       "min       2.720000     0.220000     8.000000     3.000000  \n",
       "25%       3.110000     0.430000     9.500000     5.000000  \n",
       "50%       3.210000     0.510000    10.300000     6.000000  \n",
       "75%       3.320000     0.600000    11.300000     6.000000  \n",
       "max       4.010000     2.000000    14.900000     9.000000  "
      ]
     },
     "execution_count": 322,
     "metadata": {},
     "output_type": "execute_result"
    }
   ],
   "source": [
    "df1.describe()"
   ]
  },
  {
   "cell_type": "code",
   "execution_count": 323,
   "id": "ef70c336",
   "metadata": {},
   "outputs": [
    {
     "data": {
      "text/plain": [
       "6    2836\n",
       "5    2138\n",
       "7    1079\n",
       "4     216\n",
       "8     193\n",
       "3      30\n",
       "9       5\n",
       "Name: quality, dtype: int64"
      ]
     },
     "execution_count": 323,
     "metadata": {},
     "output_type": "execute_result"
    }
   ],
   "source": [
    "df1['quality'].value_counts()"
   ]
  },
  {
   "cell_type": "markdown",
   "id": "685e1db3",
   "metadata": {},
   "source": [
    "# Assingning quality as per the number given"
   ]
  },
  {
   "cell_type": "code",
   "execution_count": 324,
   "id": "b04d2d73",
   "metadata": {},
   "outputs": [],
   "source": [
    "# quality_key={3:'low',4:'low',5:'low',6:'medium',7:'medium',8:'high',9:'high'}"
   ]
  },
  {
   "cell_type": "code",
   "execution_count": 325,
   "id": "adee22f9",
   "metadata": {},
   "outputs": [],
   "source": [
    "# df1['quality']=df1['quality'].map(quality_key)"
   ]
  },
  {
   "cell_type": "code",
   "execution_count": 326,
   "id": "2adf6f29",
   "metadata": {},
   "outputs": [
    {
     "data": {
      "text/html": [
       "<div>\n",
       "<style scoped>\n",
       "    .dataframe tbody tr th:only-of-type {\n",
       "        vertical-align: middle;\n",
       "    }\n",
       "\n",
       "    .dataframe tbody tr th {\n",
       "        vertical-align: top;\n",
       "    }\n",
       "\n",
       "    .dataframe thead th {\n",
       "        text-align: right;\n",
       "    }\n",
       "</style>\n",
       "<table border=\"1\" class=\"dataframe\">\n",
       "  <thead>\n",
       "    <tr style=\"text-align: right;\">\n",
       "      <th></th>\n",
       "      <th>type</th>\n",
       "      <th>fixed acidity</th>\n",
       "      <th>volatile acidity</th>\n",
       "      <th>citric acid</th>\n",
       "      <th>residual sugar</th>\n",
       "      <th>chlorides</th>\n",
       "      <th>free sulfur dioxide</th>\n",
       "      <th>total sulfur dioxide</th>\n",
       "      <th>density</th>\n",
       "      <th>pH</th>\n",
       "      <th>sulphates</th>\n",
       "      <th>alcohol</th>\n",
       "      <th>quality</th>\n",
       "    </tr>\n",
       "  </thead>\n",
       "  <tbody>\n",
       "    <tr>\n",
       "      <th>0</th>\n",
       "      <td>white</td>\n",
       "      <td>7.0</td>\n",
       "      <td>0.27</td>\n",
       "      <td>0.36</td>\n",
       "      <td>20.7</td>\n",
       "      <td>0.045</td>\n",
       "      <td>45.0</td>\n",
       "      <td>170.0</td>\n",
       "      <td>1.0010</td>\n",
       "      <td>3.00</td>\n",
       "      <td>0.45</td>\n",
       "      <td>8.8</td>\n",
       "      <td>6</td>\n",
       "    </tr>\n",
       "    <tr>\n",
       "      <th>1</th>\n",
       "      <td>white</td>\n",
       "      <td>6.3</td>\n",
       "      <td>0.30</td>\n",
       "      <td>0.34</td>\n",
       "      <td>1.6</td>\n",
       "      <td>0.049</td>\n",
       "      <td>14.0</td>\n",
       "      <td>132.0</td>\n",
       "      <td>0.9940</td>\n",
       "      <td>3.30</td>\n",
       "      <td>0.49</td>\n",
       "      <td>9.5</td>\n",
       "      <td>6</td>\n",
       "    </tr>\n",
       "    <tr>\n",
       "      <th>2</th>\n",
       "      <td>white</td>\n",
       "      <td>8.1</td>\n",
       "      <td>0.28</td>\n",
       "      <td>0.40</td>\n",
       "      <td>6.9</td>\n",
       "      <td>0.050</td>\n",
       "      <td>30.0</td>\n",
       "      <td>97.0</td>\n",
       "      <td>0.9951</td>\n",
       "      <td>3.26</td>\n",
       "      <td>0.44</td>\n",
       "      <td>10.1</td>\n",
       "      <td>6</td>\n",
       "    </tr>\n",
       "    <tr>\n",
       "      <th>3</th>\n",
       "      <td>white</td>\n",
       "      <td>7.2</td>\n",
       "      <td>0.23</td>\n",
       "      <td>0.32</td>\n",
       "      <td>8.5</td>\n",
       "      <td>0.058</td>\n",
       "      <td>47.0</td>\n",
       "      <td>186.0</td>\n",
       "      <td>0.9956</td>\n",
       "      <td>3.19</td>\n",
       "      <td>0.40</td>\n",
       "      <td>9.9</td>\n",
       "      <td>6</td>\n",
       "    </tr>\n",
       "    <tr>\n",
       "      <th>4</th>\n",
       "      <td>white</td>\n",
       "      <td>7.2</td>\n",
       "      <td>0.23</td>\n",
       "      <td>0.32</td>\n",
       "      <td>8.5</td>\n",
       "      <td>0.058</td>\n",
       "      <td>47.0</td>\n",
       "      <td>186.0</td>\n",
       "      <td>0.9956</td>\n",
       "      <td>3.19</td>\n",
       "      <td>0.40</td>\n",
       "      <td>9.9</td>\n",
       "      <td>6</td>\n",
       "    </tr>\n",
       "  </tbody>\n",
       "</table>\n",
       "</div>"
      ],
      "text/plain": [
       "    type  fixed acidity  volatile acidity  citric acid  residual sugar  \\\n",
       "0  white            7.0              0.27         0.36            20.7   \n",
       "1  white            6.3              0.30         0.34             1.6   \n",
       "2  white            8.1              0.28         0.40             6.9   \n",
       "3  white            7.2              0.23         0.32             8.5   \n",
       "4  white            7.2              0.23         0.32             8.5   \n",
       "\n",
       "   chlorides  free sulfur dioxide  total sulfur dioxide  density    pH  \\\n",
       "0      0.045                 45.0                 170.0   1.0010  3.00   \n",
       "1      0.049                 14.0                 132.0   0.9940  3.30   \n",
       "2      0.050                 30.0                  97.0   0.9951  3.26   \n",
       "3      0.058                 47.0                 186.0   0.9956  3.19   \n",
       "4      0.058                 47.0                 186.0   0.9956  3.19   \n",
       "\n",
       "   sulphates  alcohol  quality  \n",
       "0       0.45      8.8        6  \n",
       "1       0.49      9.5        6  \n",
       "2       0.44     10.1        6  \n",
       "3       0.40      9.9        6  \n",
       "4       0.40      9.9        6  "
      ]
     },
     "execution_count": 326,
     "metadata": {},
     "output_type": "execute_result"
    }
   ],
   "source": [
    "df1.head()"
   ]
  },
  {
   "cell_type": "code",
   "execution_count": 327,
   "id": "10cf8171",
   "metadata": {},
   "outputs": [
    {
     "data": {
      "text/plain": [
       "white    4898\n",
       "red      1599\n",
       "Name: type, dtype: int64"
      ]
     },
     "execution_count": 327,
     "metadata": {},
     "output_type": "execute_result"
    }
   ],
   "source": [
    "df1['type'].value_counts()\n"
   ]
  },
  {
   "cell_type": "code",
   "execution_count": 328,
   "id": "88b71724",
   "metadata": {},
   "outputs": [
    {
     "data": {
      "text/plain": [
       "array([['white'],\n",
       "       ['white'],\n",
       "       ['white'],\n",
       "       ...,\n",
       "       ['red'],\n",
       "       ['red'],\n",
       "       ['red']], dtype=object)"
      ]
     },
     "execution_count": 328,
     "metadata": {},
     "output_type": "execute_result"
    }
   ],
   "source": [
    "sal=df1['type']\n",
    "sal=np.array(sal).reshape(-1,1)\n",
    "sal"
   ]
  },
  {
   "cell_type": "markdown",
   "id": "7ff9d35f",
   "metadata": {},
   "source": [
    "# One hot encoding the type column"
   ]
  },
  {
   "cell_type": "code",
   "execution_count": 329,
   "id": "51bf6bcc",
   "metadata": {},
   "outputs": [],
   "source": [
    "from sklearn.preprocessing import OneHotEncoder\n",
    "encoding=OneHotEncoder()\n",
    "OHE_data=encoding.fit_transform(df1.type.values.reshape(-1,1)).toarray()"
   ]
  },
  {
   "cell_type": "code",
   "execution_count": 330,
   "id": "9062e152",
   "metadata": {},
   "outputs": [
    {
     "data": {
      "text/plain": [
       "array([[0., 1.],\n",
       "       [0., 1.],\n",
       "       [0., 1.],\n",
       "       ...,\n",
       "       [1., 0.],\n",
       "       [1., 0.],\n",
       "       [1., 0.]])"
      ]
     },
     "execution_count": 330,
     "metadata": {},
     "output_type": "execute_result"
    }
   ],
   "source": [
    "\n",
    "#OHE_data=np.transpose(OHE_data)\n",
    "#print(\"one hot encoded \",OHE_data)\n",
    "OHE_data\n",
    "\n"
   ]
  },
  {
   "cell_type": "code",
   "execution_count": 331,
   "id": "f63ba4d7",
   "metadata": {},
   "outputs": [
    {
     "data": {
      "text/plain": [
       "6497"
      ]
     },
     "execution_count": 331,
     "metadata": {},
     "output_type": "execute_result"
    }
   ],
   "source": [
    "len(OHE_data)"
   ]
  },
  {
   "cell_type": "code",
   "execution_count": 332,
   "id": "4fd2bf91",
   "metadata": {},
   "outputs": [],
   "source": [
    "df1['type']=OHE_data"
   ]
  },
  {
   "cell_type": "code",
   "execution_count": 333,
   "id": "b6a34e59",
   "metadata": {},
   "outputs": [
    {
     "data": {
      "text/html": [
       "<div>\n",
       "<style scoped>\n",
       "    .dataframe tbody tr th:only-of-type {\n",
       "        vertical-align: middle;\n",
       "    }\n",
       "\n",
       "    .dataframe tbody tr th {\n",
       "        vertical-align: top;\n",
       "    }\n",
       "\n",
       "    .dataframe thead th {\n",
       "        text-align: right;\n",
       "    }\n",
       "</style>\n",
       "<table border=\"1\" class=\"dataframe\">\n",
       "  <thead>\n",
       "    <tr style=\"text-align: right;\">\n",
       "      <th></th>\n",
       "      <th>type</th>\n",
       "      <th>fixed acidity</th>\n",
       "      <th>volatile acidity</th>\n",
       "      <th>citric acid</th>\n",
       "      <th>residual sugar</th>\n",
       "      <th>chlorides</th>\n",
       "      <th>free sulfur dioxide</th>\n",
       "      <th>total sulfur dioxide</th>\n",
       "      <th>density</th>\n",
       "      <th>pH</th>\n",
       "      <th>sulphates</th>\n",
       "      <th>alcohol</th>\n",
       "      <th>quality</th>\n",
       "    </tr>\n",
       "  </thead>\n",
       "  <tbody>\n",
       "    <tr>\n",
       "      <th>0</th>\n",
       "      <td>0.0</td>\n",
       "      <td>7.0</td>\n",
       "      <td>0.27</td>\n",
       "      <td>0.36</td>\n",
       "      <td>20.7</td>\n",
       "      <td>0.045</td>\n",
       "      <td>45.0</td>\n",
       "      <td>170.0</td>\n",
       "      <td>1.0010</td>\n",
       "      <td>3.00</td>\n",
       "      <td>0.45</td>\n",
       "      <td>8.8</td>\n",
       "      <td>6</td>\n",
       "    </tr>\n",
       "    <tr>\n",
       "      <th>1</th>\n",
       "      <td>0.0</td>\n",
       "      <td>6.3</td>\n",
       "      <td>0.30</td>\n",
       "      <td>0.34</td>\n",
       "      <td>1.6</td>\n",
       "      <td>0.049</td>\n",
       "      <td>14.0</td>\n",
       "      <td>132.0</td>\n",
       "      <td>0.9940</td>\n",
       "      <td>3.30</td>\n",
       "      <td>0.49</td>\n",
       "      <td>9.5</td>\n",
       "      <td>6</td>\n",
       "    </tr>\n",
       "    <tr>\n",
       "      <th>2</th>\n",
       "      <td>0.0</td>\n",
       "      <td>8.1</td>\n",
       "      <td>0.28</td>\n",
       "      <td>0.40</td>\n",
       "      <td>6.9</td>\n",
       "      <td>0.050</td>\n",
       "      <td>30.0</td>\n",
       "      <td>97.0</td>\n",
       "      <td>0.9951</td>\n",
       "      <td>3.26</td>\n",
       "      <td>0.44</td>\n",
       "      <td>10.1</td>\n",
       "      <td>6</td>\n",
       "    </tr>\n",
       "    <tr>\n",
       "      <th>3</th>\n",
       "      <td>0.0</td>\n",
       "      <td>7.2</td>\n",
       "      <td>0.23</td>\n",
       "      <td>0.32</td>\n",
       "      <td>8.5</td>\n",
       "      <td>0.058</td>\n",
       "      <td>47.0</td>\n",
       "      <td>186.0</td>\n",
       "      <td>0.9956</td>\n",
       "      <td>3.19</td>\n",
       "      <td>0.40</td>\n",
       "      <td>9.9</td>\n",
       "      <td>6</td>\n",
       "    </tr>\n",
       "    <tr>\n",
       "      <th>4</th>\n",
       "      <td>0.0</td>\n",
       "      <td>7.2</td>\n",
       "      <td>0.23</td>\n",
       "      <td>0.32</td>\n",
       "      <td>8.5</td>\n",
       "      <td>0.058</td>\n",
       "      <td>47.0</td>\n",
       "      <td>186.0</td>\n",
       "      <td>0.9956</td>\n",
       "      <td>3.19</td>\n",
       "      <td>0.40</td>\n",
       "      <td>9.9</td>\n",
       "      <td>6</td>\n",
       "    </tr>\n",
       "  </tbody>\n",
       "</table>\n",
       "</div>"
      ],
      "text/plain": [
       "   type  fixed acidity  volatile acidity  citric acid  residual sugar  \\\n",
       "0   0.0            7.0              0.27         0.36            20.7   \n",
       "1   0.0            6.3              0.30         0.34             1.6   \n",
       "2   0.0            8.1              0.28         0.40             6.9   \n",
       "3   0.0            7.2              0.23         0.32             8.5   \n",
       "4   0.0            7.2              0.23         0.32             8.5   \n",
       "\n",
       "   chlorides  free sulfur dioxide  total sulfur dioxide  density    pH  \\\n",
       "0      0.045                 45.0                 170.0   1.0010  3.00   \n",
       "1      0.049                 14.0                 132.0   0.9940  3.30   \n",
       "2      0.050                 30.0                  97.0   0.9951  3.26   \n",
       "3      0.058                 47.0                 186.0   0.9956  3.19   \n",
       "4      0.058                 47.0                 186.0   0.9956  3.19   \n",
       "\n",
       "   sulphates  alcohol  quality  \n",
       "0       0.45      8.8        6  \n",
       "1       0.49      9.5        6  \n",
       "2       0.44     10.1        6  \n",
       "3       0.40      9.9        6  \n",
       "4       0.40      9.9        6  "
      ]
     },
     "execution_count": 333,
     "metadata": {},
     "output_type": "execute_result"
    }
   ],
   "source": [
    "df1.head()"
   ]
  },
  {
   "cell_type": "code",
   "execution_count": 334,
   "id": "64b313b3",
   "metadata": {},
   "outputs": [
    {
     "data": {
      "text/html": [
       "<div>\n",
       "<style scoped>\n",
       "    .dataframe tbody tr th:only-of-type {\n",
       "        vertical-align: middle;\n",
       "    }\n",
       "\n",
       "    .dataframe tbody tr th {\n",
       "        vertical-align: top;\n",
       "    }\n",
       "\n",
       "    .dataframe thead th {\n",
       "        text-align: right;\n",
       "    }\n",
       "</style>\n",
       "<table border=\"1\" class=\"dataframe\">\n",
       "  <thead>\n",
       "    <tr style=\"text-align: right;\">\n",
       "      <th></th>\n",
       "      <th>type</th>\n",
       "      <th>fixed acidity</th>\n",
       "      <th>volatile acidity</th>\n",
       "      <th>citric acid</th>\n",
       "      <th>residual sugar</th>\n",
       "      <th>chlorides</th>\n",
       "      <th>free sulfur dioxide</th>\n",
       "      <th>total sulfur dioxide</th>\n",
       "      <th>density</th>\n",
       "      <th>pH</th>\n",
       "      <th>sulphates</th>\n",
       "      <th>alcohol</th>\n",
       "      <th>quality</th>\n",
       "    </tr>\n",
       "  </thead>\n",
       "  <tbody>\n",
       "    <tr>\n",
       "      <th>6492</th>\n",
       "      <td>1.0</td>\n",
       "      <td>6.2</td>\n",
       "      <td>0.600</td>\n",
       "      <td>0.08</td>\n",
       "      <td>2.0</td>\n",
       "      <td>0.090</td>\n",
       "      <td>32.0</td>\n",
       "      <td>44.0</td>\n",
       "      <td>0.99490</td>\n",
       "      <td>3.45</td>\n",
       "      <td>0.58</td>\n",
       "      <td>10.5</td>\n",
       "      <td>5</td>\n",
       "    </tr>\n",
       "    <tr>\n",
       "      <th>6493</th>\n",
       "      <td>1.0</td>\n",
       "      <td>5.9</td>\n",
       "      <td>0.550</td>\n",
       "      <td>0.10</td>\n",
       "      <td>2.2</td>\n",
       "      <td>0.062</td>\n",
       "      <td>39.0</td>\n",
       "      <td>51.0</td>\n",
       "      <td>0.99512</td>\n",
       "      <td>3.52</td>\n",
       "      <td>NaN</td>\n",
       "      <td>11.2</td>\n",
       "      <td>6</td>\n",
       "    </tr>\n",
       "    <tr>\n",
       "      <th>6494</th>\n",
       "      <td>1.0</td>\n",
       "      <td>6.3</td>\n",
       "      <td>0.510</td>\n",
       "      <td>0.13</td>\n",
       "      <td>2.3</td>\n",
       "      <td>0.076</td>\n",
       "      <td>29.0</td>\n",
       "      <td>40.0</td>\n",
       "      <td>0.99574</td>\n",
       "      <td>3.42</td>\n",
       "      <td>0.75</td>\n",
       "      <td>11.0</td>\n",
       "      <td>6</td>\n",
       "    </tr>\n",
       "    <tr>\n",
       "      <th>6495</th>\n",
       "      <td>1.0</td>\n",
       "      <td>5.9</td>\n",
       "      <td>0.645</td>\n",
       "      <td>0.12</td>\n",
       "      <td>2.0</td>\n",
       "      <td>0.075</td>\n",
       "      <td>32.0</td>\n",
       "      <td>44.0</td>\n",
       "      <td>0.99547</td>\n",
       "      <td>3.57</td>\n",
       "      <td>0.71</td>\n",
       "      <td>10.2</td>\n",
       "      <td>5</td>\n",
       "    </tr>\n",
       "    <tr>\n",
       "      <th>6496</th>\n",
       "      <td>1.0</td>\n",
       "      <td>6.0</td>\n",
       "      <td>0.310</td>\n",
       "      <td>0.47</td>\n",
       "      <td>3.6</td>\n",
       "      <td>0.067</td>\n",
       "      <td>18.0</td>\n",
       "      <td>42.0</td>\n",
       "      <td>0.99549</td>\n",
       "      <td>3.39</td>\n",
       "      <td>0.66</td>\n",
       "      <td>11.0</td>\n",
       "      <td>6</td>\n",
       "    </tr>\n",
       "  </tbody>\n",
       "</table>\n",
       "</div>"
      ],
      "text/plain": [
       "      type  fixed acidity  volatile acidity  citric acid  residual sugar  \\\n",
       "6492   1.0            6.2             0.600         0.08             2.0   \n",
       "6493   1.0            5.9             0.550         0.10             2.2   \n",
       "6494   1.0            6.3             0.510         0.13             2.3   \n",
       "6495   1.0            5.9             0.645         0.12             2.0   \n",
       "6496   1.0            6.0             0.310         0.47             3.6   \n",
       "\n",
       "      chlorides  free sulfur dioxide  total sulfur dioxide  density    pH  \\\n",
       "6492      0.090                 32.0                  44.0  0.99490  3.45   \n",
       "6493      0.062                 39.0                  51.0  0.99512  3.52   \n",
       "6494      0.076                 29.0                  40.0  0.99574  3.42   \n",
       "6495      0.075                 32.0                  44.0  0.99547  3.57   \n",
       "6496      0.067                 18.0                  42.0  0.99549  3.39   \n",
       "\n",
       "      sulphates  alcohol  quality  \n",
       "6492       0.58     10.5        5  \n",
       "6493        NaN     11.2        6  \n",
       "6494       0.75     11.0        6  \n",
       "6495       0.71     10.2        5  \n",
       "6496       0.66     11.0        6  "
      ]
     },
     "execution_count": 334,
     "metadata": {},
     "output_type": "execute_result"
    }
   ],
   "source": [
    "df1.tail()\n",
    "\n"
   ]
  },
  {
   "cell_type": "code",
   "execution_count": 335,
   "id": "24584aea",
   "metadata": {},
   "outputs": [
    {
     "data": {
      "text/plain": [
       "0.0    4898\n",
       "1.0    1599\n",
       "Name: type, dtype: int64"
      ]
     },
     "execution_count": 335,
     "metadata": {},
     "output_type": "execute_result"
    }
   ],
   "source": [
    "df1['type'].value_counts()"
   ]
  },
  {
   "cell_type": "markdown",
   "id": "3058a7c4",
   "metadata": {},
   "source": [
    "# Missing values handling start¶"
   ]
  },
  {
   "cell_type": "code",
   "execution_count": 336,
   "id": "731d59a3",
   "metadata": {},
   "outputs": [
    {
     "data": {
      "text/plain": [
       "0"
      ]
     },
     "execution_count": 336,
     "metadata": {},
     "output_type": "execute_result"
    }
   ],
   "source": [
    "df1.type.isna().sum()"
   ]
  },
  {
   "cell_type": "code",
   "execution_count": 337,
   "id": "a1fb675a",
   "metadata": {},
   "outputs": [
    {
     "data": {
      "text/plain": [
       "10"
      ]
     },
     "execution_count": 337,
     "metadata": {},
     "output_type": "execute_result"
    }
   ],
   "source": [
    "df1['fixed acidity'].isna().sum()"
   ]
  },
  {
   "cell_type": "code",
   "execution_count": 338,
   "id": "b825acc0",
   "metadata": {},
   "outputs": [
    {
     "data": {
      "text/plain": [
       "0"
      ]
     },
     "execution_count": 338,
     "metadata": {},
     "output_type": "execute_result"
    }
   ],
   "source": [
    "mean=df1['fixed acidity'].mean()\n",
    "df1['fixed acidity'].fillna(mean,inplace=True)\n",
    "df1['fixed acidity'].isna().sum()"
   ]
  },
  {
   "cell_type": "code",
   "execution_count": 339,
   "id": "769c517b",
   "metadata": {},
   "outputs": [
    {
     "data": {
      "text/plain": [
       "8"
      ]
     },
     "execution_count": 339,
     "metadata": {},
     "output_type": "execute_result"
    }
   ],
   "source": [
    "df1['volatile acidity'].isna().sum()"
   ]
  },
  {
   "cell_type": "code",
   "execution_count": 340,
   "id": "5af5b0f0",
   "metadata": {},
   "outputs": [
    {
     "data": {
      "text/plain": [
       "0"
      ]
     },
     "execution_count": 340,
     "metadata": {},
     "output_type": "execute_result"
    }
   ],
   "source": [
    "mean=df1['volatile acidity'].mean()\n",
    "df1['volatile acidity'].fillna(mean,inplace=True)\n",
    "df1['volatile acidity'].isna().sum()"
   ]
  },
  {
   "cell_type": "code",
   "execution_count": 341,
   "id": "7bfaf9ea",
   "metadata": {},
   "outputs": [
    {
     "data": {
      "text/plain": [
       "3"
      ]
     },
     "execution_count": 341,
     "metadata": {},
     "output_type": "execute_result"
    }
   ],
   "source": [
    "df1['citric acid'].isna().sum()"
   ]
  },
  {
   "cell_type": "code",
   "execution_count": 342,
   "id": "b2cd475b",
   "metadata": {},
   "outputs": [
    {
     "data": {
      "text/plain": [
       "0"
      ]
     },
     "execution_count": 342,
     "metadata": {},
     "output_type": "execute_result"
    }
   ],
   "source": [
    "mean=df1['citric acid'].mean()\n",
    "df1['citric acid'].fillna(mean,inplace=True)\n",
    "df1['citric acid'].isna().sum()"
   ]
  },
  {
   "cell_type": "code",
   "execution_count": 343,
   "id": "cded77bb",
   "metadata": {},
   "outputs": [
    {
     "data": {
      "text/plain": [
       "2"
      ]
     },
     "execution_count": 343,
     "metadata": {},
     "output_type": "execute_result"
    }
   ],
   "source": [
    "df1['residual sugar'].isna().sum()"
   ]
  },
  {
   "cell_type": "code",
   "execution_count": 344,
   "id": "3fd50405",
   "metadata": {},
   "outputs": [
    {
     "data": {
      "text/plain": [
       "0"
      ]
     },
     "execution_count": 344,
     "metadata": {},
     "output_type": "execute_result"
    }
   ],
   "source": [
    "mean=df1['residual sugar'].mean()\n",
    "df1['residual sugar'].fillna(mean,inplace=True)\n",
    "df1['residual sugar'].isna().sum()"
   ]
  },
  {
   "cell_type": "code",
   "execution_count": 345,
   "id": "92c629a4",
   "metadata": {},
   "outputs": [
    {
     "data": {
      "text/plain": [
       "2"
      ]
     },
     "execution_count": 345,
     "metadata": {},
     "output_type": "execute_result"
    }
   ],
   "source": [
    "df1['chlorides'].isna().sum()"
   ]
  },
  {
   "cell_type": "code",
   "execution_count": 346,
   "id": "70be7aa7",
   "metadata": {},
   "outputs": [
    {
     "data": {
      "text/plain": [
       "0"
      ]
     },
     "execution_count": 346,
     "metadata": {},
     "output_type": "execute_result"
    }
   ],
   "source": [
    "mean=df1['chlorides'].mean()\n",
    "df1['chlorides'].fillna(mean,inplace=True)\n",
    "df1['chlorides'].isna().sum()"
   ]
  },
  {
   "cell_type": "code",
   "execution_count": 347,
   "id": "71f6f775",
   "metadata": {},
   "outputs": [
    {
     "data": {
      "text/plain": [
       "0"
      ]
     },
     "execution_count": 347,
     "metadata": {},
     "output_type": "execute_result"
    }
   ],
   "source": [
    "df1['free sulfur dioxide'].isna().sum()"
   ]
  },
  {
   "cell_type": "code",
   "execution_count": 348,
   "id": "2a4087a9",
   "metadata": {},
   "outputs": [
    {
     "data": {
      "text/plain": [
       "0"
      ]
     },
     "execution_count": 348,
     "metadata": {},
     "output_type": "execute_result"
    }
   ],
   "source": [
    "df1['total sulfur dioxide'].isna().sum()"
   ]
  },
  {
   "cell_type": "code",
   "execution_count": 349,
   "id": "06e4fad4",
   "metadata": {},
   "outputs": [
    {
     "data": {
      "text/plain": [
       "0"
      ]
     },
     "execution_count": 349,
     "metadata": {},
     "output_type": "execute_result"
    }
   ],
   "source": [
    "df1['density'].isna().sum()"
   ]
  },
  {
   "cell_type": "code",
   "execution_count": 350,
   "id": "5f62d549",
   "metadata": {},
   "outputs": [
    {
     "data": {
      "text/plain": [
       "9"
      ]
     },
     "execution_count": 350,
     "metadata": {},
     "output_type": "execute_result"
    }
   ],
   "source": [
    "df1['pH'].isna().sum()"
   ]
  },
  {
   "cell_type": "code",
   "execution_count": 351,
   "id": "36eea879",
   "metadata": {},
   "outputs": [
    {
     "data": {
      "text/plain": [
       "0"
      ]
     },
     "execution_count": 351,
     "metadata": {},
     "output_type": "execute_result"
    }
   ],
   "source": [
    "mean=df1['pH'].mean()\n",
    "df1['pH'].fillna(mean,inplace=True)\n",
    "df1['pH'].isna().sum()"
   ]
  },
  {
   "cell_type": "code",
   "execution_count": 352,
   "id": "0a20b6ba",
   "metadata": {},
   "outputs": [
    {
     "data": {
      "text/plain": [
       "4"
      ]
     },
     "execution_count": 352,
     "metadata": {},
     "output_type": "execute_result"
    }
   ],
   "source": [
    "df1['sulphates'].isna().sum()"
   ]
  },
  {
   "cell_type": "code",
   "execution_count": 353,
   "id": "09a4c7e2",
   "metadata": {},
   "outputs": [
    {
     "data": {
      "text/plain": [
       "0"
      ]
     },
     "execution_count": 353,
     "metadata": {},
     "output_type": "execute_result"
    }
   ],
   "source": [
    "mean=df1['sulphates'].mean()\n",
    "df1['sulphates'].fillna(mean,inplace=True)\n",
    "df1['sulphates'].isna().sum()"
   ]
  },
  {
   "cell_type": "code",
   "execution_count": 354,
   "id": "e7aa65a2",
   "metadata": {},
   "outputs": [
    {
     "data": {
      "text/plain": [
       "0"
      ]
     },
     "execution_count": 354,
     "metadata": {},
     "output_type": "execute_result"
    }
   ],
   "source": [
    "df1['alcohol'].isna().sum()"
   ]
  },
  {
   "cell_type": "code",
   "execution_count": 355,
   "id": "16bc058c",
   "metadata": {},
   "outputs": [
    {
     "data": {
      "text/plain": [
       "0"
      ]
     },
     "execution_count": 355,
     "metadata": {},
     "output_type": "execute_result"
    }
   ],
   "source": [
    "df1['quality'].isna().sum()"
   ]
  },
  {
   "cell_type": "markdown",
   "id": "9b8eb0b3",
   "metadata": {},
   "source": [
    "# Handling missing values done"
   ]
  },
  {
   "cell_type": "code",
   "execution_count": 356,
   "id": "fff5d831",
   "metadata": {},
   "outputs": [
    {
     "data": {
      "text/html": [
       "<div>\n",
       "<style scoped>\n",
       "    .dataframe tbody tr th:only-of-type {\n",
       "        vertical-align: middle;\n",
       "    }\n",
       "\n",
       "    .dataframe tbody tr th {\n",
       "        vertical-align: top;\n",
       "    }\n",
       "\n",
       "    .dataframe thead th {\n",
       "        text-align: right;\n",
       "    }\n",
       "</style>\n",
       "<table border=\"1\" class=\"dataframe\">\n",
       "  <thead>\n",
       "    <tr style=\"text-align: right;\">\n",
       "      <th></th>\n",
       "      <th>type</th>\n",
       "      <th>fixed acidity</th>\n",
       "      <th>volatile acidity</th>\n",
       "      <th>citric acid</th>\n",
       "      <th>residual sugar</th>\n",
       "      <th>chlorides</th>\n",
       "      <th>free sulfur dioxide</th>\n",
       "      <th>total sulfur dioxide</th>\n",
       "      <th>density</th>\n",
       "      <th>pH</th>\n",
       "      <th>sulphates</th>\n",
       "      <th>alcohol</th>\n",
       "      <th>quality</th>\n",
       "    </tr>\n",
       "  </thead>\n",
       "  <tbody>\n",
       "    <tr>\n",
       "      <th>count</th>\n",
       "      <td>6497.000000</td>\n",
       "      <td>6497.000000</td>\n",
       "      <td>6497.000000</td>\n",
       "      <td>6497.000000</td>\n",
       "      <td>6497.000000</td>\n",
       "      <td>6497.000000</td>\n",
       "      <td>6497.000000</td>\n",
       "      <td>6497.000000</td>\n",
       "      <td>6497.000000</td>\n",
       "      <td>6497.000000</td>\n",
       "      <td>6497.000000</td>\n",
       "      <td>6497.000000</td>\n",
       "      <td>6497.000000</td>\n",
       "    </tr>\n",
       "    <tr>\n",
       "      <th>mean</th>\n",
       "      <td>0.246114</td>\n",
       "      <td>7.216579</td>\n",
       "      <td>0.339691</td>\n",
       "      <td>0.318722</td>\n",
       "      <td>5.444326</td>\n",
       "      <td>0.056042</td>\n",
       "      <td>30.525319</td>\n",
       "      <td>115.744574</td>\n",
       "      <td>0.994697</td>\n",
       "      <td>3.218395</td>\n",
       "      <td>0.531215</td>\n",
       "      <td>10.491801</td>\n",
       "      <td>5.818378</td>\n",
       "    </tr>\n",
       "    <tr>\n",
       "      <th>std</th>\n",
       "      <td>0.430779</td>\n",
       "      <td>1.295751</td>\n",
       "      <td>0.164548</td>\n",
       "      <td>0.145231</td>\n",
       "      <td>4.757392</td>\n",
       "      <td>0.035031</td>\n",
       "      <td>17.749400</td>\n",
       "      <td>56.521855</td>\n",
       "      <td>0.002999</td>\n",
       "      <td>0.160637</td>\n",
       "      <td>0.148768</td>\n",
       "      <td>1.192712</td>\n",
       "      <td>0.873255</td>\n",
       "    </tr>\n",
       "    <tr>\n",
       "      <th>min</th>\n",
       "      <td>0.000000</td>\n",
       "      <td>3.800000</td>\n",
       "      <td>0.080000</td>\n",
       "      <td>0.000000</td>\n",
       "      <td>0.600000</td>\n",
       "      <td>0.009000</td>\n",
       "      <td>1.000000</td>\n",
       "      <td>6.000000</td>\n",
       "      <td>0.987110</td>\n",
       "      <td>2.720000</td>\n",
       "      <td>0.220000</td>\n",
       "      <td>8.000000</td>\n",
       "      <td>3.000000</td>\n",
       "    </tr>\n",
       "    <tr>\n",
       "      <th>25%</th>\n",
       "      <td>0.000000</td>\n",
       "      <td>6.400000</td>\n",
       "      <td>0.230000</td>\n",
       "      <td>0.250000</td>\n",
       "      <td>1.800000</td>\n",
       "      <td>0.038000</td>\n",
       "      <td>17.000000</td>\n",
       "      <td>77.000000</td>\n",
       "      <td>0.992340</td>\n",
       "      <td>3.110000</td>\n",
       "      <td>0.430000</td>\n",
       "      <td>9.500000</td>\n",
       "      <td>5.000000</td>\n",
       "    </tr>\n",
       "    <tr>\n",
       "      <th>50%</th>\n",
       "      <td>0.000000</td>\n",
       "      <td>7.000000</td>\n",
       "      <td>0.290000</td>\n",
       "      <td>0.310000</td>\n",
       "      <td>3.000000</td>\n",
       "      <td>0.047000</td>\n",
       "      <td>29.000000</td>\n",
       "      <td>118.000000</td>\n",
       "      <td>0.994890</td>\n",
       "      <td>3.210000</td>\n",
       "      <td>0.510000</td>\n",
       "      <td>10.300000</td>\n",
       "      <td>6.000000</td>\n",
       "    </tr>\n",
       "    <tr>\n",
       "      <th>75%</th>\n",
       "      <td>0.000000</td>\n",
       "      <td>7.700000</td>\n",
       "      <td>0.400000</td>\n",
       "      <td>0.390000</td>\n",
       "      <td>8.100000</td>\n",
       "      <td>0.065000</td>\n",
       "      <td>41.000000</td>\n",
       "      <td>156.000000</td>\n",
       "      <td>0.996990</td>\n",
       "      <td>3.320000</td>\n",
       "      <td>0.600000</td>\n",
       "      <td>11.300000</td>\n",
       "      <td>6.000000</td>\n",
       "    </tr>\n",
       "    <tr>\n",
       "      <th>max</th>\n",
       "      <td>1.000000</td>\n",
       "      <td>15.900000</td>\n",
       "      <td>1.580000</td>\n",
       "      <td>1.660000</td>\n",
       "      <td>65.800000</td>\n",
       "      <td>0.611000</td>\n",
       "      <td>289.000000</td>\n",
       "      <td>440.000000</td>\n",
       "      <td>1.038980</td>\n",
       "      <td>4.010000</td>\n",
       "      <td>2.000000</td>\n",
       "      <td>14.900000</td>\n",
       "      <td>9.000000</td>\n",
       "    </tr>\n",
       "  </tbody>\n",
       "</table>\n",
       "</div>"
      ],
      "text/plain": [
       "              type  fixed acidity  volatile acidity  citric acid  \\\n",
       "count  6497.000000    6497.000000       6497.000000  6497.000000   \n",
       "mean      0.246114       7.216579          0.339691     0.318722   \n",
       "std       0.430779       1.295751          0.164548     0.145231   \n",
       "min       0.000000       3.800000          0.080000     0.000000   \n",
       "25%       0.000000       6.400000          0.230000     0.250000   \n",
       "50%       0.000000       7.000000          0.290000     0.310000   \n",
       "75%       0.000000       7.700000          0.400000     0.390000   \n",
       "max       1.000000      15.900000          1.580000     1.660000   \n",
       "\n",
       "       residual sugar    chlorides  free sulfur dioxide  total sulfur dioxide  \\\n",
       "count     6497.000000  6497.000000          6497.000000           6497.000000   \n",
       "mean         5.444326     0.056042            30.525319            115.744574   \n",
       "std          4.757392     0.035031            17.749400             56.521855   \n",
       "min          0.600000     0.009000             1.000000              6.000000   \n",
       "25%          1.800000     0.038000            17.000000             77.000000   \n",
       "50%          3.000000     0.047000            29.000000            118.000000   \n",
       "75%          8.100000     0.065000            41.000000            156.000000   \n",
       "max         65.800000     0.611000           289.000000            440.000000   \n",
       "\n",
       "           density           pH    sulphates      alcohol      quality  \n",
       "count  6497.000000  6497.000000  6497.000000  6497.000000  6497.000000  \n",
       "mean      0.994697     3.218395     0.531215    10.491801     5.818378  \n",
       "std       0.002999     0.160637     0.148768     1.192712     0.873255  \n",
       "min       0.987110     2.720000     0.220000     8.000000     3.000000  \n",
       "25%       0.992340     3.110000     0.430000     9.500000     5.000000  \n",
       "50%       0.994890     3.210000     0.510000    10.300000     6.000000  \n",
       "75%       0.996990     3.320000     0.600000    11.300000     6.000000  \n",
       "max       1.038980     4.010000     2.000000    14.900000     9.000000  "
      ]
     },
     "execution_count": 356,
     "metadata": {},
     "output_type": "execute_result"
    }
   ],
   "source": [
    "df1.describe()"
   ]
  },
  {
   "cell_type": "code",
   "execution_count": 357,
   "id": "a8d04079",
   "metadata": {},
   "outputs": [
    {
     "data": {
      "text/html": [
       "<div>\n",
       "<style scoped>\n",
       "    .dataframe tbody tr th:only-of-type {\n",
       "        vertical-align: middle;\n",
       "    }\n",
       "\n",
       "    .dataframe tbody tr th {\n",
       "        vertical-align: top;\n",
       "    }\n",
       "\n",
       "    .dataframe thead th {\n",
       "        text-align: right;\n",
       "    }\n",
       "</style>\n",
       "<table border=\"1\" class=\"dataframe\">\n",
       "  <thead>\n",
       "    <tr style=\"text-align: right;\">\n",
       "      <th></th>\n",
       "      <th>type</th>\n",
       "      <th>fixed acidity</th>\n",
       "      <th>volatile acidity</th>\n",
       "      <th>citric acid</th>\n",
       "      <th>residual sugar</th>\n",
       "      <th>chlorides</th>\n",
       "      <th>free sulfur dioxide</th>\n",
       "      <th>total sulfur dioxide</th>\n",
       "      <th>density</th>\n",
       "      <th>pH</th>\n",
       "      <th>sulphates</th>\n",
       "      <th>alcohol</th>\n",
       "      <th>quality</th>\n",
       "    </tr>\n",
       "  </thead>\n",
       "  <tbody>\n",
       "    <tr>\n",
       "      <th>0</th>\n",
       "      <td>0.0</td>\n",
       "      <td>7.0</td>\n",
       "      <td>0.27</td>\n",
       "      <td>0.36</td>\n",
       "      <td>20.7</td>\n",
       "      <td>0.045</td>\n",
       "      <td>45.0</td>\n",
       "      <td>170.0</td>\n",
       "      <td>1.0010</td>\n",
       "      <td>3.00</td>\n",
       "      <td>0.45</td>\n",
       "      <td>8.8</td>\n",
       "      <td>6</td>\n",
       "    </tr>\n",
       "    <tr>\n",
       "      <th>1</th>\n",
       "      <td>0.0</td>\n",
       "      <td>6.3</td>\n",
       "      <td>0.30</td>\n",
       "      <td>0.34</td>\n",
       "      <td>1.6</td>\n",
       "      <td>0.049</td>\n",
       "      <td>14.0</td>\n",
       "      <td>132.0</td>\n",
       "      <td>0.9940</td>\n",
       "      <td>3.30</td>\n",
       "      <td>0.49</td>\n",
       "      <td>9.5</td>\n",
       "      <td>6</td>\n",
       "    </tr>\n",
       "    <tr>\n",
       "      <th>2</th>\n",
       "      <td>0.0</td>\n",
       "      <td>8.1</td>\n",
       "      <td>0.28</td>\n",
       "      <td>0.40</td>\n",
       "      <td>6.9</td>\n",
       "      <td>0.050</td>\n",
       "      <td>30.0</td>\n",
       "      <td>97.0</td>\n",
       "      <td>0.9951</td>\n",
       "      <td>3.26</td>\n",
       "      <td>0.44</td>\n",
       "      <td>10.1</td>\n",
       "      <td>6</td>\n",
       "    </tr>\n",
       "    <tr>\n",
       "      <th>3</th>\n",
       "      <td>0.0</td>\n",
       "      <td>7.2</td>\n",
       "      <td>0.23</td>\n",
       "      <td>0.32</td>\n",
       "      <td>8.5</td>\n",
       "      <td>0.058</td>\n",
       "      <td>47.0</td>\n",
       "      <td>186.0</td>\n",
       "      <td>0.9956</td>\n",
       "      <td>3.19</td>\n",
       "      <td>0.40</td>\n",
       "      <td>9.9</td>\n",
       "      <td>6</td>\n",
       "    </tr>\n",
       "    <tr>\n",
       "      <th>4</th>\n",
       "      <td>0.0</td>\n",
       "      <td>7.2</td>\n",
       "      <td>0.23</td>\n",
       "      <td>0.32</td>\n",
       "      <td>8.5</td>\n",
       "      <td>0.058</td>\n",
       "      <td>47.0</td>\n",
       "      <td>186.0</td>\n",
       "      <td>0.9956</td>\n",
       "      <td>3.19</td>\n",
       "      <td>0.40</td>\n",
       "      <td>9.9</td>\n",
       "      <td>6</td>\n",
       "    </tr>\n",
       "  </tbody>\n",
       "</table>\n",
       "</div>"
      ],
      "text/plain": [
       "   type  fixed acidity  volatile acidity  citric acid  residual sugar  \\\n",
       "0   0.0            7.0              0.27         0.36            20.7   \n",
       "1   0.0            6.3              0.30         0.34             1.6   \n",
       "2   0.0            8.1              0.28         0.40             6.9   \n",
       "3   0.0            7.2              0.23         0.32             8.5   \n",
       "4   0.0            7.2              0.23         0.32             8.5   \n",
       "\n",
       "   chlorides  free sulfur dioxide  total sulfur dioxide  density    pH  \\\n",
       "0      0.045                 45.0                 170.0   1.0010  3.00   \n",
       "1      0.049                 14.0                 132.0   0.9940  3.30   \n",
       "2      0.050                 30.0                  97.0   0.9951  3.26   \n",
       "3      0.058                 47.0                 186.0   0.9956  3.19   \n",
       "4      0.058                 47.0                 186.0   0.9956  3.19   \n",
       "\n",
       "   sulphates  alcohol  quality  \n",
       "0       0.45      8.8        6  \n",
       "1       0.49      9.5        6  \n",
       "2       0.44     10.1        6  \n",
       "3       0.40      9.9        6  \n",
       "4       0.40      9.9        6  "
      ]
     },
     "execution_count": 357,
     "metadata": {},
     "output_type": "execute_result"
    }
   ],
   "source": [
    "df1.head()"
   ]
  },
  {
   "cell_type": "code",
   "execution_count": 358,
   "id": "1c4ea021",
   "metadata": {},
   "outputs": [
    {
     "data": {
      "text/html": [
       "<div>\n",
       "<style scoped>\n",
       "    .dataframe tbody tr th:only-of-type {\n",
       "        vertical-align: middle;\n",
       "    }\n",
       "\n",
       "    .dataframe tbody tr th {\n",
       "        vertical-align: top;\n",
       "    }\n",
       "\n",
       "    .dataframe thead th {\n",
       "        text-align: right;\n",
       "    }\n",
       "</style>\n",
       "<table border=\"1\" class=\"dataframe\">\n",
       "  <thead>\n",
       "    <tr style=\"text-align: right;\">\n",
       "      <th></th>\n",
       "      <th>type</th>\n",
       "      <th>fixed acidity</th>\n",
       "      <th>volatile acidity</th>\n",
       "      <th>citric acid</th>\n",
       "      <th>residual sugar</th>\n",
       "      <th>chlorides</th>\n",
       "      <th>free sulfur dioxide</th>\n",
       "      <th>total sulfur dioxide</th>\n",
       "      <th>density</th>\n",
       "      <th>pH</th>\n",
       "      <th>sulphates</th>\n",
       "      <th>alcohol</th>\n",
       "    </tr>\n",
       "  </thead>\n",
       "  <tbody>\n",
       "    <tr>\n",
       "      <th>0</th>\n",
       "      <td>0.0</td>\n",
       "      <td>7.0</td>\n",
       "      <td>0.27</td>\n",
       "      <td>0.36</td>\n",
       "      <td>20.7</td>\n",
       "      <td>0.045</td>\n",
       "      <td>45.0</td>\n",
       "      <td>170.0</td>\n",
       "      <td>1.0010</td>\n",
       "      <td>3.00</td>\n",
       "      <td>0.45</td>\n",
       "      <td>8.8</td>\n",
       "    </tr>\n",
       "    <tr>\n",
       "      <th>1</th>\n",
       "      <td>0.0</td>\n",
       "      <td>6.3</td>\n",
       "      <td>0.30</td>\n",
       "      <td>0.34</td>\n",
       "      <td>1.6</td>\n",
       "      <td>0.049</td>\n",
       "      <td>14.0</td>\n",
       "      <td>132.0</td>\n",
       "      <td>0.9940</td>\n",
       "      <td>3.30</td>\n",
       "      <td>0.49</td>\n",
       "      <td>9.5</td>\n",
       "    </tr>\n",
       "    <tr>\n",
       "      <th>2</th>\n",
       "      <td>0.0</td>\n",
       "      <td>8.1</td>\n",
       "      <td>0.28</td>\n",
       "      <td>0.40</td>\n",
       "      <td>6.9</td>\n",
       "      <td>0.050</td>\n",
       "      <td>30.0</td>\n",
       "      <td>97.0</td>\n",
       "      <td>0.9951</td>\n",
       "      <td>3.26</td>\n",
       "      <td>0.44</td>\n",
       "      <td>10.1</td>\n",
       "    </tr>\n",
       "    <tr>\n",
       "      <th>3</th>\n",
       "      <td>0.0</td>\n",
       "      <td>7.2</td>\n",
       "      <td>0.23</td>\n",
       "      <td>0.32</td>\n",
       "      <td>8.5</td>\n",
       "      <td>0.058</td>\n",
       "      <td>47.0</td>\n",
       "      <td>186.0</td>\n",
       "      <td>0.9956</td>\n",
       "      <td>3.19</td>\n",
       "      <td>0.40</td>\n",
       "      <td>9.9</td>\n",
       "    </tr>\n",
       "    <tr>\n",
       "      <th>4</th>\n",
       "      <td>0.0</td>\n",
       "      <td>7.2</td>\n",
       "      <td>0.23</td>\n",
       "      <td>0.32</td>\n",
       "      <td>8.5</td>\n",
       "      <td>0.058</td>\n",
       "      <td>47.0</td>\n",
       "      <td>186.0</td>\n",
       "      <td>0.9956</td>\n",
       "      <td>3.19</td>\n",
       "      <td>0.40</td>\n",
       "      <td>9.9</td>\n",
       "    </tr>\n",
       "  </tbody>\n",
       "</table>\n",
       "</div>"
      ],
      "text/plain": [
       "   type  fixed acidity  volatile acidity  citric acid  residual sugar  \\\n",
       "0   0.0            7.0              0.27         0.36            20.7   \n",
       "1   0.0            6.3              0.30         0.34             1.6   \n",
       "2   0.0            8.1              0.28         0.40             6.9   \n",
       "3   0.0            7.2              0.23         0.32             8.5   \n",
       "4   0.0            7.2              0.23         0.32             8.5   \n",
       "\n",
       "   chlorides  free sulfur dioxide  total sulfur dioxide  density    pH  \\\n",
       "0      0.045                 45.0                 170.0   1.0010  3.00   \n",
       "1      0.049                 14.0                 132.0   0.9940  3.30   \n",
       "2      0.050                 30.0                  97.0   0.9951  3.26   \n",
       "3      0.058                 47.0                 186.0   0.9956  3.19   \n",
       "4      0.058                 47.0                 186.0   0.9956  3.19   \n",
       "\n",
       "   sulphates  alcohol  \n",
       "0       0.45      8.8  \n",
       "1       0.49      9.5  \n",
       "2       0.44     10.1  \n",
       "3       0.40      9.9  \n",
       "4       0.40      9.9  "
      ]
     },
     "execution_count": 358,
     "metadata": {},
     "output_type": "execute_result"
    }
   ],
   "source": [
    "x=df1.iloc[:500,:-1]\n",
    "x.head()"
   ]
  },
  {
   "cell_type": "code",
   "execution_count": 359,
   "id": "6800fe0b",
   "metadata": {},
   "outputs": [
    {
     "data": {
      "text/plain": [
       "array([[ 0.        ,  0.25456989, -0.18339045, ..., -1.43789577,\n",
       "        -0.35528494, -1.20716534],\n",
       "       [ 0.        , -0.70848945,  0.10006595, ...,  0.61535743,\n",
       "         0.03726875, -0.56622501],\n",
       "       [ 0.        ,  1.76794884, -0.08890499, ...,  0.34159034,\n",
       "        -0.45342337, -0.01684757],\n",
       "       ...,\n",
       "       [ 0.        , -0.02058992, -0.56133233, ...,  0.54691566,\n",
       "         0.52796087,  2.18066215],\n",
       "       [ 0.        , -1.53396888,  0.43076509, ...,  0.41003211,\n",
       "         1.70562195, -0.10841048],\n",
       "       [ 0.        ,  0.5297297 ,  1.04492063, ..., -0.89036158,\n",
       "         0.03726875, -1.39029115]])"
      ]
     },
     "execution_count": 359,
     "metadata": {},
     "output_type": "execute_result"
    }
   ],
   "source": [
    "from sklearn.preprocessing import StandardScaler\n",
    "scalar=StandardScaler()\n",
    "transformed=scalar.fit_transform(x)\n",
    "len(transformed)\n",
    "transformed.shape\n",
    "transformed"
   ]
  },
  {
   "cell_type": "code",
   "execution_count": 360,
   "id": "ffe4c292",
   "metadata": {},
   "outputs": [
    {
     "data": {
      "text/plain": [
       "0    6\n",
       "1    6\n",
       "2    6\n",
       "3    6\n",
       "4    6\n",
       "Name: quality, dtype: int64"
      ]
     },
     "execution_count": 360,
     "metadata": {},
     "output_type": "execute_result"
    }
   ],
   "source": [
    "y=df1.iloc[:500,-1]\n",
    "y.head()"
   ]
  },
  {
   "cell_type": "code",
   "execution_count": 361,
   "id": "20621ffe",
   "metadata": {},
   "outputs": [],
   "source": [
    "from sklearn.model_selection import train_test_split\n",
    "x_train,x_test,y_train,y_test=train_test_split(transformed,y,test_size=0.3)"
   ]
  },
  {
   "cell_type": "code",
   "execution_count": 362,
   "id": "84ca50c9",
   "metadata": {},
   "outputs": [
    {
     "data": {
      "text/plain": [
       "(350, 12)"
      ]
     },
     "execution_count": 362,
     "metadata": {},
     "output_type": "execute_result"
    }
   ],
   "source": [
    "x_train.shape"
   ]
  },
  {
   "cell_type": "code",
   "execution_count": 363,
   "id": "8457dee6",
   "metadata": {},
   "outputs": [
    {
     "data": {
      "text/plain": [
       "(350, 12)"
      ]
     },
     "execution_count": 363,
     "metadata": {},
     "output_type": "execute_result"
    }
   ],
   "source": [
    "x_train.shape"
   ]
  },
  {
   "cell_type": "code",
   "execution_count": 364,
   "id": "0bc60868",
   "metadata": {},
   "outputs": [
    {
     "data": {
      "text/plain": [
       "(350,)"
      ]
     },
     "execution_count": 364,
     "metadata": {},
     "output_type": "execute_result"
    }
   ],
   "source": [
    "y_train.shape"
   ]
  },
  {
   "cell_type": "code",
   "execution_count": 365,
   "id": "b8e0654a",
   "metadata": {},
   "outputs": [
    {
     "data": {
      "text/plain": [
       "(150, 12)"
      ]
     },
     "execution_count": 365,
     "metadata": {},
     "output_type": "execute_result"
    }
   ],
   "source": [
    "x_test.shape"
   ]
  },
  {
   "cell_type": "code",
   "execution_count": 366,
   "id": "9d42c4d8",
   "metadata": {},
   "outputs": [],
   "source": [
    "from sklearn.linear_model import LogisticRegression"
   ]
  },
  {
   "cell_type": "code",
   "execution_count": 429,
   "id": "f31343d2",
   "metadata": {},
   "outputs": [],
   "source": [
    "model1=LogisticRegression()"
   ]
  },
  {
   "cell_type": "code",
   "execution_count": 430,
   "id": "e813724d",
   "metadata": {},
   "outputs": [
    {
     "data": {
      "text/plain": [
       "LogisticRegression()"
      ]
     },
     "execution_count": 430,
     "metadata": {},
     "output_type": "execute_result"
    }
   ],
   "source": [
    "model1.fit(x_train,y_train)"
   ]
  },
  {
   "cell_type": "code",
   "execution_count": 431,
   "id": "f672b070",
   "metadata": {},
   "outputs": [
    {
     "data": {
      "text/plain": [
       "0.5857142857142857"
      ]
     },
     "execution_count": 431,
     "metadata": {},
     "output_type": "execute_result"
    }
   ],
   "source": [
    "train_acc=model1.score(x_train,y_train)\n",
    "train_acc"
   ]
  },
  {
   "cell_type": "code",
   "execution_count": 432,
   "id": "f12dbb56",
   "metadata": {},
   "outputs": [
    {
     "data": {
      "text/plain": [
       "0.48"
      ]
     },
     "execution_count": 432,
     "metadata": {},
     "output_type": "execute_result"
    }
   ],
   "source": [
    "test_acc=model1.score(x_test,y_test)\n",
    "test_acc"
   ]
  },
  {
   "cell_type": "code",
   "execution_count": 434,
   "id": "e833b3a7",
   "metadata": {},
   "outputs": [
    {
     "data": {
      "text/plain": [
       "array([5, 5, 6, 7, 5, 5, 7, 6, 5, 5, 7, 6, 6, 6, 6, 7, 6, 5, 5, 5, 5, 6,\n",
       "       5, 6, 6, 6, 6, 5, 7, 7, 5, 6, 5, 6, 6, 5, 6, 6, 6, 6, 6, 7, 7, 5,\n",
       "       5, 5, 6, 7, 6, 6, 7, 6, 5, 6, 7, 6, 5, 7, 6, 5, 6, 5, 6, 5, 6, 6,\n",
       "       5, 6, 6, 6, 6, 6, 6, 6, 6, 7, 6, 5, 5, 5, 5, 5, 5, 7, 6, 6, 6, 6,\n",
       "       5, 5, 6, 6, 5, 5, 5, 6, 6, 6, 4, 6, 6, 5, 7, 7, 5, 6, 5, 8, 6, 6,\n",
       "       6, 6, 6, 6, 7, 6, 5, 6, 7, 5, 5, 5, 6, 6, 6, 5, 5, 6, 7, 6, 7, 5,\n",
       "       6, 5, 6, 6, 5, 5, 6, 5, 6, 6, 6, 5, 5, 6, 6, 7, 5, 5], dtype=int64)"
      ]
     },
     "execution_count": 434,
     "metadata": {},
     "output_type": "execute_result"
    }
   ],
   "source": [
    "y_pred=model1.predict(x_test)\n",
    "y_pred"
   ]
  },
  {
   "cell_type": "code",
   "execution_count": 435,
   "id": "5db03e5a",
   "metadata": {},
   "outputs": [
    {
     "name": "stdout",
     "output_type": "stream",
     "text": [
      "model's error is  0.6133333333333333\n"
     ]
    }
   ],
   "source": [
    "from sklearn.metrics import mean_absolute_error \n",
    "print(\"model's error is \", mean_absolute_error(y_pred,y_test))"
   ]
  },
  {
   "cell_type": "markdown",
   "id": "d9528a10",
   "metadata": {},
   "source": [
    "# Logistic regression done on entire dataset without applying SVD"
   ]
  },
  {
   "cell_type": "markdown",
   "id": "e769246c",
   "metadata": {},
   "source": [
    "# Now apply SVD on entire dataset"
   ]
  },
  {
   "cell_type": "code",
   "execution_count": 436,
   "id": "52004072",
   "metadata": {},
   "outputs": [],
   "source": [
    "svd=TruncatedSVD()\n",
    "svd.fit(x)\n",
    "transformed1=svd.transform(x)"
   ]
  },
  {
   "cell_type": "code",
   "execution_count": 437,
   "id": "5b7481df",
   "metadata": {
    "scrolled": false
   },
   "outputs": [
    {
     "data": {
      "text/plain": [
       "array([[ 1.76978555e+02,  2.08768992e+00],\n",
       "       [ 1.31810295e+02, -1.94372074e+01],\n",
       "       [ 1.02338257e+02,  4.90576999e+00],\n",
       "       [ 1.92443591e+02, -5.68054499e-01],\n",
       "       [ 1.92443591e+02, -5.68054499e-01],\n",
       "       [ 1.02338257e+02,  4.90576999e+00],\n",
       "       [ 1.39866383e+02, -4.68961216e+00],\n",
       "       [ 1.76978555e+02,  2.08768992e+00],\n",
       "       [ 1.31810295e+02, -1.94372074e+01],\n",
       "       [ 1.32534201e+02, -5.23281746e+00],\n",
       "       [ 6.46977819e+01, -5.37808983e+00],\n",
       "       [ 1.10577751e+02, -1.07626750e+01],\n",
       "       [ 7.74254959e+01, -3.48672075e+00],\n",
       "       [ 1.51016295e+02,  1.06287826e+01],\n",
       "       [ 1.77963354e+02, -2.39429199e+00],\n",
       "       [ 1.16092767e+02, -1.01461027e+00],\n",
       "       [ 1.03903283e+02,  4.17152264e+00],\n",
       "       [ 8.07343340e+01,  9.03792058e+00],\n",
       "       [ 1.70313450e+02, -2.62756429e+01],\n",
       "       [ 1.37989802e+02, -5.72628226e-02],\n",
       "       [ 8.06925234e+01,  9.05490203e+00],\n",
       "       [ 1.04246885e+02, -7.16105664e+00],\n",
       "       [ 1.28923402e+02,  9.11457771e+00],\n",
       "       [ 1.69300720e+02, -1.77239360e+01],\n",
       "       [ 1.41985656e+02, -2.00112018e+01],\n",
       "       [ 2.51647115e+02, -6.44503093e+00],\n",
       "       [ 1.50541464e+02, -2.64566560e+00],\n",
       "       [ 1.45353189e+02, -3.94953621e+00],\n",
       "       [ 1.32698995e+02, -1.66378354e+01],\n",
       "       [ 1.20346415e+02,  7.18352601e+00],\n",
       "       [ 1.43456058e+02, -1.57282063e+01],\n",
       "       [ 4.81623613e+01, -5.26071074e+00],\n",
       "       [ 1.05274867e+02,  4.88598365e+00],\n",
       "       [ 1.24644604e+02,  1.25220660e+01],\n",
       "       [ 1.79761468e+02, -2.26851798e+01],\n",
       "       [ 1.25097646e+02, -1.05465382e+01],\n",
       "       [ 1.51140732e+02, -1.28355656e+01],\n",
       "       [ 1.43641914e+02,  2.21063395e+00],\n",
       "       [ 1.56595180e+02,  7.14704977e+00],\n",
       "       [ 1.56595180e+02,  7.14704977e+00],\n",
       "       [ 1.69058802e+02,  2.15612305e+01],\n",
       "       [ 1.68111517e+02,  2.18282239e+01],\n",
       "       [ 1.62593240e+02, -1.25592097e+01],\n",
       "       [ 1.55808168e+02, -6.02370377e+00],\n",
       "       [ 1.57742564e+02, -6.52019563e+00],\n",
       "       [ 1.71580330e+02, -4.92545515e+00],\n",
       "       [ 2.15469445e+02,  9.77610132e+00],\n",
       "       [ 2.16186826e+02,  8.56177849e+00],\n",
       "       [ 1.62593240e+02, -1.25592097e+01],\n",
       "       [ 1.53825211e+02, -6.33437740e+00],\n",
       "       [ 1.75746031e+02, -1.32158751e+01],\n",
       "       [ 1.30351378e+02,  6.64610738e+00],\n",
       "       [ 8.53499363e+01, -3.62668033e-01],\n",
       "       [ 1.14891922e+02,  1.06059353e+01],\n",
       "       [ 1.37706660e+02,  3.74308076e+00],\n",
       "       [ 1.92549380e+02, -1.95906749e+01],\n",
       "       [ 2.16158380e+02, -1.67420124e+01],\n",
       "       [ 1.55618543e+02,  1.22184379e+01],\n",
       "       [ 8.26057586e+01,  4.68054086e+00],\n",
       "       [ 1.19013813e+02,  1.47206091e+01],\n",
       "       [ 1.27189424e+02, -1.55673338e+00],\n",
       "       [ 1.55618543e+02,  1.22184379e+01],\n",
       "       [ 1.50946597e+02, -2.12984939e+01],\n",
       "       [ 8.26057586e+01,  4.68054086e+00],\n",
       "       [ 1.26435845e+02, -5.69597310e-01],\n",
       "       [ 1.23890632e+02, -1.96894420e+00],\n",
       "       [ 1.27707637e+02, -4.74127711e+00],\n",
       "       [ 1.88913822e+02,  3.49357148e+01],\n",
       "       [ 1.01138405e+02,  4.92383935e+00],\n",
       "       [ 1.07908656e+02, -5.59035754e+00],\n",
       "       [ 2.48531209e+02, -1.39385858e+01],\n",
       "       [ 2.43757415e+02, -1.03431842e+01],\n",
       "       [ 2.02764432e+02, -1.99198715e+01],\n",
       "       [ 7.27133493e+01, -9.48525892e+00],\n",
       "       [ 1.01138405e+02,  4.92383935e+00],\n",
       "       [ 1.07908656e+02, -5.59035754e+00],\n",
       "       [ 9.28039955e+01,  8.02025502e+00],\n",
       "       [ 7.26667867e+01,  1.84996513e+00],\n",
       "       [ 1.07141335e+02, -3.16953251e-01],\n",
       "       [ 1.07642559e+02, -5.79597476e+00],\n",
       "       [ 1.19464880e+02,  4.30619785e+00],\n",
       "       [ 1.74423805e+02,  8.63507451e+00],\n",
       "       [ 1.71108319e+02,  4.75485318e+00],\n",
       "       [ 2.11441382e+02, -1.06038649e+01],\n",
       "       [ 1.64331164e+02,  1.40667706e+01],\n",
       "       [ 1.60942130e+02,  1.28745194e+01],\n",
       "       [ 1.65511073e+02,  1.47461507e+01],\n",
       "       [ 2.13508773e+02,  1.69969292e+01],\n",
       "       [ 1.64331164e+02,  1.40667706e+01],\n",
       "       [ 1.60942130e+02,  1.28745194e+01],\n",
       "       [ 1.65511161e+02,  1.47460188e+01],\n",
       "       [ 2.51751302e+02,  2.73623728e+00],\n",
       "       [ 1.44041866e+02,  1.13942441e+01],\n",
       "       [ 1.44293325e+02,  1.23663518e+01],\n",
       "       [ 1.56567870e+02,  1.23163043e+01],\n",
       "       [ 2.48385448e+02,  7.94761199e-01],\n",
       "       [ 1.66239453e+02, -1.50220128e+01],\n",
       "       [ 8.20628511e+01, -5.71734843e+00],\n",
       "       [ 8.26254882e+01, -1.66252689e+01],\n",
       "       [ 1.66239453e+02, -1.50220128e+01],\n",
       "       [ 1.99650110e+02,  3.04852525e+00],\n",
       "       [ 1.73505740e+02,  2.18773033e+01],\n",
       "       [ 1.73276423e+02,  1.28195819e+01],\n",
       "       [ 1.76683290e+02,  1.01852531e+00],\n",
       "       [ 1.99650110e+02,  3.04852525e+00],\n",
       "       [ 1.15153786e+02,  6.21265523e+00],\n",
       "       [ 1.73505740e+02,  2.18773033e+01],\n",
       "       [ 1.81488879e+02,  1.61297534e+01],\n",
       "       [ 1.81488879e+02,  1.61297534e+01],\n",
       "       [ 1.90627981e+02, -1.08459969e+01],\n",
       "       [ 1.74351357e+02,  2.16071279e+01],\n",
       "       [ 2.58928825e+02, -1.90388375e+01],\n",
       "       [ 2.06489643e+02,  1.77703941e+01],\n",
       "       [ 1.53219230e+02, -9.00661531e+00],\n",
       "       [ 1.53219230e+02, -9.00661531e+00],\n",
       "       [ 1.02323429e+02, -1.80667626e+01],\n",
       "       [ 1.45315887e+02, -1.14834429e+01],\n",
       "       [ 8.71201794e+01, -5.94880584e+00],\n",
       "       [ 2.06489643e+02,  1.77703941e+01],\n",
       "       [ 2.04740204e+02,  6.88306434e+00],\n",
       "       [ 9.03244069e+01, -1.34958952e+00],\n",
       "       [ 1.45010490e+02,  6.67248813e+00],\n",
       "       [ 1.35339160e+02, -2.51602876e+00],\n",
       "       [ 1.45471890e+02, -2.27318494e+01],\n",
       "       [ 1.63346545e+02, -7.32700947e-01],\n",
       "       [ 1.54620966e+02,  2.51558940e+01],\n",
       "       [ 1.30072279e+02, -3.22873992e+00],\n",
       "       [ 2.09019555e+02, -3.83471380e+00],\n",
       "       [ 1.85451562e+02,  8.73298840e-01],\n",
       "       [ 1.90024914e+02, -1.33549402e+00],\n",
       "       [ 5.81440957e+01, -7.24730303e+00],\n",
       "       [ 2.09019555e+02, -3.83471380e+00],\n",
       "       [ 2.48608123e+02, -2.30599620e+00],\n",
       "       [ 1.94387803e+02, -1.64362922e+00],\n",
       "       [ 2.10731373e+02,  2.97902999e+00],\n",
       "       [ 1.85233040e+02, -1.36998266e+00],\n",
       "       [ 1.26762491e+02,  4.47577475e+00],\n",
       "       [ 1.63037903e+02,  9.16761906e+00],\n",
       "       [ 1.01135820e+02,  4.91120180e+00],\n",
       "       [ 8.18800468e+01, -2.53994021e+00],\n",
       "       [ 8.02890496e+01, -2.10814730e-02],\n",
       "       [ 1.63037903e+02,  9.16761906e+00],\n",
       "       [ 1.13743197e+02,  9.87402626e+00],\n",
       "       [ 1.02659583e+02, -1.51323706e+00],\n",
       "       [ 8.98134541e+01, -3.52870164e+00],\n",
       "       [ 1.20182000e+02,  7.19621444e+00],\n",
       "       [ 1.76186935e+02,  9.36026274e+00],\n",
       "       [ 9.84202440e+01, -9.62549461e+00],\n",
       "       [ 8.31544135e+01, -1.66536560e+00],\n",
       "       [ 1.18719767e+02, -6.65815805e+00],\n",
       "       [ 1.59488534e+02,  6.79356764e+00],\n",
       "       [ 1.46041369e+02,  2.27616253e+01],\n",
       "       [ 1.18719767e+02, -6.65815805e+00],\n",
       "       [ 1.04780647e+02,  1.52727083e+01],\n",
       "       [ 7.76286157e+01, -7.26773524e+00],\n",
       "       [ 2.04459413e+02, -2.27286241e+00],\n",
       "       [ 2.04459413e+02, -2.27286241e+00],\n",
       "       [ 1.30184203e+02,  5.66739979e+00],\n",
       "       [ 1.26536710e+02,  1.17575815e+01],\n",
       "       [ 1.26536710e+02,  1.17575815e+01],\n",
       "       [ 1.30184203e+02,  5.66739979e+00],\n",
       "       [ 1.61629779e+02, -1.29002229e+01],\n",
       "       [ 8.66656036e+01, -7.68666591e+00],\n",
       "       [ 2.04459413e+02, -2.27286241e+00],\n",
       "       [ 2.15141376e+02,  1.14175620e+01],\n",
       "       [ 1.90125924e+02,  2.60615398e+01],\n",
       "       [ 2.01120912e+02, -1.10273897e+01],\n",
       "       [ 1.01954634e+02, -4.44365947e-01],\n",
       "       [ 1.51990262e+02, -1.79878194e+01],\n",
       "       [ 1.08891397e+02, -2.23654849e+01],\n",
       "       [ 1.36700799e+02, -5.28667472e+00],\n",
       "       [ 9.79609582e+01, -7.70408296e+00],\n",
       "       [ 9.85860063e+01, -2.13063611e+01],\n",
       "       [ 1.34335524e+02, -2.41471046e+00],\n",
       "       [ 1.76867921e+02, -1.04508331e+01],\n",
       "       [ 1.59442532e+02,  1.09045672e+01],\n",
       "       [ 6.87683603e+01,  2.04018040e+00],\n",
       "       [ 1.79591345e+02,  1.33108675e+01],\n",
       "       [ 1.07332785e+02, -1.83273751e+01],\n",
       "       [ 1.81102263e+02, -4.01105781e+00],\n",
       "       [ 1.78460626e+02, -2.30495310e+00],\n",
       "       [ 1.92634270e+02,  1.33783723e+01],\n",
       "       [ 1.74868142e+02,  5.80114988e+00],\n",
       "       [ 2.36426178e+02,  6.01324140e+00],\n",
       "       [ 2.35342375e+02,  6.16935366e+00],\n",
       "       [ 2.39696691e+02,  7.11406076e+00],\n",
       "       [ 1.73657865e+02,  6.36550370e+00],\n",
       "       [ 1.26374258e+02,  1.09487443e+01],\n",
       "       [ 1.12893642e+02, -2.13589973e+00],\n",
       "       [ 2.17242800e+02,  3.05761427e-01],\n",
       "       [ 2.18459108e+02,  1.02381146e+00],\n",
       "       [ 1.74868142e+02,  5.80114988e+00],\n",
       "       [ 1.27001976e+02, -3.41925946e+00],\n",
       "       [ 1.30175276e+02,  1.79936232e+00],\n",
       "       [ 1.94236948e+02,  2.75450788e+01],\n",
       "       [ 1.93514676e+02,  2.87546517e+01],\n",
       "       [ 1.96166599e+02,  2.70505211e+01],\n",
       "       [ 2.21084098e+02, -7.22966309e-01],\n",
       "       [ 2.11183367e+02,  7.32808751e-02],\n",
       "       [ 2.21084098e+02, -7.22966309e-01],\n",
       "       [ 2.04358253e+02,  5.09045641e+00],\n",
       "       [ 2.11183367e+02,  7.32808751e-02],\n",
       "       [ 2.42356333e+02, -6.89070819e+00],\n",
       "       [ 1.40642500e+02,  4.76656707e+00],\n",
       "       [ 1.19931686e+02,  6.31378368e+00],\n",
       "       [ 1.60144814e+02,  5.85698490e+00],\n",
       "       [ 1.32261639e+02,  5.58278686e+00],\n",
       "       [ 1.25959681e+02, -1.15054620e+01],\n",
       "       [ 7.90752958e+01, -4.86643101e+00],\n",
       "       [ 1.70663629e+02, -2.01638299e+01],\n",
       "       [ 6.99515850e+01, -5.16168106e+00],\n",
       "       [ 1.16851400e+02,  5.99923062e+00],\n",
       "       [ 1.32261639e+02,  5.58278686e+00],\n",
       "       [ 1.26559120e+02, -3.55064559e-01],\n",
       "       [ 1.11029927e+02,  7.49642818e+00],\n",
       "       [ 1.61558163e+02,  1.56494526e+01],\n",
       "       [ 1.70727997e+02,  2.83088227e+00],\n",
       "       [ 1.61558163e+02,  1.56494526e+01],\n",
       "       [ 1.77636557e+02,  1.71818871e+01],\n",
       "       [ 1.67338794e+02,  1.63880194e+00],\n",
       "       [ 1.70727997e+02,  2.83088227e+00],\n",
       "       [ 1.75467388e+02, -1.05728759e+01],\n",
       "       [ 1.11029927e+02,  7.49642818e+00],\n",
       "       [ 1.48036737e+02, -4.06207923e+00],\n",
       "       [ 1.43797352e+02, -4.99274684e+00],\n",
       "       [ 1.51245444e+02,  2.32619088e+00],\n",
       "       [ 2.04157951e+02, -1.01149074e+01],\n",
       "       [ 2.80155958e+02, -3.35295477e+00],\n",
       "       [ 2.04157951e+02, -1.01149074e+01],\n",
       "       [ 1.51245444e+02,  2.32619088e+00],\n",
       "       [ 1.44775014e+02, -9.90233424e+00],\n",
       "       [ 1.97937901e+02, -1.12961034e+01],\n",
       "       [ 2.14155866e+02, -4.11622293e+00],\n",
       "       [ 2.02344960e+02,  5.49980383e+00],\n",
       "       [ 2.02344960e+02,  5.49980383e+00],\n",
       "       [ 2.02344960e+02,  5.49980383e+00],\n",
       "       [ 2.02344960e+02,  5.49980383e+00],\n",
       "       [ 2.28126225e+02, -2.21218211e+00],\n",
       "       [ 1.26774731e+02,  8.60822027e+00],\n",
       "       [ 1.61955511e+02, -1.18972203e+01],\n",
       "       [ 2.03717924e+02, -1.06837211e+00],\n",
       "       [ 9.38924187e+01, -8.96622387e-02],\n",
       "       [ 1.03335661e+02, -2.84523683e+00],\n",
       "       [ 2.27845396e+02,  8.04485443e+00],\n",
       "       [ 1.48291188e+02,  3.71686162e+00],\n",
       "       [ 2.46797000e+02, -4.27275301e+01],\n",
       "       [ 1.41757955e+02, -9.63515638e+00],\n",
       "       [ 7.82956025e+01, -7.80779704e+00],\n",
       "       [ 7.73224009e+01, -7.55710939e+00],\n",
       "       [ 1.20717642e+02, -1.19536511e+01],\n",
       "       [ 2.03046638e+02, -1.07295139e+01],\n",
       "       [ 2.01964277e+02, -8.73299993e+00],\n",
       "       [ 1.48291188e+02,  3.71686162e+00],\n",
       "       [ 1.07592339e+02, -2.24150112e+01],\n",
       "       [ 1.62546253e+02, -3.61523768e+00],\n",
       "       [ 1.53948647e+02,  6.79815510e+00],\n",
       "       [ 9.68262149e+01, -1.64247757e+01],\n",
       "       [ 9.68262149e+01, -1.64247757e+01],\n",
       "       [ 1.20677156e+02, -7.32813314e+00],\n",
       "       [ 7.41495688e+01, -1.60561805e+01],\n",
       "       [ 1.14326237e+02,  7.93135167e+00],\n",
       "       [ 1.61188966e+02, -3.21509594e+00],\n",
       "       [ 9.67131832e+01, -9.02424684e+00],\n",
       "       [ 2.40772993e+02,  6.93411815e+00],\n",
       "       [ 1.67601779e+02, -2.04053674e+01],\n",
       "       [ 1.61188966e+02, -3.21509594e+00],\n",
       "       [ 1.82884006e+02, -1.35760178e+01],\n",
       "       [ 1.53446732e+02, -4.06363238e+00],\n",
       "       [ 1.49517521e+02, -3.03232532e+00],\n",
       "       [ 1.51940976e+02, -1.59954810e+00],\n",
       "       [ 1.82884006e+02, -1.35760178e+01],\n",
       "       [ 1.51191013e+02, -4.49745253e+00],\n",
       "       [ 1.55147463e+02,  6.19454442e+00],\n",
       "       [ 1.27218747e+02, -1.55732935e+00],\n",
       "       [ 2.41793146e+02, -7.12865229e-01],\n",
       "       [ 1.77014823e+02,  7.53780165e+00],\n",
       "       [ 1.73885843e+02,  7.32081424e+00],\n",
       "       [ 6.11901073e+01, -6.53973668e+00],\n",
       "       [ 6.91513068e+01, -3.41709624e+00],\n",
       "       [ 1.06839740e+02, -9.80065074e+00],\n",
       "       [ 1.14754773e+02, -6.79396845e+00],\n",
       "       [ 1.20192332e+02,  6.38039016e+00],\n",
       "       [ 2.06537276e+02, -5.42232242e+00],\n",
       "       [ 2.03343904e+02,  1.19889515e+00],\n",
       "       [ 2.04013853e+02, -4.13296153e+00],\n",
       "       [ 1.86531683e+02,  8.82641554e-01],\n",
       "       [ 1.97574980e+02,  2.67968829e+00],\n",
       "       [ 1.98925382e+02,  1.87793216e-01],\n",
       "       [ 1.98925382e+02,  1.87793216e-01],\n",
       "       [ 1.98925382e+02,  1.87793216e-01],\n",
       "       [ 1.98925382e+02,  1.87793216e-01],\n",
       "       [ 1.63880806e+02,  1.27725182e+01],\n",
       "       [ 2.03073808e+02,  3.58177233e+00],\n",
       "       [ 1.59172940e+02, -1.37454851e+01],\n",
       "       [ 1.85056600e+02, -1.24809943e+01],\n",
       "       [ 1.78225292e+02, -1.07488237e+01],\n",
       "       [ 1.72687316e+02, -9.80368274e+00],\n",
       "       [ 2.01928815e+02,  3.27655581e+01],\n",
       "       [ 1.58438131e+02,  2.68627542e+01],\n",
       "       [ 1.25458172e+02, -4.39505423e+00],\n",
       "       [ 9.38944180e+01,  1.29349751e+01],\n",
       "       [ 7.54550187e+01, -7.11964057e+00],\n",
       "       [ 9.38944180e+01,  1.29349751e+01],\n",
       "       [ 1.73540876e+02, -1.31868422e+00],\n",
       "       [ 1.68694499e+02, -7.66962166e-01],\n",
       "       [ 1.68694499e+02, -7.66962166e-01],\n",
       "       [ 1.68438746e+02, -1.73732236e+00],\n",
       "       [ 1.71584904e+02, -1.51386946e+00],\n",
       "       [ 1.37890912e+02, -4.32044389e+00],\n",
       "       [ 1.52879261e+02, -1.98567425e+00],\n",
       "       [ 1.01562599e+02, -9.61869466e+00],\n",
       "       [ 1.68311764e+02, -6.78249957e+00],\n",
       "       [ 1.54087164e+02, -1.33594560e+00],\n",
       "       [ 1.73999323e+02,  8.17983626e+00],\n",
       "       [ 1.74716662e+02,  6.95891434e+00],\n",
       "       [ 1.33877430e+02,  8.85855506e+00],\n",
       "       [ 1.38907511e+02, -4.77339900e-01],\n",
       "       [ 1.40486613e+02,  1.36253959e+00],\n",
       "       [ 1.34399239e+02, -1.45954954e+01],\n",
       "       [ 7.01369847e+01, -7.65489713e+00],\n",
       "       [ 6.74238000e+01, -1.94213968e+00],\n",
       "       [ 1.40486613e+02,  1.36253959e+00],\n",
       "       [ 1.38907511e+02, -4.77339900e-01],\n",
       "       [ 1.42242890e+02, -2.13318089e-02],\n",
       "       [ 2.03650871e+02, -4.09560713e+01],\n",
       "       [ 3.35686798e+02,  4.90996398e+01],\n",
       "       [ 2.19496907e+02, -1.63805961e+01],\n",
       "       [ 1.48353336e+02,  2.99093658e-01],\n",
       "       [ 2.03369358e+02,  5.29945734e+00],\n",
       "       [ 9.12287540e+01,  1.05086238e+01],\n",
       "       [ 1.07169461e+02,  7.64064142e+00],\n",
       "       [ 1.40609409e+02,  2.17177037e+00],\n",
       "       [ 9.28872953e+01, -7.41721750e+00],\n",
       "       [ 1.37124601e+02, -3.81575730e+00],\n",
       "       [ 8.13690368e+01, -8.33365441e+00],\n",
       "       [ 9.28872953e+01, -7.41721750e+00],\n",
       "       [ 1.06101049e+02, -1.18450154e+01],\n",
       "       [ 1.79060049e+02,  1.13516973e+01],\n",
       "       [ 1.38097923e+02, -2.31375918e+01],\n",
       "       [ 1.49200189e+02,  1.21534599e+01],\n",
       "       [ 1.55579164e+02, -1.17593816e+01],\n",
       "       [ 1.29750623e+02, -1.58406891e+01],\n",
       "       [ 1.43825821e+02, -5.53577048e+00],\n",
       "       [ 1.51356826e+02,  8.61018265e+00],\n",
       "       [ 1.52568924e+02,  9.32999879e+00],\n",
       "       [ 1.35714414e+02, -6.83976378e-01],\n",
       "       [ 7.15962553e+01,  2.14333613e+00],\n",
       "       [ 1.69682957e+02,  3.45651223e+01],\n",
       "       [ 1.24859933e+02,  7.78452167e+00],\n",
       "       [ 1.47527986e+02,  2.03786310e+01],\n",
       "       [ 1.53613750e+02,  8.98414807e+00],\n",
       "       [ 1.42464509e+02, -3.34001731e+00],\n",
       "       [ 1.31174351e+02, -5.82012563e+00],\n",
       "       [ 1.42464509e+02, -3.34001731e+00],\n",
       "       [ 2.47018371e+02, -2.35515396e+01],\n",
       "       [ 1.97719718e+02, -5.27833471e-01],\n",
       "       [ 1.97719718e+02, -5.27833471e-01],\n",
       "       [ 1.69953467e+02, -1.89390088e+01],\n",
       "       [ 1.52536839e+02, -1.96434051e+01],\n",
       "       [ 1.67190928e+02,  1.54602472e+00],\n",
       "       [ 1.71288614e+02,  1.24546647e+01],\n",
       "       [ 8.79394111e+01,  2.09160590e+00],\n",
       "       [ 1.33612181e+02,  7.11053303e+00],\n",
       "       [ 1.97719718e+02, -5.27833471e-01],\n",
       "       [ 1.04019465e+02, -8.17768781e+00],\n",
       "       [ 1.17427314e+02, -2.14533356e-01],\n",
       "       [ 1.48917035e+02,  2.94786306e+00],\n",
       "       [ 1.53417665e+02,  7.47231199e-01],\n",
       "       [ 1.81770454e+02, -9.55108038e+00],\n",
       "       [ 7.75230249e+01,  7.46935984e+00],\n",
       "       [ 1.53417665e+02,  7.47231199e-01],\n",
       "       [ 1.81790337e+02, -9.55915568e+00],\n",
       "       [ 2.02037782e+02, -3.44055518e+01],\n",
       "       [ 1.52220710e+02, -8.13458302e+00],\n",
       "       [ 9.14398764e+01, -5.00002741e+00],\n",
       "       [ 9.14398764e+01, -5.00002741e+00],\n",
       "       [ 1.18825357e+02, -1.81883978e+01],\n",
       "       [ 1.00791039e+02, -4.29702829e+00],\n",
       "       [ 1.54795545e+02, -2.21800535e+01],\n",
       "       [ 1.18825357e+02, -1.81883978e+01],\n",
       "       [ 1.00791039e+02, -4.29702829e+00],\n",
       "       [ 1.86059712e+02,  2.35196148e+00],\n",
       "       [ 1.59287138e+02, -1.36351818e+01],\n",
       "       [ 1.52220710e+02, -8.13458302e+00],\n",
       "       [ 1.26707610e+02, -1.18719626e+01],\n",
       "       [ 9.14398764e+01, -5.00002741e+00],\n",
       "       [ 1.17901357e+02, -5.58236012e+00],\n",
       "       [ 2.72484927e+02,  1.53416024e+01],\n",
       "       [ 1.43438120e+02, -6.73665786e+00],\n",
       "       [ 1.91075407e+02,  1.35736494e+01],\n",
       "       [ 1.91075407e+02,  1.35736494e+01],\n",
       "       [ 6.79232833e+01, -4.13717615e+00],\n",
       "       [ 1.26693794e+02, -1.24873091e+01],\n",
       "       [ 7.27178223e+01,  1.87559031e+00],\n",
       "       [ 1.74023347e+02,  1.98263950e+01],\n",
       "       [ 1.84628565e+02,  4.22195159e+01],\n",
       "       [ 9.83287432e+01,  5.60838436e+00],\n",
       "       [ 1.12989972e+02,  6.99528170e+00],\n",
       "       [ 1.76664333e+02,  9.22847342e+00],\n",
       "       [ 8.91706811e+01,  1.00899693e+01],\n",
       "       [ 1.12989972e+02,  6.99528170e+00],\n",
       "       [ 1.74023347e+02,  1.98263950e+01],\n",
       "       [ 1.10591721e+02, -5.76181053e+00],\n",
       "       [ 2.58465512e+02, -8.64578091e+00],\n",
       "       [ 1.73592249e+02, -1.03287203e+01],\n",
       "       [ 1.84628565e+02,  4.22195159e+01],\n",
       "       [ 1.06680073e+02,  1.39005666e+01],\n",
       "       [ 1.24806752e+02, -1.86992204e+01],\n",
       "       [ 1.19366487e+02, -3.91632857e+00],\n",
       "       [ 9.83287432e+01,  5.60838436e+00],\n",
       "       [ 1.61703811e+02,  2.80228493e+00],\n",
       "       [ 1.46008020e+02,  2.31659068e+00],\n",
       "       [ 9.09827853e+01,  9.53392370e+00],\n",
       "       [ 9.09827853e+01,  9.53392370e+00],\n",
       "       [ 1.61703811e+02,  2.80228493e+00],\n",
       "       [ 1.46008020e+02,  2.31659068e+00],\n",
       "       [ 1.03222377e+02,  1.25231119e+00],\n",
       "       [ 2.17966726e+02,  3.16015706e+00],\n",
       "       [ 1.03222377e+02,  1.25231119e+00],\n",
       "       [ 1.41437479e+02, -2.34649354e+00],\n",
       "       [ 1.42611500e+02,  5.63689671e+00],\n",
       "       [ 2.24742660e+02, -1.91453964e+01],\n",
       "       [ 2.23773214e+02, -1.89029364e+01],\n",
       "       [ 2.23773214e+02, -1.89029364e+01],\n",
       "       [ 1.69302504e+02,  5.34505360e+00],\n",
       "       [ 2.24742660e+02, -1.91453964e+01],\n",
       "       [ 2.23773214e+02, -1.89029364e+01],\n",
       "       [ 2.00577748e+02, -1.32357900e+00],\n",
       "       [ 9.18146108e+01, -3.02983965e+00],\n",
       "       [ 2.04975887e+02,  3.74919734e+00],\n",
       "       [ 2.00577748e+02, -1.32357900e+00],\n",
       "       [ 8.67251006e+01, -2.76305411e+00],\n",
       "       [ 2.25744215e+02,  1.78274695e+01],\n",
       "       [ 1.50649311e+02, -2.22132649e+01],\n",
       "       [ 1.09425730e+02,  4.11177358e+00],\n",
       "       [ 1.00902769e+02, -9.71780201e-01],\n",
       "       [ 2.17554495e+02, -3.20902616e+01],\n",
       "       [ 1.92749113e+02,  9.56080201e-01],\n",
       "       [ 2.25885060e+02,  1.79811748e+01],\n",
       "       [ 1.10834646e+02, -4.80644987e+00],\n",
       "       [ 1.05474491e+02, -2.41198168e+00],\n",
       "       [ 1.39624548e+02, -9.81466945e+00],\n",
       "       [ 1.36129913e+02,  2.06664022e+01],\n",
       "       [ 2.51214569e+02, -8.18545933e+00],\n",
       "       [ 1.45964558e+02,  4.86258423e+00],\n",
       "       [ 6.91895458e+01, -7.88504024e-01],\n",
       "       [ 1.59127148e+02, -9.92731696e+00],\n",
       "       [ 1.16532410e+02, -4.47391656e+00],\n",
       "       [ 1.16532410e+02, -4.47391656e+00],\n",
       "       [ 1.31997126e+02,  1.10962716e+00],\n",
       "       [ 1.74449257e+02, -2.26530777e+01],\n",
       "       [ 1.32902584e+02,  8.61380798e-01],\n",
       "       [ 1.62144845e+02, -1.37635334e+01],\n",
       "       [ 1.17975179e+02,  2.64564454e+00],\n",
       "       [ 1.31997126e+02,  1.10962716e+00],\n",
       "       [ 1.16528297e+02, -4.47224611e+00],\n",
       "       [ 8.30196516e+01, -1.00727886e+01],\n",
       "       [ 1.14851849e+02, -2.30630425e+00],\n",
       "       [ 2.19461664e+02, -2.44258411e+01],\n",
       "       [ 2.62037318e+02,  1.87499178e+01],\n",
       "       [ 1.14851849e+02, -2.30630425e+00],\n",
       "       [ 1.76495263e+02, -3.27984972e+00],\n",
       "       [ 1.70125969e+02,  8.49212139e+00],\n",
       "       [ 7.03379858e+01, -2.61493242e+00],\n",
       "       [ 1.89461112e+02,  1.99416927e+01],\n",
       "       [ 1.31298165e+02,  1.81945038e+00],\n",
       "       [ 1.50735087e+02,  1.73742773e+01],\n",
       "       [ 7.03379858e+01, -2.61493242e+00],\n",
       "       [ 1.89461112e+02,  1.99416927e+01],\n",
       "       [ 1.91963304e+02,  1.25071304e+01],\n",
       "       [ 1.59180784e+02, -1.86139605e+01],\n",
       "       [ 2.02488735e+02, -1.68443915e+01],\n",
       "       [ 8.88669631e+01, -3.29437990e+00],\n",
       "       [ 1.36933205e+02,  4.63690409e-02],\n",
       "       [ 1.06905377e+02,  3.61569347e+00],\n",
       "       [ 2.34062486e+02, -2.83486386e+00],\n",
       "       [ 1.12868460e+02,  1.41965377e+01],\n",
       "       [ 1.19194433e+02, -7.69677712e-01],\n",
       "       [ 1.65397853e+02, -2.08285248e+01],\n",
       "       [ 1.75849646e+02,  2.38824666e+01],\n",
       "       [ 1.74935837e+02, -1.25319828e+01],\n",
       "       [ 1.12491391e+02,  1.74285210e+01],\n",
       "       [ 1.43813250e+02,  6.01769854e+00],\n",
       "       [ 1.74935837e+02, -1.25319828e+01],\n",
       "       [ 2.13721922e+02,  2.68469104e+01],\n",
       "       [ 1.22780833e+02,  5.53903978e+00],\n",
       "       [ 1.24502645e+02,  1.23121965e+01],\n",
       "       [ 9.57980756e+01,  8.30653800e+00],\n",
       "       [ 1.87875923e+02,  6.35889216e+00],\n",
       "       [ 1.84901727e+02,  6.47502637e+00],\n",
       "       [ 7.06531115e+01, -1.00178395e+01],\n",
       "       [ 6.68869825e+01, -4.90312275e+00],\n",
       "       [ 1.87390121e+02, -4.40457304e+00],\n",
       "       [ 1.60481474e+02, -1.23729028e+01],\n",
       "       [ 1.07272852e+02,  4.16510436e-01],\n",
       "       [ 1.75232480e+02, -1.58516955e+01],\n",
       "       [ 2.01048012e+02,  2.10828816e+01],\n",
       "       [ 1.53654073e+02,  4.80418063e+00],\n",
       "       [ 1.72070174e+02, -3.08267826e+01],\n",
       "       [ 2.01048012e+02,  2.10828816e+01]])"
      ]
     },
     "execution_count": 437,
     "metadata": {},
     "output_type": "execute_result"
    }
   ],
   "source": [
    "transformed1"
   ]
  },
  {
   "cell_type": "code",
   "execution_count": 438,
   "id": "950e2cf8",
   "metadata": {},
   "outputs": [
    {
     "data": {
      "text/plain": [
       "500"
      ]
     },
     "execution_count": 438,
     "metadata": {},
     "output_type": "execute_result"
    }
   ],
   "source": [
    "len(transformed1)"
   ]
  },
  {
   "cell_type": "code",
   "execution_count": 439,
   "id": "5630f518",
   "metadata": {},
   "outputs": [
    {
     "data": {
      "text/plain": [
       "(500, 2)"
      ]
     },
     "execution_count": 439,
     "metadata": {},
     "output_type": "execute_result"
    }
   ],
   "source": [
    "transformed1.shape"
   ]
  },
  {
   "cell_type": "code",
   "execution_count": 440,
   "id": "7cabd9c8",
   "metadata": {},
   "outputs": [],
   "source": [
    "from sklearn.model_selection import train_test_split\n",
    "x_train1,x_test1,y_train1,y_test1=train_test_split(transformed1,y,test_size=0.3)"
   ]
  },
  {
   "cell_type": "code",
   "execution_count": 441,
   "id": "e50f6824",
   "metadata": {},
   "outputs": [
    {
     "data": {
      "text/plain": [
       "(350, 2)"
      ]
     },
     "execution_count": 441,
     "metadata": {},
     "output_type": "execute_result"
    }
   ],
   "source": [
    "x_train1.shape"
   ]
  },
  {
   "cell_type": "code",
   "execution_count": 442,
   "id": "39e7cf1d",
   "metadata": {},
   "outputs": [
    {
     "data": {
      "text/plain": [
       "(150, 2)"
      ]
     },
     "execution_count": 442,
     "metadata": {},
     "output_type": "execute_result"
    }
   ],
   "source": [
    "x_test1.shape"
   ]
  },
  {
   "cell_type": "code",
   "execution_count": 443,
   "id": "fca4d177",
   "metadata": {},
   "outputs": [
    {
     "data": {
      "text/plain": [
       "(350,)"
      ]
     },
     "execution_count": 443,
     "metadata": {},
     "output_type": "execute_result"
    }
   ],
   "source": [
    "y_train1.shape"
   ]
  },
  {
   "cell_type": "code",
   "execution_count": 444,
   "id": "4c0109f6",
   "metadata": {},
   "outputs": [
    {
     "data": {
      "text/plain": [
       "(150,)"
      ]
     },
     "execution_count": 444,
     "metadata": {},
     "output_type": "execute_result"
    }
   ],
   "source": [
    "y_test1.shape"
   ]
  },
  {
   "cell_type": "code",
   "execution_count": 445,
   "id": "13f6cf59",
   "metadata": {},
   "outputs": [],
   "source": [
    "from sklearn.linear_model import LinearRegression\n",
    "model1=LogisticRegression()"
   ]
  },
  {
   "cell_type": "code",
   "execution_count": 446,
   "id": "67b865d3",
   "metadata": {},
   "outputs": [
    {
     "name": "stderr",
     "output_type": "stream",
     "text": [
      "C:\\ProgramData\\Anaconda3\\lib\\site-packages\\sklearn\\linear_model\\_logistic.py:763: ConvergenceWarning: lbfgs failed to converge (status=1):\n",
      "STOP: TOTAL NO. of ITERATIONS REACHED LIMIT.\n",
      "\n",
      "Increase the number of iterations (max_iter) or scale the data as shown in:\n",
      "    https://scikit-learn.org/stable/modules/preprocessing.html\n",
      "Please also refer to the documentation for alternative solver options:\n",
      "    https://scikit-learn.org/stable/modules/linear_model.html#logistic-regression\n",
      "  n_iter_i = _check_optimize_result(\n"
     ]
    },
    {
     "data": {
      "text/plain": [
       "LogisticRegression()"
      ]
     },
     "execution_count": 446,
     "metadata": {},
     "output_type": "execute_result"
    }
   ],
   "source": [
    "model1.fit(x_train1,y_train1)"
   ]
  },
  {
   "cell_type": "code",
   "execution_count": 447,
   "id": "314c234c",
   "metadata": {},
   "outputs": [
    {
     "data": {
      "text/plain": [
       "array([6, 6, 6, 5, 6, 6, 6, 5, 6, 6, 6, 6, 6, 6, 6, 6, 6, 6, 6, 6, 6, 6,\n",
       "       6, 6, 6, 5, 6, 6, 6, 6, 5, 6, 6, 6, 6, 6, 6, 6, 6, 6, 6, 6, 5, 6,\n",
       "       6, 6, 6, 6, 6, 5, 6, 6, 6, 6, 6, 6, 6, 5, 6, 6, 6, 6, 6, 6, 6, 6,\n",
       "       6, 6, 6, 6, 6, 6, 6, 5, 6, 6, 6, 6, 6, 6, 6, 6, 6, 6, 6, 6, 6, 6,\n",
       "       6, 6, 6, 5, 6, 5, 6, 6, 6, 6, 6, 6, 6, 6, 6, 6, 6, 6, 6, 6, 6, 6,\n",
       "       5, 6, 6, 5, 6, 6, 6, 6, 5, 6, 6, 6, 5, 6, 6, 6, 6, 6, 6, 6, 6, 6,\n",
       "       6, 6, 6, 6, 6, 6, 6, 6, 6, 6, 6, 6, 6, 6, 6, 6, 6, 6], dtype=int64)"
      ]
     },
     "execution_count": 447,
     "metadata": {},
     "output_type": "execute_result"
    }
   ],
   "source": [
    "y_pred1=model1.predict(x_test1)\n",
    "y_pred1"
   ]
  },
  {
   "cell_type": "code",
   "execution_count": 448,
   "id": "cde968c5",
   "metadata": {},
   "outputs": [
    {
     "data": {
      "text/plain": [
       "187    5\n",
       "323    6\n",
       "21     7\n",
       "40     6\n",
       "462    5\n",
       "      ..\n",
       "197    5\n",
       "390    7\n",
       "269    6\n",
       "267    5\n",
       "169    5\n",
       "Name: quality, Length: 150, dtype: int64"
      ]
     },
     "execution_count": 448,
     "metadata": {},
     "output_type": "execute_result"
    }
   ],
   "source": [
    "y_test1"
   ]
  },
  {
   "cell_type": "code",
   "execution_count": 449,
   "id": "01ae31f5",
   "metadata": {},
   "outputs": [
    {
     "name": "stdout",
     "output_type": "stream",
     "text": [
      "error 0.62\n"
     ]
    }
   ],
   "source": [
    "print(\"error\",mean_absolute_error(y_pred1,y_test1))"
   ]
  },
  {
   "cell_type": "code",
   "execution_count": 450,
   "id": "3997aa5a",
   "metadata": {},
   "outputs": [
    {
     "data": {
      "text/plain": [
       "0.44666666666666666"
      ]
     },
     "execution_count": 450,
     "metadata": {},
     "output_type": "execute_result"
    }
   ],
   "source": [
    "model1.score(x_test1,y_test1)"
   ]
  },
  {
   "cell_type": "code",
   "execution_count": 451,
   "id": "f580f8e8",
   "metadata": {},
   "outputs": [
    {
     "data": {
      "text/plain": [
       "0.44285714285714284"
      ]
     },
     "execution_count": 451,
     "metadata": {},
     "output_type": "execute_result"
    }
   ],
   "source": [
    "\n",
    "model1.score(x_train1,y_train1)"
   ]
  },
  {
   "cell_type": "markdown",
   "id": "f17f140c",
   "metadata": {},
   "source": [
    "# The SVD's Output is not performing well the accuracy was better in applying without SVD¶"
   ]
  },
  {
   "cell_type": "markdown",
   "id": "5f34eff0",
   "metadata": {},
   "source": [
    "# Now apply SVD on different Trauncate values and then check the accuracy"
   ]
  },
  {
   "cell_type": "code",
   "execution_count": null,
   "id": "7cce3600",
   "metadata": {},
   "outputs": [],
   "source": []
  },
  {
   "cell_type": "code",
   "execution_count": 452,
   "id": "59f39c89",
   "metadata": {},
   "outputs": [],
   "source": [
    "def truncate():\n",
    "    \n",
    "    svd=TruncatedSVD(n_components=int(input('enter a number')))\n",
    "    svd.fit(x)\n",
    "    transformed2=svd.transform(x)\n",
    "    return transformed2"
   ]
  },
  {
   "cell_type": "code",
   "execution_count": 453,
   "id": "7bca7061",
   "metadata": {},
   "outputs": [
    {
     "name": "stdout",
     "output_type": "stream",
     "text": [
      "enter a number\n"
     ]
    },
    {
     "ename": "ValueError",
     "evalue": "invalid literal for int() with base 10: ''",
     "output_type": "error",
     "traceback": [
      "\u001b[1;31m---------------------------------------------------------------------------\u001b[0m",
      "\u001b[1;31mValueError\u001b[0m                                Traceback (most recent call last)",
      "\u001b[1;32m<ipython-input-453-af85bcd5fad4>\u001b[0m in \u001b[0;36m<module>\u001b[1;34m\u001b[0m\n\u001b[1;32m----> 1\u001b[1;33m \u001b[0mtransformed2\u001b[0m\u001b[1;33m=\u001b[0m\u001b[0mtruncate\u001b[0m\u001b[1;33m(\u001b[0m\u001b[1;33m)\u001b[0m\u001b[1;33m\u001b[0m\u001b[1;33m\u001b[0m\u001b[0m\n\u001b[0m\u001b[0;32m      2\u001b[0m \u001b[0mtransformed2\u001b[0m\u001b[1;33m.\u001b[0m\u001b[0mshape\u001b[0m\u001b[1;33m\u001b[0m\u001b[1;33m\u001b[0m\u001b[0m\n",
      "\u001b[1;32m<ipython-input-452-9d0a02a44b03>\u001b[0m in \u001b[0;36mtruncate\u001b[1;34m()\u001b[0m\n\u001b[0;32m      1\u001b[0m \u001b[1;32mdef\u001b[0m \u001b[0mtruncate\u001b[0m\u001b[1;33m(\u001b[0m\u001b[1;33m)\u001b[0m\u001b[1;33m:\u001b[0m\u001b[1;33m\u001b[0m\u001b[1;33m\u001b[0m\u001b[0m\n\u001b[0;32m      2\u001b[0m \u001b[1;33m\u001b[0m\u001b[0m\n\u001b[1;32m----> 3\u001b[1;33m     \u001b[0msvd\u001b[0m\u001b[1;33m=\u001b[0m\u001b[0mTruncatedSVD\u001b[0m\u001b[1;33m(\u001b[0m\u001b[0mn_components\u001b[0m\u001b[1;33m=\u001b[0m\u001b[0mint\u001b[0m\u001b[1;33m(\u001b[0m\u001b[0minput\u001b[0m\u001b[1;33m(\u001b[0m\u001b[1;34m'enter a number'\u001b[0m\u001b[1;33m)\u001b[0m\u001b[1;33m)\u001b[0m\u001b[1;33m)\u001b[0m\u001b[1;33m\u001b[0m\u001b[1;33m\u001b[0m\u001b[0m\n\u001b[0m\u001b[0;32m      4\u001b[0m     \u001b[0msvd\u001b[0m\u001b[1;33m.\u001b[0m\u001b[0mfit\u001b[0m\u001b[1;33m(\u001b[0m\u001b[0mx\u001b[0m\u001b[1;33m)\u001b[0m\u001b[1;33m\u001b[0m\u001b[1;33m\u001b[0m\u001b[0m\n\u001b[0;32m      5\u001b[0m     \u001b[0mtransformed2\u001b[0m\u001b[1;33m=\u001b[0m\u001b[0msvd\u001b[0m\u001b[1;33m.\u001b[0m\u001b[0mtransform\u001b[0m\u001b[1;33m(\u001b[0m\u001b[0mx\u001b[0m\u001b[1;33m)\u001b[0m\u001b[1;33m\u001b[0m\u001b[1;33m\u001b[0m\u001b[0m\n",
      "\u001b[1;31mValueError\u001b[0m: invalid literal for int() with base 10: ''"
     ]
    }
   ],
   "source": [
    "transformed2=truncate()\n",
    "transformed2.shape"
   ]
  },
  {
   "cell_type": "code",
   "execution_count": 454,
   "id": "cdc9353f",
   "metadata": {},
   "outputs": [
    {
     "data": {
      "text/plain": [
       "array([[ 0.54382444,  0.19917898,  2.68702115, ..., -0.22967618,\n",
       "         0.30614704,  0.83849438],\n",
       "       [-0.43746953, -1.59836903, -0.62861719, ..., -0.08175695,\n",
       "        -0.5428926 ,  0.5264464 ],\n",
       "       [-1.07775837,  0.43451735,  0.04663664, ..., -0.04793152,\n",
       "        -0.07896823, -1.44571025],\n",
       "       ...,\n",
       "       [ 0.03709308,  0.42603361, -1.22209808, ..., -0.22409323,\n",
       "         0.71728112, -0.92905278],\n",
       "       [ 0.43718839, -2.54951448, -0.71214363, ...,  0.80042912,\n",
       "         0.46501258,  1.03501511],\n",
       "       [ 1.0667406 ,  1.78547082,  0.52499686, ...,  2.09912946,\n",
       "        -1.44104277, -0.62640879]])"
      ]
     },
     "execution_count": 454,
     "metadata": {},
     "output_type": "execute_result"
    }
   ],
   "source": [
    "transformed2"
   ]
  },
  {
   "cell_type": "code",
   "execution_count": 455,
   "id": "ac45c1d7",
   "metadata": {},
   "outputs": [],
   "source": [
    "scalar3=StandardScaler()\n",
    "transformed2=scalar3.fit_transform(transformed2)"
   ]
  },
  {
   "cell_type": "code",
   "execution_count": 456,
   "id": "d1c68222",
   "metadata": {},
   "outputs": [
    {
     "data": {
      "text/plain": [
       "array([[ 0.54382444,  0.19917898,  2.68702115, ..., -0.22967618,\n",
       "         0.30614704,  0.83849438],\n",
       "       [-0.43746953, -1.59836903, -0.62861719, ..., -0.08175695,\n",
       "        -0.5428926 ,  0.5264464 ],\n",
       "       [-1.07775837,  0.43451735,  0.04663664, ..., -0.04793152,\n",
       "        -0.07896823, -1.44571025],\n",
       "       ...,\n",
       "       [ 0.03709308,  0.42603361, -1.22209808, ..., -0.22409323,\n",
       "         0.71728112, -0.92905278],\n",
       "       [ 0.43718839, -2.54951448, -0.71214363, ...,  0.80042912,\n",
       "         0.46501258,  1.03501511],\n",
       "       [ 1.0667406 ,  1.78547082,  0.52499686, ...,  2.09912946,\n",
       "        -1.44104277, -0.62640879]])"
      ]
     },
     "execution_count": 456,
     "metadata": {},
     "output_type": "execute_result"
    }
   ],
   "source": [
    "transformed2"
   ]
  },
  {
   "cell_type": "code",
   "execution_count": 457,
   "id": "1a1d3fdf",
   "metadata": {},
   "outputs": [],
   "source": [
    "x_train3,x_test3,y_train3,y_test3=train_test_split(transformed2,y,test_size=0.3)"
   ]
  },
  {
   "cell_type": "code",
   "execution_count": 458,
   "id": "856ac210",
   "metadata": {},
   "outputs": [
    {
     "data": {
      "text/plain": [
       "(350, 10)"
      ]
     },
     "execution_count": 458,
     "metadata": {},
     "output_type": "execute_result"
    }
   ],
   "source": [
    "x_train3.shape"
   ]
  },
  {
   "cell_type": "code",
   "execution_count": 459,
   "id": "39fd986e",
   "metadata": {},
   "outputs": [
    {
     "data": {
      "text/plain": [
       "(150, 10)"
      ]
     },
     "execution_count": 459,
     "metadata": {},
     "output_type": "execute_result"
    }
   ],
   "source": [
    "x_test3.shape"
   ]
  },
  {
   "cell_type": "code",
   "execution_count": 460,
   "id": "bc5b0dcc",
   "metadata": {},
   "outputs": [
    {
     "data": {
      "text/plain": [
       "(350,)"
      ]
     },
     "execution_count": 460,
     "metadata": {},
     "output_type": "execute_result"
    }
   ],
   "source": [
    "y_train3.shape"
   ]
  },
  {
   "cell_type": "code",
   "execution_count": 461,
   "id": "265379c6",
   "metadata": {},
   "outputs": [
    {
     "data": {
      "text/plain": [
       "(150,)"
      ]
     },
     "execution_count": 461,
     "metadata": {},
     "output_type": "execute_result"
    }
   ],
   "source": [
    "y_test3.shape"
   ]
  },
  {
   "cell_type": "code",
   "execution_count": 462,
   "id": "4eae6618",
   "metadata": {},
   "outputs": [],
   "source": [
    "model3=LogisticRegression()"
   ]
  },
  {
   "cell_type": "code",
   "execution_count": 463,
   "id": "cdf75f3e",
   "metadata": {},
   "outputs": [
    {
     "data": {
      "text/plain": [
       "LogisticRegression()"
      ]
     },
     "execution_count": 463,
     "metadata": {},
     "output_type": "execute_result"
    }
   ],
   "source": [
    "model3.fit(x_train3,y_train3)"
   ]
  },
  {
   "cell_type": "code",
   "execution_count": 464,
   "id": "ee59f497",
   "metadata": {},
   "outputs": [],
   "source": [
    "y_pred3=model3.predict(x_test3)"
   ]
  },
  {
   "cell_type": "code",
   "execution_count": 465,
   "id": "7a1d08ef",
   "metadata": {},
   "outputs": [
    {
     "data": {
      "text/plain": [
       "array([6, 7, 6, 6, 5, 6, 6, 6, 6, 6, 6, 6, 6, 5, 6, 6, 6, 6, 6, 5, 6, 6,\n",
       "       5, 6, 6, 6, 6, 5, 6, 6, 7, 6, 5, 5, 6, 6, 5, 6, 6, 6, 5, 5, 5, 6,\n",
       "       6, 6, 6, 6, 6, 6, 7, 6, 7, 6, 6, 6, 6, 5, 6, 6, 6, 5, 6, 4, 6, 6,\n",
       "       6, 6, 7, 6, 5, 6, 5, 5, 5, 6, 6, 7, 7, 6, 6, 5, 6, 6, 6, 6, 5, 6,\n",
       "       6, 7, 5, 5, 5, 6, 6, 5, 5, 6, 7, 6, 5, 6, 6, 6, 5, 6, 6, 8, 6, 6,\n",
       "       5, 5, 7, 6, 7, 6, 6, 6, 5, 7, 6, 6, 6, 5, 6, 7, 5, 6, 5, 6, 5, 6,\n",
       "       6, 8, 5, 7, 6, 5, 6, 7, 6, 6, 5, 6, 6, 7, 7, 6, 6, 5], dtype=int64)"
      ]
     },
     "execution_count": 465,
     "metadata": {},
     "output_type": "execute_result"
    }
   ],
   "source": [
    "y_pred3"
   ]
  },
  {
   "cell_type": "code",
   "execution_count": 466,
   "id": "0cc0b0c2",
   "metadata": {},
   "outputs": [
    {
     "data": {
      "text/plain": [
       "0.54"
      ]
     },
     "execution_count": 466,
     "metadata": {},
     "output_type": "execute_result"
    }
   ],
   "source": [
    "model3.score(x_train3,y_train3)"
   ]
  },
  {
   "cell_type": "code",
   "execution_count": 467,
   "id": "9a582b4c",
   "metadata": {},
   "outputs": [
    {
     "data": {
      "text/plain": [
       "0.5533333333333333"
      ]
     },
     "execution_count": 467,
     "metadata": {},
     "output_type": "execute_result"
    }
   ],
   "source": [
    "model3.score(x_test3,y_test3)"
   ]
  },
  {
   "cell_type": "code",
   "execution_count": 468,
   "id": "25a9090e",
   "metadata": {},
   "outputs": [
    {
     "name": "stdout",
     "output_type": "stream",
     "text": [
      "error for model3  0.49333333333333335\n"
     ]
    }
   ],
   "source": [
    "print(\"error for model3 \",mean_absolute_error(y_pred3,y_test3))"
   ]
  },
  {
   "cell_type": "markdown",
   "id": "1e0487d2",
   "metadata": {},
   "source": [
    "# Analysis for all the trauncate values"
   ]
  },
  {
   "cell_type": "code",
   "execution_count": 469,
   "id": "5622b3d1",
   "metadata": {},
   "outputs": [
    {
     "name": "stdout",
     "output_type": "stream",
     "text": [
      "training accuracy 0.5857142857142857\n",
      "testing accuracy 0.48\n"
     ]
    }
   ],
   "source": [
    "#Only logistic without SVD\n",
    "print(\"training accuracy\",train_acc)\n",
    "print('testing accuracy',test_acc)"
   ]
  },
  {
   "cell_type": "code",
   "execution_count": 470,
   "id": "55ffa127",
   "metadata": {},
   "outputs": [
    {
     "name": "stdout",
     "output_type": "stream",
     "text": [
      "training accuracy 0.44285714285714284\n",
      "testing accuracy 0.44666666666666666\n"
     ]
    }
   ],
   "source": [
    "# after applying svd on entire dataset\n",
    "print('training accuracy',model1.score(x_train1,y_train1))\n",
    "print('testing accuracy',model1.score(x_test1,y_test1))"
   ]
  },
  {
   "cell_type": "code",
   "execution_count": null,
   "id": "70bfafc8",
   "metadata": {},
   "outputs": [],
   "source": []
  },
  {
   "cell_type": "code",
   "execution_count": null,
   "id": "e2800ba9",
   "metadata": {},
   "outputs": [],
   "source": []
  }
 ],
 "metadata": {
  "kernelspec": {
   "display_name": "Python 3",
   "language": "python",
   "name": "python3"
  },
  "language_info": {
   "codemirror_mode": {
    "name": "ipython",
    "version": 3
   },
   "file_extension": ".py",
   "mimetype": "text/x-python",
   "name": "python",
   "nbconvert_exporter": "python",
   "pygments_lexer": "ipython3",
   "version": "3.8.8"
  }
 },
 "nbformat": 4,
 "nbformat_minor": 5
}
