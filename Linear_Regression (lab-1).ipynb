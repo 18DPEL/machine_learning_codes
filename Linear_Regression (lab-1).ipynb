{
 "cells": [
  {
   "cell_type": "markdown",
   "id": "eba4ea67",
   "metadata": {},
   "source": [
    "# Linear Regression model from model and Scratch"
   ]
  },
  {
   "cell_type": "markdown",
   "id": "ef80d77d",
   "metadata": {},
   "source": [
    "Name:- Ayub Alam"
   ]
  },
  {
   "cell_type": "markdown",
   "id": "43a4d4fa",
   "metadata": {},
   "source": [
    "Rollno:-TNU2021053100031L"
   ]
  },
  {
   "cell_type": "markdown",
   "id": "f645b229",
   "metadata": {},
   "source": [
    "Assignment date:-"
   ]
  },
  {
   "cell_type": "markdown",
   "id": "d7dde940",
   "metadata": {},
   "source": [
    "Submission date:-"
   ]
  },
  {
   "cell_type": "markdown",
   "id": "e85efeaf",
   "metadata": {},
   "source": [
    "Consider the following dataset containg the Years of Experience and Salary of Employees\n",
    "and do the following:\n",
    "1. Load the Dataset and Display only top 5 samples of the dataset.\n",
    "2. Extract the independent and dependent variable\n",
    "3. Handling the missing data\n",
    "4. Split the dataset into training and testing data\n",
    "5. Build the model using the inbuilt Linear Regression model\n",
    "6. Find the slope, intercept and error incurred by the model\n",
    "7. Display the scatter plot showing the linear regression line.\n",
    "8. Implement the Linear Regression model from scratch and validate the \n",
    "model with the model developed in Qn. 5.\n",
    "9. Predict the value of salary if a person is having experience of 10 years using both\n",
    "the models.\n"
   ]
  },
  {
   "cell_type": "markdown",
   "id": "abc77f21",
   "metadata": {},
   "source": [
    "here i am importing some important library "
   ]
  },
  {
   "cell_type": "code",
   "execution_count": 2,
   "id": "e2b9bbdd",
   "metadata": {},
   "outputs": [],
   "source": [
    "import pandas as pd\n",
    "import numpy as np\n",
    "import matplotlib.pyplot as plt"
   ]
  },
  {
   "cell_type": "code",
   "execution_count": 3,
   "id": "57855b8f",
   "metadata": {},
   "outputs": [
    {
     "data": {
      "text/html": [
       "<div>\n",
       "<style scoped>\n",
       "    .dataframe tbody tr th:only-of-type {\n",
       "        vertical-align: middle;\n",
       "    }\n",
       "\n",
       "    .dataframe tbody tr th {\n",
       "        vertical-align: top;\n",
       "    }\n",
       "\n",
       "    .dataframe thead th {\n",
       "        text-align: right;\n",
       "    }\n",
       "</style>\n",
       "<table border=\"1\" class=\"dataframe\">\n",
       "  <thead>\n",
       "    <tr style=\"text-align: right;\">\n",
       "      <th></th>\n",
       "      <th>YearsExperience</th>\n",
       "      <th>Salary</th>\n",
       "    </tr>\n",
       "  </thead>\n",
       "  <tbody>\n",
       "    <tr>\n",
       "      <th>0</th>\n",
       "      <td>1.1</td>\n",
       "      <td>39343.0</td>\n",
       "    </tr>\n",
       "    <tr>\n",
       "      <th>1</th>\n",
       "      <td>1.3</td>\n",
       "      <td>46205.0</td>\n",
       "    </tr>\n",
       "    <tr>\n",
       "      <th>2</th>\n",
       "      <td>1.5</td>\n",
       "      <td>37731.0</td>\n",
       "    </tr>\n",
       "    <tr>\n",
       "      <th>3</th>\n",
       "      <td>2.0</td>\n",
       "      <td>43525.0</td>\n",
       "    </tr>\n",
       "    <tr>\n",
       "      <th>4</th>\n",
       "      <td>2.2</td>\n",
       "      <td>39891.0</td>\n",
       "    </tr>\n",
       "  </tbody>\n",
       "</table>\n",
       "</div>"
      ],
      "text/plain": [
       "   YearsExperience   Salary\n",
       "0              1.1  39343.0\n",
       "1              1.3  46205.0\n",
       "2              1.5  37731.0\n",
       "3              2.0  43525.0\n",
       "4              2.2  39891.0"
      ]
     },
     "execution_count": 3,
     "metadata": {},
     "output_type": "execute_result"
    }
   ],
   "source": [
    "#insert ypur data using pandas library\n",
    "data=pd.read_csv('linear_regression.csv')\n",
    "data.head()"
   ]
  },
  {
   "cell_type": "code",
   "execution_count": 4,
   "id": "e8eef382",
   "metadata": {},
   "outputs": [
    {
     "data": {
      "text/plain": [
       "array([[ 1.1],\n",
       "       [ 1.3],\n",
       "       [ 1.5],\n",
       "       [ 2. ],\n",
       "       [ 2.2],\n",
       "       [ 2.9],\n",
       "       [ 3. ],\n",
       "       [ 3.2],\n",
       "       [ 3.2],\n",
       "       [ 3.7],\n",
       "       [ 3.9],\n",
       "       [ 4. ],\n",
       "       [ 4. ],\n",
       "       [ 4.1],\n",
       "       [ 4.5],\n",
       "       [ 4.9],\n",
       "       [ 5.1],\n",
       "       [ 5.3],\n",
       "       [ 5.9],\n",
       "       [ 6. ],\n",
       "       [ 6.8],\n",
       "       [ 7.1],\n",
       "       [ 7.9],\n",
       "       [ 8.2],\n",
       "       [ 8.7],\n",
       "       [ 9. ],\n",
       "       [ 9.5],\n",
       "       [ 9.6],\n",
       "       [10.3],\n",
       "       [10.5]])"
      ]
     },
     "execution_count": 4,
     "metadata": {},
     "output_type": "execute_result"
    }
   ],
   "source": [
    "#split the indipendent and dependent like x is dependent variable \n",
    "x=data.iloc[:,:-1].values\n",
    "x"
   ]
  },
  {
   "cell_type": "code",
   "execution_count": 5,
   "id": "27145b75",
   "metadata": {},
   "outputs": [
    {
     "data": {
      "text/plain": [
       "array([ 39343.,  46205.,  37731.,  43525.,  39891.,  56642.,  60150.,\n",
       "        54445.,  64445.,  57189.,  63218.,  55794.,  56957.,  57081.,\n",
       "        61111.,  67938.,  66029.,  83088.,  81363.,  93940.,  91738.,\n",
       "        98273., 101302., 113812., 109431., 105582., 116969., 112635.,\n",
       "       122391., 121872.])"
      ]
     },
     "execution_count": 5,
     "metadata": {},
     "output_type": "execute_result"
    }
   ],
   "source": [
    "#y is dependent variable \n",
    "y=data.iloc[:,-1].values\n",
    "y"
   ]
  },
  {
   "cell_type": "code",
   "execution_count": 6,
   "id": "aaf98a82",
   "metadata": {},
   "outputs": [
    {
     "data": {
      "text/plain": [
       "array([[ 2.9],\n",
       "       [ 5.1],\n",
       "       [ 3.2],\n",
       "       [ 4.5],\n",
       "       [ 8.2],\n",
       "       [ 6.8],\n",
       "       [ 1.3],\n",
       "       [10.5],\n",
       "       [ 3. ],\n",
       "       [ 2.2],\n",
       "       [ 5.9],\n",
       "       [ 6. ],\n",
       "       [ 3.7],\n",
       "       [ 3.2],\n",
       "       [ 9. ],\n",
       "       [ 2. ],\n",
       "       [ 1.1],\n",
       "       [ 7.1],\n",
       "       [ 4.9],\n",
       "       [ 4. ]])"
      ]
     },
     "execution_count": 6,
     "metadata": {},
     "output_type": "execute_result"
    }
   ],
   "source": [
    "#use the sklearn model for spliting the testing or training data \n",
    "from sklearn.model_selection import train_test_split\n",
    "#here we spliting the hole in 1/3 (there is x_train,y_train) 75 for testing and 25% testing\n",
    "x_train,x_test,y_train,y_test=train_test_split(x,y,test_size=1/3,random_state=0)\n",
    "x_train"
   ]
  },
  {
   "cell_type": "code",
   "execution_count": 7,
   "id": "7df72059",
   "metadata": {},
   "outputs": [
    {
     "data": {
      "text/plain": [
       "array([ 56642.,  66029.,  64445.,  61111., 113812.,  91738.,  46205.,\n",
       "       121872.,  60150.,  39891.,  81363.,  93940.,  57189.,  54445.,\n",
       "       105582.,  43525.,  39343.,  98273.,  67938.,  56957.])"
      ]
     },
     "execution_count": 7,
     "metadata": {},
     "output_type": "execute_result"
    }
   ],
   "source": [
    "y_train"
   ]
  },
  {
   "cell_type": "code",
   "execution_count": 8,
   "id": "d582f370",
   "metadata": {},
   "outputs": [
    {
     "data": {
      "text/plain": [
       "array([[ 1.5],\n",
       "       [10.3],\n",
       "       [ 4.1],\n",
       "       [ 3.9],\n",
       "       [ 9.5],\n",
       "       [ 8.7],\n",
       "       [ 9.6],\n",
       "       [ 4. ],\n",
       "       [ 5.3],\n",
       "       [ 7.9]])"
      ]
     },
     "execution_count": 8,
     "metadata": {},
     "output_type": "execute_result"
    }
   ],
   "source": [
    "x_test"
   ]
  },
  {
   "cell_type": "code",
   "execution_count": null,
   "id": "d6a8851c",
   "metadata": {},
   "outputs": [],
   "source": []
  },
  {
   "cell_type": "code",
   "execution_count": 9,
   "id": "0531c129",
   "metadata": {},
   "outputs": [
    {
     "data": {
      "text/plain": [
       "LinearRegression()"
      ]
     },
     "execution_count": 9,
     "metadata": {},
     "output_type": "execute_result"
    }
   ],
   "source": [
    "#use sklearn.linear_model for LinearRegression that will help you\n",
    "from sklearn.linear_model import LinearRegression\n",
    "linear=LinearRegression()\n",
    "linear"
   ]
  },
  {
   "cell_type": "code",
   "execution_count": 10,
   "id": "9519c006",
   "metadata": {},
   "outputs": [
    {
     "data": {
      "text/plain": [
       "LinearRegression()"
      ]
     },
     "execution_count": 10,
     "metadata": {},
     "output_type": "execute_result"
    }
   ],
   "source": [
    "#here we fit the model with the help of x,y\n",
    "model=linear.fit(x,y)\n",
    "model"
   ]
  },
  {
   "cell_type": "code",
   "execution_count": 11,
   "id": "684800dd",
   "metadata": {},
   "outputs": [
    {
     "data": {
      "text/plain": [
       "array([ 36187.15875227,  38077.15121656,  39967.14368085,  44692.12484158,\n",
       "        46582.11730587,  53197.09093089,  54142.08716303,  56032.07962732,\n",
       "        56032.07962732,  60757.06078805,  62647.05325234,  63592.04948449,\n",
       "        63592.04948449,  64537.04571663,  68317.03064522,  72097.0155738 ,\n",
       "        73987.00803809,  75877.00050238,  81546.97789525,  82491.9741274 ,\n",
       "        90051.94398456,  92886.932681  , 100446.90253816, 103281.8912346 ,\n",
       "       108006.87239533, 110841.86109176, 115566.84225249, 116511.83848464,\n",
       "       123126.81210966, 125016.80457395])"
      ]
     },
     "execution_count": 11,
     "metadata": {},
     "output_type": "execute_result"
    }
   ],
   "source": [
    "y_pred=model.predict(x)\n",
    "y_pred"
   ]
  },
  {
   "cell_type": "code",
   "execution_count": 12,
   "id": "76bfb0c2",
   "metadata": {},
   "outputs": [
    {
     "data": {
      "text/plain": [
       "array([9449.96232146])"
      ]
     },
     "execution_count": 12,
     "metadata": {},
     "output_type": "execute_result"
    }
   ],
   "source": [
    "#find the coefficient\n",
    "model.coef_"
   ]
  },
  {
   "cell_type": "code",
   "execution_count": 13,
   "id": "8f6e6954",
   "metadata": {},
   "outputs": [
    {
     "data": {
      "text/plain": [
       "25792.20019866871"
      ]
     },
     "execution_count": 13,
     "metadata": {},
     "output_type": "execute_result"
    }
   ],
   "source": [
    "#find the intercept value\n",
    "model.intercept_"
   ]
  },
  {
   "cell_type": "code",
   "execution_count": 14,
   "id": "444d45b7",
   "metadata": {},
   "outputs": [
    {
     "name": "stdout",
     "output_type": "stream",
     "text": [
      "31270951.722280968\n"
     ]
    }
   ],
   "source": [
    "#find the mean_squared_error and mean_squared_error using the sklearn.metrics\n",
    "from sklearn.metrics import mean_absolute_error,mean_squared_error\n",
    "print(mean_squared_error(y,y_pred))"
   ]
  },
  {
   "cell_type": "code",
   "execution_count": 15,
   "id": "fbf3b2db",
   "metadata": {},
   "outputs": [
    {
     "data": {
      "image/png": "[encoded data removed]",
      "text/plain": [
       "<Figure size 432x288 with 1 Axes>"
      ]
     },
     "metadata": {
      "needs_background": "light"
     },
     "output_type": "display_data"
    }
   ],
   "source": [
    "#here we draw the scatter plot in between x,y and draw a line between x_train,y_train\n",
    "plt.scatter(x,y,color=\"red\")\n",
    "plt.scatter(x_train,y_train,color=\"red\")\n",
    "plt.plot(x_train,model.predict(x_train),color=\"green\")\n",
    "plt.title('Regression model for x variable')\n",
    "plt.xlabel('Experience')\n",
    "plt.ylabel('Salary')\n",
    "plt.show()"
   ]
  },
  {
   "cell_type": "code",
   "execution_count": 16,
   "id": "17c1e122",
   "metadata": {},
   "outputs": [
    {
     "data": {
      "image/png": "[encoded data removed]",
      "text/plain": [
       "<Figure size 432x288 with 1 Axes>"
      ]
     },
     "metadata": {
      "needs_background": "light"
     },
     "output_type": "display_data"
    }
   ],
   "source": [
    "plt.scatter(x_test,y_test,color=\"blue\")\n",
    "plt.plot(x_test,model.predict(x_test),color=\"red\")\n",
    "plt.title('Regression model for y variable')\n",
    "plt.xlabel('Experience')\n",
    "plt.ylabel('Salary')\n",
    "plt.show()"
   ]
  },
  {
   "cell_type": "markdown",
   "id": "37991067",
   "metadata": {},
   "source": [
    "# Implement the Linear Regression model from scratch and validate the model with the model developed in Qn. 5."
   ]
  },
  {
   "cell_type": "code",
   "execution_count": 17,
   "id": "405659d5",
   "metadata": {},
   "outputs": [
    {
     "data": {
      "text/html": [
       "<div>\n",
       "<style scoped>\n",
       "    .dataframe tbody tr th:only-of-type {\n",
       "        vertical-align: middle;\n",
       "    }\n",
       "\n",
       "    .dataframe tbody tr th {\n",
       "        vertical-align: top;\n",
       "    }\n",
       "\n",
       "    .dataframe thead th {\n",
       "        text-align: right;\n",
       "    }\n",
       "</style>\n",
       "<table border=\"1\" class=\"dataframe\">\n",
       "  <thead>\n",
       "    <tr style=\"text-align: right;\">\n",
       "      <th></th>\n",
       "      <th>YearsExperience</th>\n",
       "      <th>Salary</th>\n",
       "    </tr>\n",
       "  </thead>\n",
       "  <tbody>\n",
       "    <tr>\n",
       "      <th>0</th>\n",
       "      <td>1.1</td>\n",
       "      <td>39343.0</td>\n",
       "    </tr>\n",
       "    <tr>\n",
       "      <th>1</th>\n",
       "      <td>1.3</td>\n",
       "      <td>46205.0</td>\n",
       "    </tr>\n",
       "    <tr>\n",
       "      <th>2</th>\n",
       "      <td>1.5</td>\n",
       "      <td>37731.0</td>\n",
       "    </tr>\n",
       "    <tr>\n",
       "      <th>3</th>\n",
       "      <td>2.0</td>\n",
       "      <td>43525.0</td>\n",
       "    </tr>\n",
       "    <tr>\n",
       "      <th>4</th>\n",
       "      <td>2.2</td>\n",
       "      <td>39891.0</td>\n",
       "    </tr>\n",
       "  </tbody>\n",
       "</table>\n",
       "</div>"
      ],
      "text/plain": [
       "   YearsExperience   Salary\n",
       "0              1.1  39343.0\n",
       "1              1.3  46205.0\n",
       "2              1.5  37731.0\n",
       "3              2.0  43525.0\n",
       "4              2.2  39891.0"
      ]
     },
     "execution_count": 17,
     "metadata": {},
     "output_type": "execute_result"
    }
   ],
   "source": [
    "#Implement the Linear Regression model from scratch and validate the model with the model developed in Qn. 5.\n",
    "import pandas as pd\n",
    "import numpy as np\n",
    "import matplotlib.pyplot as plt\n",
    "##insert your data using pandas library\n",
    "data=pd.read_csv(\"linear_regression.csv\")\n",
    "data.head()"
   ]
  },
  {
   "cell_type": "code",
   "execution_count": 18,
   "id": "1f937143",
   "metadata": {},
   "outputs": [
    {
     "data": {
      "text/plain": [
       "array([[ 39343.],\n",
       "       [ 46205.],\n",
       "       [ 37731.],\n",
       "       [ 43525.],\n",
       "       [ 39891.],\n",
       "       [ 56642.],\n",
       "       [ 60150.],\n",
       "       [ 54445.],\n",
       "       [ 64445.],\n",
       "       [ 57189.],\n",
       "       [ 63218.],\n",
       "       [ 55794.],\n",
       "       [ 56957.],\n",
       "       [ 57081.],\n",
       "       [ 61111.],\n",
       "       [ 67938.],\n",
       "       [ 66029.],\n",
       "       [ 83088.],\n",
       "       [ 81363.],\n",
       "       [ 93940.],\n",
       "       [ 91738.],\n",
       "       [ 98273.],\n",
       "       [101302.],\n",
       "       [113812.],\n",
       "       [109431.],\n",
       "       [105582.],\n",
       "       [116969.],\n",
       "       [112635.],\n",
       "       [122391.],\n",
       "       [121872.]])"
      ]
     },
     "execution_count": 18,
     "metadata": {},
     "output_type": "execute_result"
    }
   ],
   "source": [
    "#split the indipendent and dependent so x is dependent\n",
    "x=data.iloc[:,:-1].values\n",
    "Y=np.reshape(y,(30,1))\n",
    "Y"
   ]
  },
  {
   "cell_type": "code",
   "execution_count": 19,
   "id": "b4fd37e1",
   "metadata": {},
   "outputs": [
    {
     "data": {
      "text/plain": [
       "5.3133333333333335"
      ]
     },
     "execution_count": 19,
     "metadata": {},
     "output_type": "execute_result"
    }
   ],
   "source": [
    "# calculate the mean of x\n",
    "x_mean=np.mean(x)\n",
    "x_mean"
   ]
  },
  {
   "cell_type": "code",
   "execution_count": 20,
   "id": "af75bb02",
   "metadata": {},
   "outputs": [
    {
     "data": {
      "text/plain": [
       "76003.0"
      ]
     },
     "execution_count": 20,
     "metadata": {},
     "output_type": "execute_result"
    }
   ],
   "source": [
    "y_mean=np.mean(Y)\n",
    "y_mean"
   ]
  },
  {
   "cell_type": "code",
   "execution_count": 21,
   "id": "bd77fc46",
   "metadata": {},
   "outputs": [
    {
     "data": {
      "text/plain": [
       "array([[-4.21333333],\n",
       "       [-4.01333333],\n",
       "       [-3.81333333],\n",
       "       [-3.31333333],\n",
       "       [-3.11333333],\n",
       "       [-2.41333333],\n",
       "       [-2.31333333],\n",
       "       [-2.11333333],\n",
       "       [-2.11333333],\n",
       "       [-1.61333333],\n",
       "       [-1.41333333],\n",
       "       [-1.31333333],\n",
       "       [-1.31333333],\n",
       "       [-1.21333333],\n",
       "       [-0.81333333],\n",
       "       [-0.41333333],\n",
       "       [-0.21333333],\n",
       "       [-0.01333333],\n",
       "       [ 0.58666667],\n",
       "       [ 0.68666667],\n",
       "       [ 1.48666667],\n",
       "       [ 1.78666667],\n",
       "       [ 2.58666667],\n",
       "       [ 2.88666667],\n",
       "       [ 3.38666667],\n",
       "       [ 3.68666667],\n",
       "       [ 4.18666667],\n",
       "       [ 4.28666667],\n",
       "       [ 4.98666667],\n",
       "       [ 5.18666667]])"
      ]
     },
     "execution_count": 21,
     "metadata": {},
     "output_type": "execute_result"
    }
   ],
   "source": [
    "#for finding the value of (x-x_mean) for each value\n",
    "each_sub_x=x-x_mean\n",
    "each_sub_x"
   ]
  },
  {
   "cell_type": "code",
   "execution_count": 22,
   "id": "18eaf077",
   "metadata": {},
   "outputs": [
    {
     "data": {
      "text/plain": [
       "array([[-36660.],\n",
       "       [-29798.],\n",
       "       [-38272.],\n",
       "       [-32478.],\n",
       "       [-36112.],\n",
       "       [-19361.],\n",
       "       [-15853.],\n",
       "       [-21558.],\n",
       "       [-11558.],\n",
       "       [-18814.],\n",
       "       [-12785.],\n",
       "       [-20209.],\n",
       "       [-19046.],\n",
       "       [-18922.],\n",
       "       [-14892.],\n",
       "       [ -8065.],\n",
       "       [ -9974.],\n",
       "       [  7085.],\n",
       "       [  5360.],\n",
       "       [ 17937.],\n",
       "       [ 15735.],\n",
       "       [ 22270.],\n",
       "       [ 25299.],\n",
       "       [ 37809.],\n",
       "       [ 33428.],\n",
       "       [ 29579.],\n",
       "       [ 40966.],\n",
       "       [ 36632.],\n",
       "       [ 46388.],\n",
       "       [ 45869.]])"
      ]
     },
     "execution_count": 22,
     "metadata": {},
     "output_type": "execute_result"
    }
   ],
   "source": [
    "#for finding the value of (y-y_mean) for each value\n",
    "each_sub_y=Y-y_mean\n",
    "each_sub_y"
   ]
  },
  {
   "cell_type": "code",
   "execution_count": 23,
   "id": "5523d87b",
   "metadata": {},
   "outputs": [
    {
     "data": {
      "text/plain": [
       "array([[ 1.54460800e+05],\n",
       "       [ 1.19589307e+05],\n",
       "       [ 1.45943893e+05],\n",
       "       [ 1.07610440e+05],\n",
       "       [ 1.12428693e+05],\n",
       "       [ 4.67245467e+04],\n",
       "       [ 3.66732733e+04],\n",
       "       [ 4.55592400e+04],\n",
       "       [ 2.44259067e+04],\n",
       "       [ 3.03532533e+04],\n",
       "       [ 1.80694667e+04],\n",
       "       [ 2.65411533e+04],\n",
       "       [ 2.50137467e+04],\n",
       "       [ 2.29586933e+04],\n",
       "       [ 1.21121600e+04],\n",
       "       [ 3.33353333e+03],\n",
       "       [ 2.12778667e+03],\n",
       "       [-9.44666667e+01],\n",
       "       [ 3.14453333e+03],\n",
       "       [ 1.23167400e+04],\n",
       "       [ 2.33927000e+04],\n",
       "       [ 3.97890667e+04],\n",
       "       [ 6.54400800e+04],\n",
       "       [ 1.09141980e+05],\n",
       "       [ 1.13209493e+05],\n",
       "       [ 1.09047913e+05],\n",
       "       [ 1.71510987e+05],\n",
       "       [ 1.57029173e+05],\n",
       "       [ 2.31321493e+05],\n",
       "       [ 2.37907213e+05]])"
      ]
     },
     "execution_count": 23,
     "metadata": {},
     "output_type": "execute_result"
    }
   ],
   "source": [
    "#for multiplying the x-x_mean*y-y_mean\n",
    "mul_x_y=each_sub_x*each_sub_y\n",
    "mul_x_y"
   ]
  },
  {
   "cell_type": "code",
   "execution_count": 24,
   "id": "601cbad7",
   "metadata": {},
   "outputs": [
    {
     "data": {
      "text/plain": [
       "2207082.8000000003"
      ]
     },
     "execution_count": 24,
     "metadata": {},
     "output_type": "execute_result"
    }
   ],
   "source": [
    "#for total sum of (each_sub_x)*(each_sub_y)\n",
    "total_mul=np.sum(mul_x_y)\n",
    "total_mul"
   ]
  },
  {
   "cell_type": "code",
   "execution_count": 25,
   "id": "72e951c3",
   "metadata": {},
   "outputs": [
    {
     "data": {
      "text/plain": [
       "array([[1.77521778e+01],\n",
       "       [1.61068444e+01],\n",
       "       [1.45415111e+01],\n",
       "       [1.09781778e+01],\n",
       "       [9.69284444e+00],\n",
       "       [5.82417778e+00],\n",
       "       [5.35151111e+00],\n",
       "       [4.46617778e+00],\n",
       "       [4.46617778e+00],\n",
       "       [2.60284444e+00],\n",
       "       [1.99751111e+00],\n",
       "       [1.72484444e+00],\n",
       "       [1.72484444e+00],\n",
       "       [1.47217778e+00],\n",
       "       [6.61511111e-01],\n",
       "       [1.70844444e-01],\n",
       "       [4.55111111e-02],\n",
       "       [1.77777778e-04],\n",
       "       [3.44177778e-01],\n",
       "       [4.71511111e-01],\n",
       "       [2.21017778e+00],\n",
       "       [3.19217778e+00],\n",
       "       [6.69084444e+00],\n",
       "       [8.33284444e+00],\n",
       "       [1.14695111e+01],\n",
       "       [1.35915111e+01],\n",
       "       [1.75281778e+01],\n",
       "       [1.83755111e+01],\n",
       "       [2.48668444e+01],\n",
       "       [2.69015111e+01]])"
      ]
     },
     "execution_count": 25,
     "metadata": {},
     "output_type": "execute_result"
    }
   ],
   "source": [
    "#the value of (x-x_mean)**2\n",
    "square_mean=each_sub_x**2\n",
    "square_mean"
   ]
  },
  {
   "cell_type": "code",
   "execution_count": 26,
   "id": "ad06329e",
   "metadata": {},
   "outputs": [
    {
     "data": {
      "text/plain": [
       "233.55466666666666"
      ]
     },
     "execution_count": 26,
     "metadata": {},
     "output_type": "execute_result"
    }
   ],
   "source": [
    "#total sum of mean_square\n",
    "total_sum=np.sum(square_mean)\n",
    "total_sum"
   ]
  },
  {
   "cell_type": "code",
   "execution_count": 27,
   "id": "1c3584f3",
   "metadata": {},
   "outputs": [
    {
     "data": {
      "text/plain": [
       "9449.962321455077"
      ]
     },
     "execution_count": 27,
     "metadata": {},
     "output_type": "execute_result"
    }
   ],
   "source": [
    "# for finding the slope value is m=(x-x_mean)(y-y_mean)/**2\n",
    "slope_m=total_mul/total_sum\n",
    "slope_m"
   ]
  },
  {
   "cell_type": "code",
   "execution_count": 28,
   "id": "11dbc105",
   "metadata": {},
   "outputs": [
    {
     "data": {
      "text/plain": [
       "25792.20019866869"
      ]
     },
     "execution_count": 28,
     "metadata": {},
     "output_type": "execute_result"
    }
   ],
   "source": [
    "#now find the value of coeficient from straight line formula : y=mx+c so we can do c=y_\n",
    "c=y_mean-slope_m*x_mean\n",
    "c"
   ]
  },
  {
   "cell_type": "code",
   "execution_count": 29,
   "id": "cafb634a",
   "metadata": {},
   "outputs": [
    {
     "data": {
      "text/plain": [
       "array([[9.95933398e+06],\n",
       "       [6.60619258e+07],\n",
       "       [5.00033856e+06],\n",
       "       [1.36218040e+06],\n",
       "       [4.47710508e+07],\n",
       "       [1.18673985e+07],\n",
       "       [3.60950167e+07],\n",
       "       [2.51882174e+06],\n",
       "       [7.07772292e+07],\n",
       "       [1.27310578e+07],\n",
       "       [3.25980189e+05],\n",
       "       [6.08095758e+07],\n",
       "       [4.40238817e+07],\n",
       "       [5.55926177e+07],\n",
       "       [5.19268777e+07],\n",
       "       [1.72974105e+07],\n",
       "       [6.33298919e+07],\n",
       "       [5.19985138e+07],\n",
       "       [3.38478659e+04],\n",
       "       [1.31057296e+08],\n",
       "       [2.84278489e+06],\n",
       "       [2.90097212e+07],\n",
       "       [7.31191669e+05],\n",
       "       [1.10883191e+08],\n",
       "       [2.02813943e+06],\n",
       "       [2.76661387e+07],\n",
       "       [1.96604635e+06],\n",
       "       [1.50298766e+07],\n",
       "       [5.41419461e+05],\n",
       "       [9.88979581e+06]])"
      ]
     },
     "execution_count": 29,
     "metadata": {},
     "output_type": "execute_result"
    }
   ],
   "source": [
    "# for finding the error for each element error =(y-(mx+c))**2\n",
    "error=(Y-(slope_m*x+c))**2\n",
    "error"
   ]
  },
  {
   "cell_type": "code",
   "execution_count": 30,
   "id": "19701cf3",
   "metadata": {},
   "outputs": [
    {
     "data": {
      "text/plain": [
       "31270951.72228097"
      ]
     },
     "execution_count": 30,
     "metadata": {},
     "output_type": "execute_result"
    }
   ],
   "source": [
    "total_error=np.sum(error)\n",
    "total_error\n",
    "# mean_squre_error=(total_error/5)\n",
    "mean_squre_error=(total_error/30)\n",
    "mean_squre_error"
   ]
  },
  {
   "cell_type": "code",
   "execution_count": null,
   "id": "0b021026",
   "metadata": {},
   "outputs": [],
   "source": []
  }
 ],
 "metadata": {
  "kernelspec": {
   "display_name": "Python 3",
   "language": "python",
   "name": "python3"
  },
  "language_info": {
   "codemirror_mode": {
    "name": "ipython",
    "version": 3
   },
   "file_extension": ".py",
   "mimetype": "text/x-python",
   "name": "python",
   "nbconvert_exporter": "python",
   "pygments_lexer": "ipython3",
   "version": "3.8.8"
  }
 },
 "nbformat": 4,
 "nbformat_minor": 5
}
