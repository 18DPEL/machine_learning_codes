{
 "cells": [
  {
   "cell_type": "code",
   "execution_count": 1,
   "id": "c28fcef0",
   "metadata": {},
   "outputs": [],
   "source": [
    "import numpy as np\n",
    "import pandas as pd\n"
   ]
  },
  {
   "cell_type": "code",
   "execution_count": 2,
   "id": "a4c68e34",
   "metadata": {},
   "outputs": [],
   "source": [
    "data=pd.read_csv('infosys_new_data.csv',parse_dates=True,index_col='Date')"
   ]
  },
  {
   "cell_type": "code",
   "execution_count": 3,
   "id": "b851a8e0",
   "metadata": {},
   "outputs": [
    {
     "data": {
      "text/html": [
       "<div>\n",
       "<style scoped>\n",
       "    .dataframe tbody tr th:only-of-type {\n",
       "        vertical-align: middle;\n",
       "    }\n",
       "\n",
       "    .dataframe tbody tr th {\n",
       "        vertical-align: top;\n",
       "    }\n",
       "\n",
       "    .dataframe thead th {\n",
       "        text-align: right;\n",
       "    }\n",
       "</style>\n",
       "<table border=\"1\" class=\"dataframe\">\n",
       "  <thead>\n",
       "    <tr style=\"text-align: right;\">\n",
       "      <th></th>\n",
       "      <th>Open</th>\n",
       "      <th>High</th>\n",
       "      <th>Low</th>\n",
       "      <th>Close</th>\n",
       "      <th>Adj Close</th>\n",
       "      <th>Volume</th>\n",
       "    </tr>\n",
       "    <tr>\n",
       "      <th>Date</th>\n",
       "      <th></th>\n",
       "      <th></th>\n",
       "      <th></th>\n",
       "      <th></th>\n",
       "      <th></th>\n",
       "      <th></th>\n",
       "    </tr>\n",
       "  </thead>\n",
       "  <tbody>\n",
       "    <tr>\n",
       "      <th>2002-07-05</th>\n",
       "      <td>1.642813</td>\n",
       "      <td>1.704375</td>\n",
       "      <td>1.642188</td>\n",
       "      <td>1.671875</td>\n",
       "      <td>1.125311</td>\n",
       "      <td>960000</td>\n",
       "    </tr>\n",
       "    <tr>\n",
       "      <th>2002-07-08</th>\n",
       "      <td>1.699375</td>\n",
       "      <td>1.718125</td>\n",
       "      <td>1.671250</td>\n",
       "      <td>1.695313</td>\n",
       "      <td>1.141087</td>\n",
       "      <td>3520000</td>\n",
       "    </tr>\n",
       "    <tr>\n",
       "      <th>2002-07-09</th>\n",
       "      <td>1.701563</td>\n",
       "      <td>1.739063</td>\n",
       "      <td>1.664688</td>\n",
       "      <td>1.720313</td>\n",
       "      <td>1.157914</td>\n",
       "      <td>4240000</td>\n",
       "    </tr>\n",
       "    <tr>\n",
       "      <th>2002-07-10</th>\n",
       "      <td>1.705000</td>\n",
       "      <td>1.759063</td>\n",
       "      <td>1.691250</td>\n",
       "      <td>1.716875</td>\n",
       "      <td>1.155600</td>\n",
       "      <td>2364800</td>\n",
       "    </tr>\n",
       "    <tr>\n",
       "      <th>2002-07-11</th>\n",
       "      <td>1.727813</td>\n",
       "      <td>1.761250</td>\n",
       "      <td>1.659375</td>\n",
       "      <td>1.753438</td>\n",
       "      <td>1.180210</td>\n",
       "      <td>3388800</td>\n",
       "    </tr>\n",
       "    <tr>\n",
       "      <th>...</th>\n",
       "      <td>...</td>\n",
       "      <td>...</td>\n",
       "      <td>...</td>\n",
       "      <td>...</td>\n",
       "      <td>...</td>\n",
       "      <td>...</td>\n",
       "    </tr>\n",
       "    <tr>\n",
       "      <th>2023-06-27</th>\n",
       "      <td>15.610000</td>\n",
       "      <td>15.640000</td>\n",
       "      <td>15.460000</td>\n",
       "      <td>15.620000</td>\n",
       "      <td>15.620000</td>\n",
       "      <td>7913600</td>\n",
       "    </tr>\n",
       "    <tr>\n",
       "      <th>2023-06-28</th>\n",
       "      <td>15.680000</td>\n",
       "      <td>15.770000</td>\n",
       "      <td>15.550000</td>\n",
       "      <td>15.750000</td>\n",
       "      <td>15.750000</td>\n",
       "      <td>7520300</td>\n",
       "    </tr>\n",
       "    <tr>\n",
       "      <th>2023-06-29</th>\n",
       "      <td>15.780000</td>\n",
       "      <td>15.920000</td>\n",
       "      <td>15.690000</td>\n",
       "      <td>15.900000</td>\n",
       "      <td>15.900000</td>\n",
       "      <td>7992900</td>\n",
       "    </tr>\n",
       "    <tr>\n",
       "      <th>2023-06-30</th>\n",
       "      <td>16.170000</td>\n",
       "      <td>16.260000</td>\n",
       "      <td>16.020000</td>\n",
       "      <td>16.070000</td>\n",
       "      <td>16.070000</td>\n",
       "      <td>12763900</td>\n",
       "    </tr>\n",
       "    <tr>\n",
       "      <th>2023-07-03</th>\n",
       "      <td>16.190001</td>\n",
       "      <td>16.299999</td>\n",
       "      <td>16.049999</td>\n",
       "      <td>16.139999</td>\n",
       "      <td>16.139999</td>\n",
       "      <td>7111800</td>\n",
       "    </tr>\n",
       "  </tbody>\n",
       "</table>\n",
       "<p>5285 rows × 6 columns</p>\n",
       "</div>"
      ],
      "text/plain": [
       "                 Open       High        Low      Close  Adj Close    Volume\n",
       "Date                                                                       \n",
       "2002-07-05   1.642813   1.704375   1.642188   1.671875   1.125311    960000\n",
       "2002-07-08   1.699375   1.718125   1.671250   1.695313   1.141087   3520000\n",
       "2002-07-09   1.701563   1.739063   1.664688   1.720313   1.157914   4240000\n",
       "2002-07-10   1.705000   1.759063   1.691250   1.716875   1.155600   2364800\n",
       "2002-07-11   1.727813   1.761250   1.659375   1.753438   1.180210   3388800\n",
       "...               ...        ...        ...        ...        ...       ...\n",
       "2023-06-27  15.610000  15.640000  15.460000  15.620000  15.620000   7913600\n",
       "2023-06-28  15.680000  15.770000  15.550000  15.750000  15.750000   7520300\n",
       "2023-06-29  15.780000  15.920000  15.690000  15.900000  15.900000   7992900\n",
       "2023-06-30  16.170000  16.260000  16.020000  16.070000  16.070000  12763900\n",
       "2023-07-03  16.190001  16.299999  16.049999  16.139999  16.139999   7111800\n",
       "\n",
       "[5285 rows x 6 columns]"
      ]
     },
     "execution_count": 3,
     "metadata": {},
     "output_type": "execute_result"
    }
   ],
   "source": [
    "data"
   ]
  },
  {
   "cell_type": "code",
   "execution_count": 66,
   "id": "55147e6e",
   "metadata": {},
   "outputs": [
    {
     "data": {
      "text/plain": [
       "(5285,)"
      ]
     },
     "execution_count": 66,
     "metadata": {},
     "output_type": "execute_result"
    }
   ],
   "source": [
    "rolling_average=data['Close'].rolling(window=3,min_periods=1).mean()\n",
    "rolling_average.shape"
   ]
  },
  {
   "cell_type": "code",
   "execution_count": 67,
   "id": "9683cdef",
   "metadata": {},
   "outputs": [],
   "source": [
    "dd=data['Close']"
   ]
  },
  {
   "cell_type": "code",
   "execution_count": 70,
   "id": "2a2487c1",
   "metadata": {},
   "outputs": [],
   "source": [
    "def moving_average(data, window_size,min_periods=1):\n",
    "   \n",
    "    moving_averages = []\n",
    "    for i in range(len(data)):\n",
    "        if i < window_size - 1 :\n",
    "            window=data[:i+1]\n",
    "        else:\n",
    "            window = data[i - window_size + 1:i + 1]\n",
    "        if len(window)>=min_periods:\n",
    "            \n",
    "            average = sum(window) / len(window)\n",
    "        else:\n",
    "            average=NONE\n",
    "            moving_averages.append(average)\n",
    "    return moving_averages\n"
   ]
  },
  {
   "cell_type": "code",
   "execution_count": 72,
   "id": "86ab78ba",
   "metadata": {},
   "outputs": [
    {
     "data": {
      "text/plain": [
       "[]"
      ]
     },
     "execution_count": 72,
     "metadata": {},
     "output_type": "execute_result"
    }
   ],
   "source": [
    "moving_averages = moving_average(,3,1)\n",
    "moving_averages"
   ]
  },
  {
   "cell_type": "code",
   "execution_count": null,
   "id": "fb5afe28",
   "metadata": {},
   "outputs": [],
   "source": []
  },
  {
   "cell_type": "code",
   "execution_count": 98,
   "id": "788eadb6",
   "metadata": {},
   "outputs": [
    {
     "name": "stdout",
     "output_type": "stream",
     "text": [
      "[1, 2, 3, 4, 5, 6, 7, 8, 9, 10]\n"
     ]
    }
   ],
   "source": [
    "dat=[1,2,3,4,5,6,7,8,9,10]\n",
    "datset=pd.DataFrame(data={'data_1':dat})\n",
    "da=datset[['data_1']]\n",
    "window_size=3\n",
    "min_periods=1\n",
    "print(dat)"
   ]
  },
  {
   "cell_type": "code",
   "execution_count": 93,
   "id": "37014fcb",
   "metadata": {},
   "outputs": [
    {
     "data": {
      "text/plain": [
       "(10, 1)"
      ]
     },
     "execution_count": 93,
     "metadata": {},
     "output_type": "execute_result"
    }
   ],
   "source": [
    "datset.shape"
   ]
  },
  {
   "cell_type": "code",
   "execution_count": 95,
   "id": "85fe6cf7",
   "metadata": {},
   "outputs": [
    {
     "ename": "TypeError",
     "evalue": "unsupported operand type(s) for +: 'int' and 'str'",
     "output_type": "error",
     "traceback": [
      "\u001b[1;31m---------------------------------------------------------------------------\u001b[0m",
      "\u001b[1;31mTypeError\u001b[0m                                 Traceback (most recent call last)",
      "Cell \u001b[1;32mIn[95], line 1\u001b[0m\n\u001b[1;32m----> 1\u001b[0m moving_averages \u001b[38;5;241m=\u001b[39m \u001b[43mmoving_average\u001b[49m\u001b[43m(\u001b[49m\u001b[43mda\u001b[49m\u001b[43m,\u001b[49m\u001b[38;5;241;43m3\u001b[39;49m\u001b[43m,\u001b[49m\u001b[38;5;241;43m1\u001b[39;49m\u001b[43m)\u001b[49m\n\u001b[0;32m      2\u001b[0m moving_averages\n",
      "Cell \u001b[1;32mIn[70], line 11\u001b[0m, in \u001b[0;36mmoving_average\u001b[1;34m(data, window_size, min_periods)\u001b[0m\n\u001b[0;32m      8\u001b[0m     window \u001b[38;5;241m=\u001b[39m data[i \u001b[38;5;241m-\u001b[39m window_size \u001b[38;5;241m+\u001b[39m \u001b[38;5;241m1\u001b[39m:i \u001b[38;5;241m+\u001b[39m \u001b[38;5;241m1\u001b[39m]\n\u001b[0;32m      9\u001b[0m \u001b[38;5;28;01mif\u001b[39;00m \u001b[38;5;28mlen\u001b[39m(window)\u001b[38;5;241m>\u001b[39m\u001b[38;5;241m=\u001b[39mmin_periods:\n\u001b[1;32m---> 11\u001b[0m     average \u001b[38;5;241m=\u001b[39m \u001b[38;5;28msum\u001b[39m(window) \u001b[38;5;241m/\u001b[39m \u001b[38;5;28mlen\u001b[39m(window)\n\u001b[0;32m     12\u001b[0m \u001b[38;5;28;01melse\u001b[39;00m:\n\u001b[0;32m     13\u001b[0m     average\u001b[38;5;241m=\u001b[39mNONE\n",
      "\u001b[1;31mTypeError\u001b[0m: unsupported operand type(s) for +: 'int' and 'str'"
     ]
    }
   ],
   "source": [
    "moving_averages = moving_average(da,3,1)\n",
    "moving_averages"
   ]
  },
  {
   "cell_type": "code",
   "execution_count": 81,
   "id": "386d4ed4",
   "metadata": {},
   "outputs": [],
   "source": [
    "av=datset.rolling(window=3,min_periods=1).mean()"
   ]
  },
  {
   "cell_type": "code",
   "execution_count": 82,
   "id": "d7226280",
   "metadata": {},
   "outputs": [
    {
     "data": {
      "text/html": [
       "<div>\n",
       "<style scoped>\n",
       "    .dataframe tbody tr th:only-of-type {\n",
       "        vertical-align: middle;\n",
       "    }\n",
       "\n",
       "    .dataframe tbody tr th {\n",
       "        vertical-align: top;\n",
       "    }\n",
       "\n",
       "    .dataframe thead th {\n",
       "        text-align: right;\n",
       "    }\n",
       "</style>\n",
       "<table border=\"1\" class=\"dataframe\">\n",
       "  <thead>\n",
       "    <tr style=\"text-align: right;\">\n",
       "      <th></th>\n",
       "      <th>data_1</th>\n",
       "    </tr>\n",
       "  </thead>\n",
       "  <tbody>\n",
       "    <tr>\n",
       "      <th>0</th>\n",
       "      <td>1.0</td>\n",
       "    </tr>\n",
       "    <tr>\n",
       "      <th>1</th>\n",
       "      <td>1.5</td>\n",
       "    </tr>\n",
       "    <tr>\n",
       "      <th>2</th>\n",
       "      <td>2.0</td>\n",
       "    </tr>\n",
       "    <tr>\n",
       "      <th>3</th>\n",
       "      <td>3.0</td>\n",
       "    </tr>\n",
       "    <tr>\n",
       "      <th>4</th>\n",
       "      <td>4.0</td>\n",
       "    </tr>\n",
       "    <tr>\n",
       "      <th>5</th>\n",
       "      <td>5.0</td>\n",
       "    </tr>\n",
       "    <tr>\n",
       "      <th>6</th>\n",
       "      <td>6.0</td>\n",
       "    </tr>\n",
       "    <tr>\n",
       "      <th>7</th>\n",
       "      <td>7.0</td>\n",
       "    </tr>\n",
       "    <tr>\n",
       "      <th>8</th>\n",
       "      <td>8.0</td>\n",
       "    </tr>\n",
       "    <tr>\n",
       "      <th>9</th>\n",
       "      <td>9.0</td>\n",
       "    </tr>\n",
       "  </tbody>\n",
       "</table>\n",
       "</div>"
      ],
      "text/plain": [
       "   data_1\n",
       "0     1.0\n",
       "1     1.5\n",
       "2     2.0\n",
       "3     3.0\n",
       "4     4.0\n",
       "5     5.0\n",
       "6     6.0\n",
       "7     7.0\n",
       "8     8.0\n",
       "9     9.0"
      ]
     },
     "execution_count": 82,
     "metadata": {},
     "output_type": "execute_result"
    }
   ],
   "source": [
    "av"
   ]
  },
  {
   "cell_type": "code",
   "execution_count": null,
   "id": "8dc207f9",
   "metadata": {},
   "outputs": [],
   "source": []
  },
  {
   "cell_type": "code",
   "execution_count": null,
   "id": "319f4170",
   "metadata": {},
   "outputs": [],
   "source": []
  },
  {
   "cell_type": "code",
   "execution_count": null,
   "id": "867f31db",
   "metadata": {},
   "outputs": [],
   "source": []
  },
  {
   "cell_type": "code",
   "execution_count": null,
   "id": "0fd038b4",
   "metadata": {},
   "outputs": [],
   "source": []
  },
  {
   "cell_type": "code",
   "execution_count": null,
   "id": "22969098",
   "metadata": {},
   "outputs": [],
   "source": []
  },
  {
   "cell_type": "code",
   "execution_count": null,
   "id": "153d2605",
   "metadata": {},
   "outputs": [],
   "source": []
  },
  {
   "cell_type": "code",
   "execution_count": 44,
   "id": "e93abaf4",
   "metadata": {},
   "outputs": [
    {
     "data": {
      "text/plain": [
       "Date\n",
       "2002-07-05     1.671875\n",
       "2002-07-08     1.695313\n",
       "2002-07-09     1.720313\n",
       "2002-07-10     1.716875\n",
       "2002-07-11     1.753438\n",
       "                ...    \n",
       "2023-06-27    15.620000\n",
       "2023-06-28    15.750000\n",
       "2023-06-29    15.900000\n",
       "2023-06-30    16.070000\n",
       "2023-07-03    16.139999\n",
       "Name: Close, Length: 5285, dtype: float64"
      ]
     },
     "execution_count": 44,
     "metadata": {},
     "output_type": "execute_result"
    }
   ],
   "source": [
    "df=data['Close']\n",
    "df"
   ]
  },
  {
   "cell_type": "code",
   "execution_count": 7,
   "id": "2aeeeefa",
   "metadata": {},
   "outputs": [
    {
     "data": {
      "text/html": [
       "<div>\n",
       "<style scoped>\n",
       "    .dataframe tbody tr th:only-of-type {\n",
       "        vertical-align: middle;\n",
       "    }\n",
       "\n",
       "    .dataframe tbody tr th {\n",
       "        vertical-align: top;\n",
       "    }\n",
       "\n",
       "    .dataframe thead th {\n",
       "        text-align: right;\n",
       "    }\n",
       "</style>\n",
       "<table border=\"1\" class=\"dataframe\">\n",
       "  <thead>\n",
       "    <tr style=\"text-align: right;\">\n",
       "      <th></th>\n",
       "      <th>Open</th>\n",
       "      <th>High</th>\n",
       "      <th>Low</th>\n",
       "      <th>Close</th>\n",
       "      <th>Adj Close</th>\n",
       "      <th>Volume</th>\n",
       "    </tr>\n",
       "    <tr>\n",
       "      <th>Date</th>\n",
       "      <th></th>\n",
       "      <th></th>\n",
       "      <th></th>\n",
       "      <th></th>\n",
       "      <th></th>\n",
       "      <th></th>\n",
       "    </tr>\n",
       "  </thead>\n",
       "  <tbody>\n",
       "    <tr>\n",
       "      <th>2002-07-05</th>\n",
       "      <td>1.339000</td>\n",
       "      <td>1.339000</td>\n",
       "      <td>1.310000</td>\n",
       "      <td>1.328000</td>\n",
       "      <td>1.150884</td>\n",
       "      <td>181000</td>\n",
       "    </tr>\n",
       "    <tr>\n",
       "      <th>2002-07-08</th>\n",
       "      <td>1.328000</td>\n",
       "      <td>1.332000</td>\n",
       "      <td>1.327000</td>\n",
       "      <td>1.327000</td>\n",
       "      <td>1.150018</td>\n",
       "      <td>309000</td>\n",
       "    </tr>\n",
       "    <tr>\n",
       "      <th>2002-07-09</th>\n",
       "      <td>1.335000</td>\n",
       "      <td>1.335000</td>\n",
       "      <td>1.320000</td>\n",
       "      <td>1.320000</td>\n",
       "      <td>1.143951</td>\n",
       "      <td>132000</td>\n",
       "    </tr>\n",
       "    <tr>\n",
       "      <th>2002-07-10</th>\n",
       "      <td>1.320000</td>\n",
       "      <td>1.320000</td>\n",
       "      <td>1.303000</td>\n",
       "      <td>1.305000</td>\n",
       "      <td>1.130952</td>\n",
       "      <td>121000</td>\n",
       "    </tr>\n",
       "    <tr>\n",
       "      <th>2002-07-11</th>\n",
       "      <td>1.300000</td>\n",
       "      <td>1.312000</td>\n",
       "      <td>1.300000</td>\n",
       "      <td>1.312000</td>\n",
       "      <td>1.137018</td>\n",
       "      <td>36000</td>\n",
       "    </tr>\n",
       "    <tr>\n",
       "      <th>...</th>\n",
       "      <td>...</td>\n",
       "      <td>...</td>\n",
       "      <td>...</td>\n",
       "      <td>...</td>\n",
       "      <td>...</td>\n",
       "      <td>...</td>\n",
       "    </tr>\n",
       "    <tr>\n",
       "      <th>2023-06-27</th>\n",
       "      <td>69.949997</td>\n",
       "      <td>69.949997</td>\n",
       "      <td>68.750000</td>\n",
       "      <td>68.849998</td>\n",
       "      <td>68.849998</td>\n",
       "      <td>1547500</td>\n",
       "    </tr>\n",
       "    <tr>\n",
       "      <th>2023-06-28</th>\n",
       "      <td>69.040001</td>\n",
       "      <td>69.239998</td>\n",
       "      <td>68.730003</td>\n",
       "      <td>68.940002</td>\n",
       "      <td>68.940002</td>\n",
       "      <td>887500</td>\n",
       "    </tr>\n",
       "    <tr>\n",
       "      <th>2023-06-29</th>\n",
       "      <td>68.949997</td>\n",
       "      <td>69.699997</td>\n",
       "      <td>68.860001</td>\n",
       "      <td>69.449997</td>\n",
       "      <td>69.449997</td>\n",
       "      <td>1549600</td>\n",
       "    </tr>\n",
       "    <tr>\n",
       "      <th>2023-06-30</th>\n",
       "      <td>69.699997</td>\n",
       "      <td>70.269997</td>\n",
       "      <td>69.589996</td>\n",
       "      <td>69.699997</td>\n",
       "      <td>69.699997</td>\n",
       "      <td>1840700</td>\n",
       "    </tr>\n",
       "    <tr>\n",
       "      <th>2023-07-03</th>\n",
       "      <td>70.550003</td>\n",
       "      <td>71.269997</td>\n",
       "      <td>70.500000</td>\n",
       "      <td>70.790001</td>\n",
       "      <td>70.790001</td>\n",
       "      <td>1652800</td>\n",
       "    </tr>\n",
       "  </tbody>\n",
       "</table>\n",
       "<p>5285 rows × 6 columns</p>\n",
       "</div>"
      ],
      "text/plain": [
       "                 Open       High        Low      Close  Adj Close   Volume\n",
       "Date                                                                      \n",
       "2002-07-05   1.339000   1.339000   1.310000   1.328000   1.150884   181000\n",
       "2002-07-08   1.328000   1.332000   1.327000   1.327000   1.150018   309000\n",
       "2002-07-09   1.335000   1.335000   1.320000   1.320000   1.143951   132000\n",
       "2002-07-10   1.320000   1.320000   1.303000   1.305000   1.130952   121000\n",
       "2002-07-11   1.300000   1.312000   1.300000   1.312000   1.137018    36000\n",
       "...               ...        ...        ...        ...        ...      ...\n",
       "2023-06-27  69.949997  69.949997  68.750000  68.849998  68.849998  1547500\n",
       "2023-06-28  69.040001  69.239998  68.730003  68.940002  68.940002   887500\n",
       "2023-06-29  68.949997  69.699997  68.860001  69.449997  69.449997  1549600\n",
       "2023-06-30  69.699997  70.269997  69.589996  69.699997  69.699997  1840700\n",
       "2023-07-03  70.550003  71.269997  70.500000  70.790001  70.790001  1652800\n",
       "\n",
       "[5285 rows x 6 columns]"
      ]
     },
     "execution_count": 7,
     "metadata": {},
     "output_type": "execute_result"
    }
   ],
   "source": [
    "dataset=pd.read_csv('HDFC_new_data.csv',parse_dates=True,index_col='Date')\n",
    "dataset"
   ]
  },
  {
   "cell_type": "code",
   "execution_count": 8,
   "id": "512d6612",
   "metadata": {},
   "outputs": [
    {
     "name": "stdout",
     "output_type": "stream",
     "text": [
      "Date\n",
      "2002-07-05     1.328000\n",
      "2002-07-08     1.327500\n",
      "2002-07-09     1.325000\n",
      "2002-07-10     1.320000\n",
      "2002-07-11     1.318400\n",
      "                ...    \n",
      "2023-06-27    68.378000\n",
      "2023-06-28    68.600000\n",
      "2023-06-29    68.814000\n",
      "2023-06-30    69.015999\n",
      "2023-07-03    69.545999\n",
      "Name: Close, Length: 5285, dtype: float64\n"
     ]
    }
   ],
   "source": [
    "Rolling=dataset['Close'].rolling(window=5,min_periods=1).mean()\n",
    "print(Rolling)"
   ]
  },
  {
   "cell_type": "code",
   "execution_count": 9,
   "id": "271cadb3",
   "metadata": {},
   "outputs": [],
   "source": [
    "df1=dataset['Close']"
   ]
  },
  {
   "cell_type": "code",
   "execution_count": 10,
   "id": "527f18a7",
   "metadata": {},
   "outputs": [
    {
     "data": {
      "text/plain": [
       "Date\n",
       "2002-07-05     1.328000\n",
       "2002-07-08     1.327000\n",
       "2002-07-09     1.320000\n",
       "2002-07-10     1.305000\n",
       "2002-07-11     1.312000\n",
       "                ...    \n",
       "2023-06-27    68.849998\n",
       "2023-06-28    68.940002\n",
       "2023-06-29    69.449997\n",
       "2023-06-30    69.699997\n",
       "2023-07-03    70.790001\n",
       "Name: Close, Length: 5285, dtype: float64"
      ]
     },
     "execution_count": 10,
     "metadata": {},
     "output_type": "execute_result"
    }
   ],
   "source": [
    "df1"
   ]
  },
  {
   "cell_type": "code",
   "execution_count": 11,
   "id": "d89c9a85",
   "metadata": {},
   "outputs": [],
   "source": [
    "new_data=pd.DataFrame(data={\"infosys_close\":df,'Indicator_infosys':rolling_average,'HDFS_Close':df1,\"Indicator_HDFC\":Rolling})"
   ]
  },
  {
   "cell_type": "code",
   "execution_count": 12,
   "id": "cd70d87b",
   "metadata": {},
   "outputs": [
    {
     "data": {
      "text/html": [
       "<div>\n",
       "<style scoped>\n",
       "    .dataframe tbody tr th:only-of-type {\n",
       "        vertical-align: middle;\n",
       "    }\n",
       "\n",
       "    .dataframe tbody tr th {\n",
       "        vertical-align: top;\n",
       "    }\n",
       "\n",
       "    .dataframe thead th {\n",
       "        text-align: right;\n",
       "    }\n",
       "</style>\n",
       "<table border=\"1\" class=\"dataframe\">\n",
       "  <thead>\n",
       "    <tr style=\"text-align: right;\">\n",
       "      <th></th>\n",
       "      <th>infosys_close</th>\n",
       "      <th>Indicator_infosys</th>\n",
       "      <th>HDFS_Close</th>\n",
       "      <th>Indicator_HDFC</th>\n",
       "    </tr>\n",
       "    <tr>\n",
       "      <th>Date</th>\n",
       "      <th></th>\n",
       "      <th></th>\n",
       "      <th></th>\n",
       "      <th></th>\n",
       "    </tr>\n",
       "  </thead>\n",
       "  <tbody>\n",
       "    <tr>\n",
       "      <th>2002-07-05</th>\n",
       "      <td>1.671875</td>\n",
       "      <td>1.671875</td>\n",
       "      <td>1.328000</td>\n",
       "      <td>1.328000</td>\n",
       "    </tr>\n",
       "    <tr>\n",
       "      <th>2002-07-08</th>\n",
       "      <td>1.695313</td>\n",
       "      <td>1.683594</td>\n",
       "      <td>1.327000</td>\n",
       "      <td>1.327500</td>\n",
       "    </tr>\n",
       "    <tr>\n",
       "      <th>2002-07-09</th>\n",
       "      <td>1.720313</td>\n",
       "      <td>1.695834</td>\n",
       "      <td>1.320000</td>\n",
       "      <td>1.325000</td>\n",
       "    </tr>\n",
       "    <tr>\n",
       "      <th>2002-07-10</th>\n",
       "      <td>1.716875</td>\n",
       "      <td>1.701094</td>\n",
       "      <td>1.305000</td>\n",
       "      <td>1.320000</td>\n",
       "    </tr>\n",
       "    <tr>\n",
       "      <th>2002-07-11</th>\n",
       "      <td>1.753438</td>\n",
       "      <td>1.711563</td>\n",
       "      <td>1.312000</td>\n",
       "      <td>1.318400</td>\n",
       "    </tr>\n",
       "    <tr>\n",
       "      <th>...</th>\n",
       "      <td>...</td>\n",
       "      <td>...</td>\n",
       "      <td>...</td>\n",
       "      <td>...</td>\n",
       "    </tr>\n",
       "    <tr>\n",
       "      <th>2023-06-27</th>\n",
       "      <td>15.620000</td>\n",
       "      <td>15.436000</td>\n",
       "      <td>68.849998</td>\n",
       "      <td>68.378000</td>\n",
       "    </tr>\n",
       "    <tr>\n",
       "      <th>2023-06-28</th>\n",
       "      <td>15.750000</td>\n",
       "      <td>15.508000</td>\n",
       "      <td>68.940002</td>\n",
       "      <td>68.600000</td>\n",
       "    </tr>\n",
       "    <tr>\n",
       "      <th>2023-06-29</th>\n",
       "      <td>15.900000</td>\n",
       "      <td>15.594000</td>\n",
       "      <td>69.449997</td>\n",
       "      <td>68.814000</td>\n",
       "    </tr>\n",
       "    <tr>\n",
       "      <th>2023-06-30</th>\n",
       "      <td>16.070000</td>\n",
       "      <td>15.768000</td>\n",
       "      <td>69.699997</td>\n",
       "      <td>69.015999</td>\n",
       "    </tr>\n",
       "    <tr>\n",
       "      <th>2023-07-03</th>\n",
       "      <td>16.139999</td>\n",
       "      <td>15.896000</td>\n",
       "      <td>70.790001</td>\n",
       "      <td>69.545999</td>\n",
       "    </tr>\n",
       "  </tbody>\n",
       "</table>\n",
       "<p>5285 rows × 4 columns</p>\n",
       "</div>"
      ],
      "text/plain": [
       "            infosys_close  Indicator_infosys  HDFS_Close  Indicator_HDFC\n",
       "Date                                                                    \n",
       "2002-07-05       1.671875           1.671875    1.328000        1.328000\n",
       "2002-07-08       1.695313           1.683594    1.327000        1.327500\n",
       "2002-07-09       1.720313           1.695834    1.320000        1.325000\n",
       "2002-07-10       1.716875           1.701094    1.305000        1.320000\n",
       "2002-07-11       1.753438           1.711563    1.312000        1.318400\n",
       "...                   ...                ...         ...             ...\n",
       "2023-06-27      15.620000          15.436000   68.849998       68.378000\n",
       "2023-06-28      15.750000          15.508000   68.940002       68.600000\n",
       "2023-06-29      15.900000          15.594000   69.449997       68.814000\n",
       "2023-06-30      16.070000          15.768000   69.699997       69.015999\n",
       "2023-07-03      16.139999          15.896000   70.790001       69.545999\n",
       "\n",
       "[5285 rows x 4 columns]"
      ]
     },
     "execution_count": 12,
     "metadata": {},
     "output_type": "execute_result"
    }
   ],
   "source": [
    "new_data"
   ]
  },
  {
   "cell_type": "code",
   "execution_count": 13,
   "id": "fd02ccbf",
   "metadata": {},
   "outputs": [],
   "source": [
    "data_train=pd.DataFrame(new_data[['infosys_close','Indicator_infosys','HDFS_Close','Indicator_HDFC']][0:int(len(new_data)*0.70)])\n",
    "data_val=pd.DataFrame(new_data[['infosys_close','Indicator_infosys','HDFS_Close','Indicator_HDFC']][int(len(new_data)*0.50):int(len(new_data)*0.70)])\n",
    "data_test=pd.DataFrame(new_data[['infosys_close','Indicator_infosys','HDFS_Close','Indicator_HDFC']][int(len(new_data)*0.70):int(len(new_data))])"
   ]
  },
  {
   "cell_type": "code",
   "execution_count": 14,
   "id": "1944a738",
   "metadata": {},
   "outputs": [
    {
     "name": "stdout",
     "output_type": "stream",
     "text": [
      "(3699, 4)\n",
      "(1057, 4)\n",
      "(1586, 4)\n"
     ]
    }
   ],
   "source": [
    "print(data_train.shape)\n",
    "print(data_val.shape)\n",
    "print(data_test.shape)"
   ]
  },
  {
   "cell_type": "code",
   "execution_count": 15,
   "id": "5efc5840",
   "metadata": {},
   "outputs": [],
   "source": [
    "from sklearn.preprocessing import MinMaxScaler"
   ]
  },
  {
   "cell_type": "code",
   "execution_count": 16,
   "id": "13a71dbd",
   "metadata": {},
   "outputs": [],
   "source": [
    "scaler=MinMaxScaler(feature_range=(0,1))\n",
    "data_training_array=scaler.fit_transform(data_train)\n",
    "data_validating_array=scaler.fit_transform(data_val)\n",
    "data_testing_array=scaler.fit_transform(data_test)"
   ]
  },
  {
   "cell_type": "code",
   "execution_count": 17,
   "id": "26111dca",
   "metadata": {},
   "outputs": [],
   "source": [
    "x_train=[]\n",
    "y_train=[]\n",
    "length=100\n",
    "for i in range(length,data_training_array.shape[0]):\n",
    "    x_train.append(data_training_array[i-length:i])\n",
    "    y_train.append(data_training_array[i])\n",
    "    \n",
    "x_train,y_train=np.array(x_train),np.array(y_train)"
   ]
  },
  {
   "cell_type": "code",
   "execution_count": 18,
   "id": "3d1719db",
   "metadata": {},
   "outputs": [
    {
     "data": {
      "text/plain": [
       "((3599, 100, 4), (3599, 4))"
      ]
     },
     "execution_count": 18,
     "metadata": {},
     "output_type": "execute_result"
    }
   ],
   "source": [
    "x_train.shape,y_train.shape"
   ]
  },
  {
   "cell_type": "code",
   "execution_count": 19,
   "id": "c29988ad",
   "metadata": {},
   "outputs": [],
   "source": [
    "x_val=[]\n",
    "y_val=[]\n",
    "# length=100\n",
    "for i in range(length,data_validating_array.shape[0]):\n",
    "    x_val.append(data_validating_array[i-length:i])\n",
    "    y_val.append(data_validating_array[i])\n",
    "    \n",
    "x_val,y_val=np.array(x_val),np.array(y_val)"
   ]
  },
  {
   "cell_type": "code",
   "execution_count": 20,
   "id": "a394d525",
   "metadata": {},
   "outputs": [
    {
     "data": {
      "text/plain": [
       "((957, 100, 4), (957, 4))"
      ]
     },
     "execution_count": 20,
     "metadata": {},
     "output_type": "execute_result"
    }
   ],
   "source": [
    "x_val.shape,y_val.shape"
   ]
  },
  {
   "cell_type": "code",
   "execution_count": 21,
   "id": "9a98eacc",
   "metadata": {},
   "outputs": [],
   "source": [
    "x_test=[]\n",
    "y_test=[]\n",
    "\n",
    "for i in range(length,data_testing_array.shape[0]):\n",
    "    x_test.append(data_testing_array[i-length:i])\n",
    "    y_test.append(data_testing_array[i])\n",
    "    \n",
    "x_test,y_test=np.array(x_test),np.array(y_test)"
   ]
  },
  {
   "cell_type": "code",
   "execution_count": 22,
   "id": "a2bfd550",
   "metadata": {},
   "outputs": [
    {
     "data": {
      "text/plain": [
       "((1486, 100, 4), (1486, 4))"
      ]
     },
     "execution_count": 22,
     "metadata": {},
     "output_type": "execute_result"
    }
   ],
   "source": [
    "x_test.shape,y_test.shape"
   ]
  },
  {
   "cell_type": "code",
   "execution_count": 23,
   "id": "131b4de8",
   "metadata": {},
   "outputs": [],
   "source": [
    "from tensorflow.keras.models import Sequential\n",
    "from tensorflow.keras.layers import *\n",
    "from tensorflow.keras.callbacks import ModelCheckpoint\n",
    "from tensorflow.keras.losses import MeanSquaredError\n",
    "from tensorflow.keras.metrics import RootMeanSquaredError\n",
    "from tensorflow.keras.optimizers import Adam"
   ]
  },
  {
   "cell_type": "code",
   "execution_count": 24,
   "id": "817ccdef",
   "metadata": {},
   "outputs": [],
   "source": [
    "\n",
    "model1 = Sequential()\n",
    "model1.add(InputLayer((length, 4)))\n",
    "model1.add(LSTM(64))\n",
    "model1.add(Dense(8, 'relu'))\n",
    "model1.add(Dense(4, 'linear'))"
   ]
  },
  {
   "cell_type": "code",
   "execution_count": 25,
   "id": "631b9f1f",
   "metadata": {},
   "outputs": [],
   "source": [
    "cp1 = ModelCheckpoint('model2/', save_best_only=True)\n",
    "model1.compile(loss=MeanSquaredError(), optimizer=Adam(learning_rate=0.001), metrics=[RootMeanSquaredError()])"
   ]
  },
  {
   "cell_type": "code",
   "execution_count": 26,
   "id": "d201e078",
   "metadata": {},
   "outputs": [
    {
     "name": "stdout",
     "output_type": "stream",
     "text": [
      "Epoch 1/5\n",
      "113/113 [==============================] - ETA: 0s - loss: 0.0197 - root_mean_squared_error: 0.1402"
     ]
    },
    {
     "name": "stderr",
     "output_type": "stream",
     "text": [
      "WARNING:absl:Found untraced functions such as _update_step_xla, lstm_cell_layer_call_fn, lstm_cell_layer_call_and_return_conditional_losses while saving (showing 3 of 3). These functions will not be directly callable after loading.\n"
     ]
    },
    {
     "name": "stdout",
     "output_type": "stream",
     "text": [
      "INFO:tensorflow:Assets written to: model2\\assets\n"
     ]
    },
    {
     "name": "stderr",
     "output_type": "stream",
     "text": [
      "INFO:tensorflow:Assets written to: model2\\assets\n"
     ]
    },
    {
     "name": "stdout",
     "output_type": "stream",
     "text": [
      "113/113 [==============================] - 40s 236ms/step - loss: 0.0197 - root_mean_squared_error: 0.1402 - val_loss: 0.0067 - val_root_mean_squared_error: 0.0820\n",
      "Epoch 2/5\n",
      "113/113 [==============================] - ETA: 0s - loss: 9.3790e-04 - root_mean_squared_error: 0.0306"
     ]
    },
    {
     "name": "stderr",
     "output_type": "stream",
     "text": [
      "WARNING:absl:Found untraced functions such as _update_step_xla, lstm_cell_layer_call_fn, lstm_cell_layer_call_and_return_conditional_losses while saving (showing 3 of 3). These functions will not be directly callable after loading.\n"
     ]
    },
    {
     "name": "stdout",
     "output_type": "stream",
     "text": [
      "INFO:tensorflow:Assets written to: model2\\assets\n"
     ]
    },
    {
     "name": "stderr",
     "output_type": "stream",
     "text": [
      "INFO:tensorflow:Assets written to: model2\\assets\n"
     ]
    },
    {
     "name": "stdout",
     "output_type": "stream",
     "text": [
      "113/113 [==============================] - 22s 192ms/step - loss: 9.3790e-04 - root_mean_squared_error: 0.0306 - val_loss: 0.0038 - val_root_mean_squared_error: 0.0616\n",
      "Epoch 3/5\n",
      "113/113 [==============================] - ETA: 0s - loss: 5.9002e-04 - root_mean_squared_error: 0.0243"
     ]
    },
    {
     "name": "stderr",
     "output_type": "stream",
     "text": [
      "WARNING:absl:Found untraced functions such as _update_step_xla, lstm_cell_layer_call_fn, lstm_cell_layer_call_and_return_conditional_losses while saving (showing 3 of 3). These functions will not be directly callable after loading.\n"
     ]
    },
    {
     "name": "stdout",
     "output_type": "stream",
     "text": [
      "INFO:tensorflow:Assets written to: model2\\assets\n"
     ]
    },
    {
     "name": "stderr",
     "output_type": "stream",
     "text": [
      "INFO:tensorflow:Assets written to: model2\\assets\n"
     ]
    },
    {
     "name": "stdout",
     "output_type": "stream",
     "text": [
      "113/113 [==============================] - 29s 254ms/step - loss: 5.9002e-04 - root_mean_squared_error: 0.0243 - val_loss: 0.0029 - val_root_mean_squared_error: 0.0540\n",
      "Epoch 4/5\n",
      "113/113 [==============================] - ETA: 0s - loss: 5.0772e-04 - root_mean_squared_error: 0.0225"
     ]
    },
    {
     "name": "stderr",
     "output_type": "stream",
     "text": [
      "WARNING:absl:Found untraced functions such as _update_step_xla, lstm_cell_layer_call_fn, lstm_cell_layer_call_and_return_conditional_losses while saving (showing 3 of 3). These functions will not be directly callable after loading.\n"
     ]
    },
    {
     "name": "stdout",
     "output_type": "stream",
     "text": [
      "INFO:tensorflow:Assets written to: model2\\assets\n"
     ]
    },
    {
     "name": "stderr",
     "output_type": "stream",
     "text": [
      "INFO:tensorflow:Assets written to: model2\\assets\n"
     ]
    },
    {
     "name": "stdout",
     "output_type": "stream",
     "text": [
      "113/113 [==============================] - 22s 194ms/step - loss: 5.0772e-04 - root_mean_squared_error: 0.0225 - val_loss: 0.0024 - val_root_mean_squared_error: 0.0494\n",
      "Epoch 5/5\n",
      "113/113 [==============================] - ETA: 0s - loss: 4.3504e-04 - root_mean_squared_error: 0.0209"
     ]
    },
    {
     "name": "stderr",
     "output_type": "stream",
     "text": [
      "WARNING:absl:Found untraced functions such as _update_step_xla, lstm_cell_layer_call_fn, lstm_cell_layer_call_and_return_conditional_losses while saving (showing 3 of 3). These functions will not be directly callable after loading.\n"
     ]
    },
    {
     "name": "stdout",
     "output_type": "stream",
     "text": [
      "INFO:tensorflow:Assets written to: model2\\assets\n"
     ]
    },
    {
     "name": "stderr",
     "output_type": "stream",
     "text": [
      "INFO:tensorflow:Assets written to: model2\\assets\n"
     ]
    },
    {
     "name": "stdout",
     "output_type": "stream",
     "text": [
      "\b\b\b\b\b\b\b\b\b\b\b\b\b\b\b\b\b\b\b\b\b\b\b\b\b\b\b\b\b\b\b\b\b\b\b\b\b\b\b\b\b\b\b\b\b\b\b\b\b\b\b\b\b\b\b\b\b\b\b\b\b\b\b\b\b\b\b\b\b\b\b\b\b\b\b\b\b\b\b\b\b\b\b\b\b\b\b\b\b\b\b\b\b\b\b\b\b\b\b\b\b\b\b\r",
      "113/113 [==============================] - 23s 202ms/step - loss: 4.3504e-04 - root_mean_squared_error: 0.0209 - val_loss: 0.0022 - val_root_mean_squared_error: 0.0465\n"
     ]
    },
    {
     "data": {
      "text/plain": [
       "<keras.callbacks.History at 0x2ab3339f510>"
      ]
     },
     "execution_count": 26,
     "metadata": {},
     "output_type": "execute_result"
    }
   ],
   "source": [
    "model1.fit(x_train,y_train, validation_data=(x_val, y_val), epochs=5, callbacks=[cp1])"
   ]
  },
  {
   "cell_type": "code",
   "execution_count": 39,
   "id": "c4d6da23",
   "metadata": {},
   "outputs": [
    {
     "name": "stdout",
     "output_type": "stream",
     "text": [
      "47/47 [==============================] - 77s 86ms/step\n"
     ]
    }
   ],
   "source": [
    "pred=model1.predict(x_test)"
   ]
  },
  {
   "cell_type": "code",
   "execution_count": 40,
   "id": "9b95123c",
   "metadata": {},
   "outputs": [
    {
     "data": {
      "text/plain": [
       "array([[0.05946998, 0.15471305, 0.21454185, 0.21767932],\n",
       "       [0.05957255, 0.15642408, 0.21673277, 0.22005056],\n",
       "       [0.05941078, 0.15716612, 0.21760078, 0.22117424],\n",
       "       ...,\n",
       "       [0.45888054, 0.50986314, 0.6526439 , 0.6497439 ],\n",
       "       [0.4623024 , 0.51338655, 0.6584045 , 0.6555912 ],\n",
       "       [0.4669391 , 0.51714176, 0.66434836, 0.66168886]], dtype=float32)"
      ]
     },
     "execution_count": 40,
     "metadata": {},
     "output_type": "execute_result"
    }
   ],
   "source": [
    "pred"
   ]
  },
  {
   "cell_type": "code",
   "execution_count": 52,
   "id": "be09eef8",
   "metadata": {},
   "outputs": [],
   "source": [
    "predict= scaler.inverse_transform(np.array(pred))\n",
    "# final_predict=np.ravel(predict)\n",
    "actual_data= scaler.inverse_transform(np.array(y_test))\n",
    "# actual_data=np.ravel(actual_data)"
   ]
  },
  {
   "cell_type": "markdown",
   "id": "0ff29253",
   "metadata": {},
   "source": [
    "# with scaled value dataframe"
   ]
  },
  {
   "cell_type": "code",
   "execution_count": 46,
   "id": "438e1739",
   "metadata": {},
   "outputs": [
    {
     "data": {
      "text/html": [
       "<div>\n",
       "<style scoped>\n",
       "    .dataframe tbody tr th:only-of-type {\n",
       "        vertical-align: middle;\n",
       "    }\n",
       "\n",
       "    .dataframe tbody tr th {\n",
       "        vertical-align: top;\n",
       "    }\n",
       "\n",
       "    .dataframe thead th {\n",
       "        text-align: right;\n",
       "    }\n",
       "</style>\n",
       "<table border=\"1\" class=\"dataframe\">\n",
       "  <thead>\n",
       "    <tr style=\"text-align: right;\">\n",
       "      <th></th>\n",
       "      <th>Predictions_value_0</th>\n",
       "      <th>Predictions_value_1</th>\n",
       "      <th>Predictions_value</th>\n",
       "      <th>Actual_value_0</th>\n",
       "      <th>Actual_value_1</th>\n",
       "      <th>Actual_value_2</th>\n",
       "      <th>Actual_value_3</th>\n",
       "    </tr>\n",
       "  </thead>\n",
       "  <tbody>\n",
       "    <tr>\n",
       "      <th>0</th>\n",
       "      <td>0.059470</td>\n",
       "      <td>0.154713</td>\n",
       "      <td>0.217679</td>\n",
       "      <td>0.043094</td>\n",
       "      <td>0.037212</td>\n",
       "      <td>0.348113</td>\n",
       "      <td>0.304743</td>\n",
       "    </tr>\n",
       "    <tr>\n",
       "      <th>1</th>\n",
       "      <td>0.059573</td>\n",
       "      <td>0.156424</td>\n",
       "      <td>0.220051</td>\n",
       "      <td>0.042575</td>\n",
       "      <td>0.035096</td>\n",
       "      <td>0.337981</td>\n",
       "      <td>0.299109</td>\n",
       "    </tr>\n",
       "    <tr>\n",
       "      <th>2</th>\n",
       "      <td>0.059411</td>\n",
       "      <td>0.157166</td>\n",
       "      <td>0.221174</td>\n",
       "      <td>0.044652</td>\n",
       "      <td>0.034120</td>\n",
       "      <td>0.345603</td>\n",
       "      <td>0.294780</td>\n",
       "    </tr>\n",
       "    <tr>\n",
       "      <th>3</th>\n",
       "      <td>0.059294</td>\n",
       "      <td>0.157581</td>\n",
       "      <td>0.221897</td>\n",
       "      <td>0.037383</td>\n",
       "      <td>0.031679</td>\n",
       "      <td>0.321249</td>\n",
       "      <td>0.286868</td>\n",
       "    </tr>\n",
       "    <tr>\n",
       "      <th>4</th>\n",
       "      <td>0.058155</td>\n",
       "      <td>0.156652</td>\n",
       "      <td>0.220781</td>\n",
       "      <td>0.041796</td>\n",
       "      <td>0.030702</td>\n",
       "      <td>0.313069</td>\n",
       "      <td>0.278977</td>\n",
       "    </tr>\n",
       "    <tr>\n",
       "      <th>...</th>\n",
       "      <td>...</td>\n",
       "      <td>...</td>\n",
       "      <td>...</td>\n",
       "      <td>...</td>\n",
       "      <td>...</td>\n",
       "      <td>...</td>\n",
       "      <td>...</td>\n",
       "    </tr>\n",
       "    <tr>\n",
       "      <th>1481</th>\n",
       "      <td>0.455123</td>\n",
       "      <td>0.503158</td>\n",
       "      <td>0.638561</td>\n",
       "      <td>0.450675</td>\n",
       "      <td>0.447790</td>\n",
       "      <td>0.722997</td>\n",
       "      <td>0.703480</td>\n",
       "    </tr>\n",
       "    <tr>\n",
       "      <th>1482</th>\n",
       "      <td>0.456499</td>\n",
       "      <td>0.506573</td>\n",
       "      <td>0.644212</td>\n",
       "      <td>0.457425</td>\n",
       "      <td>0.451695</td>\n",
       "      <td>0.724670</td>\n",
       "      <td>0.708078</td>\n",
       "    </tr>\n",
       "    <tr>\n",
       "      <th>1483</th>\n",
       "      <td>0.458881</td>\n",
       "      <td>0.509863</td>\n",
       "      <td>0.649744</td>\n",
       "      <td>0.465213</td>\n",
       "      <td>0.456360</td>\n",
       "      <td>0.734151</td>\n",
       "      <td>0.712510</td>\n",
       "    </tr>\n",
       "    <tr>\n",
       "      <th>1484</th>\n",
       "      <td>0.462302</td>\n",
       "      <td>0.513387</td>\n",
       "      <td>0.655591</td>\n",
       "      <td>0.474039</td>\n",
       "      <td>0.465799</td>\n",
       "      <td>0.738799</td>\n",
       "      <td>0.716694</td>\n",
       "    </tr>\n",
       "    <tr>\n",
       "      <th>1485</th>\n",
       "      <td>0.466939</td>\n",
       "      <td>0.517142</td>\n",
       "      <td>0.661689</td>\n",
       "      <td>0.477674</td>\n",
       "      <td>0.472742</td>\n",
       "      <td>0.759063</td>\n",
       "      <td>0.727672</td>\n",
       "    </tr>\n",
       "  </tbody>\n",
       "</table>\n",
       "<p>1486 rows × 7 columns</p>\n",
       "</div>"
      ],
      "text/plain": [
       "      Predictions_value_0  Predictions_value_1  Predictions_value  \\\n",
       "0                0.059470             0.154713           0.217679   \n",
       "1                0.059573             0.156424           0.220051   \n",
       "2                0.059411             0.157166           0.221174   \n",
       "3                0.059294             0.157581           0.221897   \n",
       "4                0.058155             0.156652           0.220781   \n",
       "...                   ...                  ...                ...   \n",
       "1481             0.455123             0.503158           0.638561   \n",
       "1482             0.456499             0.506573           0.644212   \n",
       "1483             0.458881             0.509863           0.649744   \n",
       "1484             0.462302             0.513387           0.655591   \n",
       "1485             0.466939             0.517142           0.661689   \n",
       "\n",
       "      Actual_value_0  Actual_value_1  Actual_value_2  Actual_value_3  \n",
       "0           0.043094        0.037212        0.348113        0.304743  \n",
       "1           0.042575        0.035096        0.337981        0.299109  \n",
       "2           0.044652        0.034120        0.345603        0.294780  \n",
       "3           0.037383        0.031679        0.321249        0.286868  \n",
       "4           0.041796        0.030702        0.313069        0.278977  \n",
       "...              ...             ...             ...             ...  \n",
       "1481        0.450675        0.447790        0.722997        0.703480  \n",
       "1482        0.457425        0.451695        0.724670        0.708078  \n",
       "1483        0.465213        0.456360        0.734151        0.712510  \n",
       "1484        0.474039        0.465799        0.738799        0.716694  \n",
       "1485        0.477674        0.472742        0.759063        0.727672  \n",
       "\n",
       "[1486 rows x 7 columns]"
      ]
     },
     "execution_count": 46,
     "metadata": {},
     "output_type": "execute_result"
    }
   ],
   "source": [
    "data_frame=pd.DataFrame(data={\"Predictions_value_0\":pred[:,0],'Predictions_value_1':pred[:,1],\"Predictions_value\":pred[:,2],\"Predictions_value\":pred[:,3],'Actual_value_0':y_test[:,0],'Actual_value_1':y_test[:,1],'Actual_value_2':y_test[:,2],'Actual_value_3':y_test[:,3]})\n",
    "data_frame"
   ]
  },
  {
   "cell_type": "markdown",
   "id": "ab6043f1",
   "metadata": {},
   "source": [
    "# dataframe with  unscaled data"
   ]
  },
  {
   "cell_type": "code",
   "execution_count": 58,
   "id": "a3084842",
   "metadata": {},
   "outputs": [
    {
     "data": {
      "text/html": [
       "<div>\n",
       "<style scoped>\n",
       "    .dataframe tbody tr th:only-of-type {\n",
       "        vertical-align: middle;\n",
       "    }\n",
       "\n",
       "    .dataframe tbody tr th {\n",
       "        vertical-align: top;\n",
       "    }\n",
       "\n",
       "    .dataframe thead th {\n",
       "        text-align: right;\n",
       "    }\n",
       "</style>\n",
       "<table border=\"1\" class=\"dataframe\">\n",
       "  <thead>\n",
       "    <tr style=\"text-align: right;\">\n",
       "      <th></th>\n",
       "      <th>Predictions_value_0</th>\n",
       "      <th>Predictions_value_1</th>\n",
       "      <th>Predictions_value_2</th>\n",
       "      <th>Predictions_value_3</th>\n",
       "      <th>Actual_value_0</th>\n",
       "      <th>Actual_value_1</th>\n",
       "      <th>Actual_value_2</th>\n",
       "      <th>Actual_value_3</th>\n",
       "    </tr>\n",
       "  </thead>\n",
       "  <tbody>\n",
       "    <tr>\n",
       "      <th>0</th>\n",
       "      <td>8.085392</td>\n",
       "      <td>10.033134</td>\n",
       "      <td>41.500206</td>\n",
       "      <td>44.923557</td>\n",
       "      <td>7.770000</td>\n",
       "      <td>7.867</td>\n",
       "      <td>48.685001</td>\n",
       "      <td>49.127001</td>\n",
       "    </tr>\n",
       "    <tr>\n",
       "      <th>1</th>\n",
       "      <td>8.087367</td>\n",
       "      <td>10.064678</td>\n",
       "      <td>41.618053</td>\n",
       "      <td>45.038040</td>\n",
       "      <td>7.760000</td>\n",
       "      <td>7.828</td>\n",
       "      <td>48.139999</td>\n",
       "      <td>48.855001</td>\n",
       "    </tr>\n",
       "    <tr>\n",
       "      <th>2</th>\n",
       "      <td>8.084251</td>\n",
       "      <td>10.078358</td>\n",
       "      <td>41.664745</td>\n",
       "      <td>45.092293</td>\n",
       "      <td>7.800000</td>\n",
       "      <td>7.810</td>\n",
       "      <td>48.549999</td>\n",
       "      <td>48.646001</td>\n",
       "    </tr>\n",
       "    <tr>\n",
       "      <th>3</th>\n",
       "      <td>8.082008</td>\n",
       "      <td>10.086013</td>\n",
       "      <td>41.689228</td>\n",
       "      <td>45.127209</td>\n",
       "      <td>7.660000</td>\n",
       "      <td>7.765</td>\n",
       "      <td>47.240002</td>\n",
       "      <td>48.264001</td>\n",
       "    </tr>\n",
       "    <tr>\n",
       "      <th>4</th>\n",
       "      <td>8.060066</td>\n",
       "      <td>10.068881</td>\n",
       "      <td>41.603394</td>\n",
       "      <td>45.073303</td>\n",
       "      <td>7.745000</td>\n",
       "      <td>7.747</td>\n",
       "      <td>46.799999</td>\n",
       "      <td>47.883000</td>\n",
       "    </tr>\n",
       "    <tr>\n",
       "      <th>...</th>\n",
       "      <td>...</td>\n",
       "      <td>...</td>\n",
       "      <td>...</td>\n",
       "      <td>...</td>\n",
       "      <td>...</td>\n",
       "      <td>...</td>\n",
       "      <td>...</td>\n",
       "      <td>...</td>\n",
       "    </tr>\n",
       "    <tr>\n",
       "      <th>1481</th>\n",
       "      <td>15.705666</td>\n",
       "      <td>16.456718</td>\n",
       "      <td>64.467751</td>\n",
       "      <td>65.243744</td>\n",
       "      <td>15.620000</td>\n",
       "      <td>15.436</td>\n",
       "      <td>68.849998</td>\n",
       "      <td>68.378000</td>\n",
       "    </tr>\n",
       "    <tr>\n",
       "      <th>1482</th>\n",
       "      <td>15.732164</td>\n",
       "      <td>16.519676</td>\n",
       "      <td>64.771950</td>\n",
       "      <td>65.516548</td>\n",
       "      <td>15.750000</td>\n",
       "      <td>15.508</td>\n",
       "      <td>68.940002</td>\n",
       "      <td>68.600000</td>\n",
       "    </tr>\n",
       "    <tr>\n",
       "      <th>1483</th>\n",
       "      <td>15.778039</td>\n",
       "      <td>16.580326</td>\n",
       "      <td>65.065720</td>\n",
       "      <td>65.783638</td>\n",
       "      <td>15.900000</td>\n",
       "      <td>15.594</td>\n",
       "      <td>69.449997</td>\n",
       "      <td>68.814000</td>\n",
       "    </tr>\n",
       "    <tr>\n",
       "      <th>1484</th>\n",
       "      <td>15.843944</td>\n",
       "      <td>16.645281</td>\n",
       "      <td>65.375580</td>\n",
       "      <td>66.065941</td>\n",
       "      <td>16.070000</td>\n",
       "      <td>15.768</td>\n",
       "      <td>69.699997</td>\n",
       "      <td>69.015999</td>\n",
       "    </tr>\n",
       "    <tr>\n",
       "      <th>1485</th>\n",
       "      <td>15.933247</td>\n",
       "      <td>16.714508</td>\n",
       "      <td>65.695297</td>\n",
       "      <td>66.360336</td>\n",
       "      <td>16.139999</td>\n",
       "      <td>15.896</td>\n",
       "      <td>70.790001</td>\n",
       "      <td>69.545999</td>\n",
       "    </tr>\n",
       "  </tbody>\n",
       "</table>\n",
       "<p>1486 rows × 8 columns</p>\n",
       "</div>"
      ],
      "text/plain": [
       "      Predictions_value_0  Predictions_value_1  Predictions_value_2  \\\n",
       "0                8.085392            10.033134            41.500206   \n",
       "1                8.087367            10.064678            41.618053   \n",
       "2                8.084251            10.078358            41.664745   \n",
       "3                8.082008            10.086013            41.689228   \n",
       "4                8.060066            10.068881            41.603394   \n",
       "...                   ...                  ...                  ...   \n",
       "1481            15.705666            16.456718            64.467751   \n",
       "1482            15.732164            16.519676            64.771950   \n",
       "1483            15.778039            16.580326            65.065720   \n",
       "1484            15.843944            16.645281            65.375580   \n",
       "1485            15.933247            16.714508            65.695297   \n",
       "\n",
       "      Predictions_value_3  Actual_value_0  Actual_value_1  Actual_value_2  \\\n",
       "0               44.923557        7.770000           7.867       48.685001   \n",
       "1               45.038040        7.760000           7.828       48.139999   \n",
       "2               45.092293        7.800000           7.810       48.549999   \n",
       "3               45.127209        7.660000           7.765       47.240002   \n",
       "4               45.073303        7.745000           7.747       46.799999   \n",
       "...                   ...             ...             ...             ...   \n",
       "1481            65.243744       15.620000          15.436       68.849998   \n",
       "1482            65.516548       15.750000          15.508       68.940002   \n",
       "1483            65.783638       15.900000          15.594       69.449997   \n",
       "1484            66.065941       16.070000          15.768       69.699997   \n",
       "1485            66.360336       16.139999          15.896       70.790001   \n",
       "\n",
       "      Actual_value_3  \n",
       "0          49.127001  \n",
       "1          48.855001  \n",
       "2          48.646001  \n",
       "3          48.264001  \n",
       "4          47.883000  \n",
       "...              ...  \n",
       "1481       68.378000  \n",
       "1482       68.600000  \n",
       "1483       68.814000  \n",
       "1484       69.015999  \n",
       "1485       69.545999  \n",
       "\n",
       "[1486 rows x 8 columns]"
      ]
     },
     "execution_count": 58,
     "metadata": {},
     "output_type": "execute_result"
    }
   ],
   "source": [
    "data_frame_1=pd.DataFrame(data={\"Predictions_value_0\":predict[:,0],'Predictions_value_1':predict[:,1],\"Predictions_value_2\":predict[:,2],\"Predictions_value_3\":predict[:,3],'Actual_value_0':actual_data[:,0],'Actual_value_1':actual_data[:,1],'Actual_value_2':actual_data[:,2],'Actual_value_3':actual_data[:,3]})\n",
    "data_frame_1"
   ]
  },
  {
   "cell_type": "code",
   "execution_count": 61,
   "id": "a93d6c6a",
   "metadata": {},
   "outputs": [
    {
     "data": {
      "text/plain": [
       "<Axes: >"
      ]
     },
     "execution_count": 61,
     "metadata": {},
     "output_type": "execute_result"
    },
    {
     "data": {
      "image/png": "[encoded data removed]",
      "text/plain": [
       "<Figure size 1600x400 with 1 Axes>"
      ]
     },
     "metadata": {},
     "output_type": "display_data"
    }
   ],
   "source": [
    "data_frame.plot(figsize=(16,4))"
   ]
  },
  {
   "cell_type": "code",
   "execution_count": 62,
   "id": "e809a2f2",
   "metadata": {},
   "outputs": [
    {
     "data": {
      "text/html": [
       "<div>\n",
       "<style scoped>\n",
       "    .dataframe tbody tr th:only-of-type {\n",
       "        vertical-align: middle;\n",
       "    }\n",
       "\n",
       "    .dataframe tbody tr th {\n",
       "        vertical-align: top;\n",
       "    }\n",
       "\n",
       "    .dataframe thead th {\n",
       "        text-align: right;\n",
       "    }\n",
       "</style>\n",
       "<table border=\"1\" class=\"dataframe\">\n",
       "  <thead>\n",
       "    <tr style=\"text-align: right;\">\n",
       "      <th></th>\n",
       "      <th>Predictions_value_0</th>\n",
       "      <th>Actual_value_0</th>\n",
       "    </tr>\n",
       "  </thead>\n",
       "  <tbody>\n",
       "    <tr>\n",
       "      <th>0</th>\n",
       "      <td>0.059470</td>\n",
       "      <td>0.043094</td>\n",
       "    </tr>\n",
       "    <tr>\n",
       "      <th>1</th>\n",
       "      <td>0.059573</td>\n",
       "      <td>0.042575</td>\n",
       "    </tr>\n",
       "    <tr>\n",
       "      <th>2</th>\n",
       "      <td>0.059411</td>\n",
       "      <td>0.044652</td>\n",
       "    </tr>\n",
       "    <tr>\n",
       "      <th>3</th>\n",
       "      <td>0.059294</td>\n",
       "      <td>0.037383</td>\n",
       "    </tr>\n",
       "    <tr>\n",
       "      <th>4</th>\n",
       "      <td>0.058155</td>\n",
       "      <td>0.041796</td>\n",
       "    </tr>\n",
       "    <tr>\n",
       "      <th>...</th>\n",
       "      <td>...</td>\n",
       "      <td>...</td>\n",
       "    </tr>\n",
       "    <tr>\n",
       "      <th>1481</th>\n",
       "      <td>0.455123</td>\n",
       "      <td>0.450675</td>\n",
       "    </tr>\n",
       "    <tr>\n",
       "      <th>1482</th>\n",
       "      <td>0.456499</td>\n",
       "      <td>0.457425</td>\n",
       "    </tr>\n",
       "    <tr>\n",
       "      <th>1483</th>\n",
       "      <td>0.458881</td>\n",
       "      <td>0.465213</td>\n",
       "    </tr>\n",
       "    <tr>\n",
       "      <th>1484</th>\n",
       "      <td>0.462302</td>\n",
       "      <td>0.474039</td>\n",
       "    </tr>\n",
       "    <tr>\n",
       "      <th>1485</th>\n",
       "      <td>0.466939</td>\n",
       "      <td>0.477674</td>\n",
       "    </tr>\n",
       "  </tbody>\n",
       "</table>\n",
       "<p>1486 rows × 2 columns</p>\n",
       "</div>"
      ],
      "text/plain": [
       "      Predictions_value_0  Actual_value_0\n",
       "0                0.059470        0.043094\n",
       "1                0.059573        0.042575\n",
       "2                0.059411        0.044652\n",
       "3                0.059294        0.037383\n",
       "4                0.058155        0.041796\n",
       "...                   ...             ...\n",
       "1481             0.455123        0.450675\n",
       "1482             0.456499        0.457425\n",
       "1483             0.458881        0.465213\n",
       "1484             0.462302        0.474039\n",
       "1485             0.466939        0.477674\n",
       "\n",
       "[1486 rows x 2 columns]"
      ]
     },
     "execution_count": 62,
     "metadata": {},
     "output_type": "execute_result"
    }
   ],
   "source": [
    "data_frame_2=pd.DataFrame(data={\"Predictions_value_0\":pred[:,0],'Actual_value_0':y_test[:,0]})\n",
    "data_frame_2"
   ]
  },
  {
   "cell_type": "code",
   "execution_count": 65,
   "id": "dea5a6ce",
   "metadata": {},
   "outputs": [
    {
     "data": {
      "text/plain": [
       "<Axes: >"
      ]
     },
     "execution_count": 65,
     "metadata": {},
     "output_type": "execute_result"
    },
    {
     "data": {
      "image/png": "[encoded data removed]",
      "text/plain": [
       "<Figure size 1600x400 with 1 Axes>"
      ]
     },
     "metadata": {},
     "output_type": "display_data"
    }
   ],
   "source": [
    "data_frame[:100].plot(figsize=(16,4))"
   ]
  },
  {
   "cell_type": "code",
   "execution_count": null,
   "id": "d2e20deb",
   "metadata": {},
   "outputs": [],
   "source": []
  }
 ],
 "metadata": {
  "kernelspec": {
   "display_name": "Python 3 (ipykernel)",
   "language": "python",
   "name": "python3"
  },
  "language_info": {
   "codemirror_mode": {
    "name": "ipython",
    "version": 3
   },
   "file_extension": ".py",
   "mimetype": "text/x-python",
   "name": "python",
   "nbconvert_exporter": "python",
   "pygments_lexer": "ipython3",
   "version": "3.11.4"
  }
 },
 "nbformat": 4,
 "nbformat_minor": 5
}
